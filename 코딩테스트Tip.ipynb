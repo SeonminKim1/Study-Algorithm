{
 "cells": [
  {
   "cell_type": "markdown",
   "metadata": {},
   "source": [
    "## 코테 Python Tip\n",
    "\n",
    "### 1. 입력값 받기 \n",
    "- input() : \n",
    "    - ex) num = int(input())\n",
    "- sys.stdin.readline을 사용\n",
    "    - rstrip 꼭 붙여서 사용하기 (엔터가 줄바꿈 기호로 입력 되는 것을 방지\n",
    "    - ex) num = int(sys.stdin.readline().rstrip()) \n",
    "\n",
    "### 2. 입력값 받기 심화\n",
    "- a = [sys.stdin.readline() for i in range(n)]\n",
    "- a = list(map(int, input().split()) \n",
    "\n",
    "### 3. 이중배열 초기화\n",
    "- [[0]*m for _ in range(n)]\n",
    "\n",
    "### 4. 실수 지수부/계산\n",
    "- e다음은 지수부를 뜻함\n",
    "- 1e9 = 10억 (오타 줄일 수 있음)\n",
    "- 0.3 + 0.6 = 0.899 ==> 실수 소숫점 값 비교시 round() 함수 이용\n",
    "\n",
    "### 5. 재귀 함수 recursive limit 설정\n",
    "- python3 의 경우 사용가능 / pypy에서는 사용 불가\n",
    "- sys.setrecursionlimit(10**8) # 10^8 까지 늘림.\n",
    "\n",
    "### 6. 함수 복잡도\n",
    "- 리스트\n",
    "    - append() : O(1) \n",
    "    - sort() : O(Nlog(N))\n",
    "    - reverse(), insert(), count(), remove() : O(N)\n",
    "- 사전\n",
    "    - 해시 테이블이라 검색 및 수정시 O(1)\n",
    "    "
   ]
  },
  {
   "cell_type": "markdown",
   "metadata": {},
   "source": [
    "<hr>"
   ]
  },
  {
   "cell_type": "markdown",
   "metadata": {},
   "source": [
    "## 리스트 차이 구하기"
   ]
  },
  {
   "cell_type": "code",
   "execution_count": 32,
   "metadata": {},
   "outputs": [
    {
     "data": {
      "text/plain": [
       "[1, 2, 4]"
      ]
     },
     "execution_count": 32,
     "metadata": {},
     "output_type": "execute_result"
    }
   ],
   "source": [
    "a = [1,2,3,4,5,5,5]\n",
    "remove_set = [3,5]\n",
    "\n",
    "[i for i in a if i not in remove_set ]"
   ]
  },
  {
   "cell_type": "markdown",
   "metadata": {},
   "source": [
    "## 튜플 자료형\n",
    "- 한 번 선언된 값은 변경 불가\n",
    "- 그래프 알고리즘 구현시 자주 사용\n",
    "- ex) 다익스트라 최단 경로 알고리즘에서 서로 다른 성질의 데이터를 (비용, 노드번호)의 형태로 함께 튜플로 묶어서 관리\n"
   ]
  },
  {
   "cell_type": "markdown",
   "metadata": {},
   "source": [
    "## 집합 (Set) 연산\n",
    "- 차집합, 합집합, 교집합 등은 Set으로 !"
   ]
  },
  {
   "cell_type": "code",
   "execution_count": 33,
   "metadata": {},
   "outputs": [
    {
     "name": "stdout",
     "output_type": "stream",
     "text": [
      "합집합: {1, 2, 3, 4, 5, 6, 7} {1, 2, 3, 4, 5, 6, 7}\n",
      "교집합: {3, 4, 5} set()\n",
      "차집합: {1, 2} {6, 7}\n",
      "대칭차집합: {1, 2, 6, 7}\n"
     ]
    }
   ],
   "source": [
    "a = set([1,2,3,4,5])\n",
    "b = set([3,4,5,6,7])\n",
    "\n",
    "print('합집합:', a|b, set().union(a,b))\n",
    "print('교집합:', a&b, set().intersection(a,b))\n",
    "print('차집합:', a-b, b.difference(a))\n",
    "print('대칭차집합:', a.symmetric_difference(b))"
   ]
  },
  {
   "cell_type": "markdown",
   "metadata": {},
   "source": [
    "## 파이썬 들여쓰기\n",
    "- 띄어쓰기 4번 (표준)\n",
    "- Tab\n"
   ]
  },
  {
   "cell_type": "markdown",
   "metadata": {},
   "source": [
    "## 주요 라이브러리 문법과 유의점\n",
    "- 내장 함수 : print(), input(), sorted(), math()\n",
    "- itertools : 순열, 조합 라이브러리\n",
    "- heapq : 힙 기능 제공, 우선순위 큐 기능 구현 목적 사용\n",
    "- collections : 덱(deque), 카운터(Counter) 등의 유용한 자료 구조 포함 라이브러리"
   ]
  },
  {
   "cell_type": "markdown",
   "metadata": {},
   "source": [
    "## itertools (순열, 조합)\n",
    "- 순열 : iterable 객체에서 r개의 데이터를 뽑아 일렬로 나열하는 모든 순열 계산\n",
    "- 조합 : iterable 객체에서 r개의 데이터를 뽑아 순서 고려 없이 나열하는 조합 계산\n",
    "- product : iterable 객체에서 r개의 데이터를 중복으로 뽑아 일렬로 나열하는 모든 순열 계산"
   ]
  },
  {
   "cell_type": "code",
   "execution_count": 24,
   "metadata": {},
   "outputs": [
    {
     "name": "stdout",
     "output_type": "stream",
     "text": [
      "순열:  [('A', 'B', 'C'), ('A', 'C', 'B'), ('B', 'A', 'C'), ('B', 'C', 'A'), ('C', 'A', 'B'), ('C', 'B', 'A')]\n",
      "조합:  [('A', 'B'), ('A', 'C'), ('B', 'C')]\n",
      "원소중복순열 :  [('A', 'A'), ('A', 'B'), ('A', 'C'), ('B', 'A'), ('B', 'B'), ('B', 'C'), ('C', 'A'), ('C', 'B'), ('C', 'C')]\n"
     ]
    }
   ],
   "source": [
    "from itertools import permutations, combinations, product\n",
    "\n",
    "data = ['A','B','C']\n",
    "result1 = list(permutations(data, 3)) # 순서가 다르면 서로 다름\n",
    "result2 = list(combinations(data, 2)) # 순서가 다르면 서로 같음\n",
    "result3 = list(product(data, repeat=2)) # 원소 중복 추출\n",
    "# result4 = list(permutations(data, 3))\n",
    "\n",
    "print('순열: ', result1)\n",
    "print('조합: ', result2)\n",
    "print('원소중복순열 : ', result3)"
   ]
  },
  {
   "cell_type": "markdown",
   "metadata": {},
   "source": [
    "##  heapq\n",
    "- heapq는 넣다가 빼는것만으로도 O(NlogN) 정렬됨. (=sort())\n",
    "- 다익스트라 최단 경로 알고리즘에서 우선순위 큐 기능 구현에 자주 사용\n",
    "- PriorityQueue 라이브러리보다 빠름."
   ]
  },
  {
   "cell_type": "markdown",
   "metadata": {},
   "source": [
    "## collections\n",
    "### deque (큐 전용 라이브러리, queue 라이브러리 x), \n",
    "- popleft(), pop() : 첫번째/마지막 원소 제거\n",
    "- appendleft(), append() : 첫번째/마지막 원소 추가\n",
    "- vs 리스트 : deque는 모두 O(0), 리스트는 첫번째 추가/제거 시 O(N), 뒤 추가/제거시 O(1)\n",
    "\n",
    "### Counter\n",
    "- iterable의 원소별 등장 횟수 계산 라이브러리"
   ]
  },
  {
   "cell_type": "code",
   "execution_count": 34,
   "metadata": {},
   "outputs": [
    {
     "name": "stdout",
     "output_type": "stream",
     "text": [
      "0: deque([2, 3, 4])\n",
      "1: deque([2, 3, 4, 5])\n",
      "2: deque([1, 2, 3, 4, 5])\n",
      "3: deque([1, 2, 3, 4])\n",
      "4: deque([2, 3, 4])\n"
     ]
    }
   ],
   "source": [
    "from collections import deque\n",
    "data = deque([2,3,4])\n",
    "print('0:', data)\n",
    "data.append(5); print('1:', data)\n",
    "data.appendleft(1); print('2:', data)\n",
    "data.pop(); print('3:', data)\n",
    "data.popleft(); print('4:', data)"
   ]
  },
  {
   "cell_type": "code",
   "execution_count": 35,
   "metadata": {},
   "outputs": [
    {
     "name": "stdout",
     "output_type": "stream",
     "text": [
      "Counter({'a': 4, 'b': 2, 'c': 2})\n",
      "4\n"
     ]
    }
   ],
   "source": [
    "from collections import Counter\n",
    "ls = ['a','b','c','a','a','b','c','a']\n",
    "counter = Counter(ls)\n",
    "print(counter)\n",
    "print(counter['a'])"
   ]
  },
  {
   "cell_type": "markdown",
   "metadata": {},
   "source": [
    "## Math\n",
    "### 최대공약수 (gcd)\n"
   ]
  },
  {
   "cell_type": "code",
   "execution_count": 36,
   "metadata": {},
   "outputs": [
    {
     "name": "stdout",
     "output_type": "stream",
     "text": [
      "최대공약수: 2\n"
     ]
    }
   ],
   "source": [
    "import math\n",
    "print('최대공약수:', math.gcd(4,6))"
   ]
  },
  {
   "cell_type": "markdown",
   "metadata": {},
   "source": [
    "<hr>"
   ]
  },
  {
   "cell_type": "markdown",
   "metadata": {},
   "source": [
    "## Pypi vs Python3\n",
    "\n",
    "## 컴파일 vs 인터프리터\n",
    "- 컴파일 언어 : 소스 코드를 기계어로 컴파일 -> 실행파일 만듬 -> 실행\n",
    "- 인터프리터 언어 : 코드를 한줄씩 읽어 가며 실행\n",
    "- 장점 : 수정상황 발생시, 소스 전체를 컴파일 할 필요 없이, 코드 수정 후 바로 실행\n",
    "\n",
    "## Cpython\n",
    "- Cpython은 python의 원본 C 구현체로 인터프리터이면서 컴파일러\n",
    "- 컴파일 하며 bytecode로 바꿈 (.py => .pyc)\n",
    "- 인터프리터(가장 머신)가 실행 (.pyc를 interpret 함)\n",
    "\n",
    "## Pypi\n",
    "- Python 자체로 구현\n",
    "- JIT(Just In Time) 컴파일 도입하여 CPython 보다 빠름\n",
    "- JIT 컴파일 : \n",
    "    - 프로그램 실행 전 컴파일 대신, 실행 시점에 필요한 부분을 즉석 컴파일하는 방식\n",
    "    - 인터프리터 언어 성능 향상 목적 / 자주 쓰이는 코드 캐싱"
   ]
  }
 ],
 "metadata": {
  "kernelspec": {
   "display_name": "Python 3",
   "language": "python",
   "name": "python3"
  },
  "language_info": {
   "codemirror_mode": {
    "name": "ipython",
    "version": 3
   },
   "file_extension": ".py",
   "mimetype": "text/x-python",
   "name": "python",
   "nbconvert_exporter": "python",
   "pygments_lexer": "ipython3",
   "version": "3.8.5"
  }
 },
 "nbformat": 4,
 "nbformat_minor": 4
}
