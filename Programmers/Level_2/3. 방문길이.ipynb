{
 "cells": [
  {
   "cell_type": "markdown",
   "metadata": {},
   "source": [
    "## 방문길이\n",
    "- https://programmers.co.kr/learn/courses/30/lessons/49994"
   ]
  },
  {
   "cell_type": "code",
   "execution_count": 18,
   "metadata": {},
   "outputs": [
    {
     "data": {
      "text/plain": [
       "7.0"
      ]
     },
     "execution_count": 18,
     "metadata": {},
     "output_type": "execute_result"
    }
   ],
   "source": [
    "# 캐릭터가 처음 걸어본 길을 구하자 (반대도 생각)\n",
    "\n",
    "def solution(dirs): # DIRS : \n",
    "    answer = 0\n",
    "    dirs = list(dirs)\n",
    "    \n",
    "    # 방문여부\n",
    "    steps = ['U', 'D', 'R', 'L']\n",
    "    dx = [0, 0, 1, -1]\n",
    "    dy = [1, -1, 0, 0]\n",
    "    now_x, now_y = 0, 0\n",
    "    ls = set()\n",
    "\n",
    "    # input 방향 순서\n",
    "    for arrow in dirs: # dirs\n",
    "        # 4방향 중 어느방향인지\n",
    "        for i in range(0, len(steps)):\n",
    "            if steps[i] == arrow:\n",
    "                new_x = now_x + dx[i]\n",
    "                new_y = now_y + dy[i]\n",
    "    \n",
    "        # 범위 벗어낫는지 체크\n",
    "        if new_x < -5 or new_y <-5 or new_x > 5 or new_y > 5:\n",
    "            continue\n",
    "\n",
    "        # 왔던 길인지 체크 (역방향도 체크)\n",
    "        k1 = (now_x, now_y, new_x, new_y)\n",
    "        k2 = (new_x, new_y, now_x, now_y)\n",
    "\n",
    "        if k1 in ls:\n",
    "            pass\n",
    "        else:\n",
    "            ls.add(k1)\n",
    "            ls.add(k2)\n",
    "\n",
    "        # move 반영\n",
    "        now_x, now_y = new_x, new_y        \n",
    "    return len(ls) / 2\n",
    "\n",
    "solution('ULURRDLLU')"
   ]
  }
 ],
 "metadata": {
  "kernelspec": {
   "display_name": "Python 3",
   "language": "python",
   "name": "python3"
  },
  "language_info": {
   "codemirror_mode": {
    "name": "ipython",
    "version": 3
   },
   "file_extension": ".py",
   "mimetype": "text/x-python",
   "name": "python",
   "nbconvert_exporter": "python",
   "pygments_lexer": "ipython3",
   "version": "3.7.5"
  }
 },
 "nbformat": 4,
 "nbformat_minor": 4
}
