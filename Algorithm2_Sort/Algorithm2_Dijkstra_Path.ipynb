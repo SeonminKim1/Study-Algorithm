{
 "cells": [
  {
   "cell_type": "code",
   "execution_count": 4,
   "metadata": {},
   "outputs": [
    {
     "name": "stdout",
     "output_type": "stream",
     "text": [
      "[[1, 'C'], [5, 'B'], [2, 'A'], [7, 'D']]\n",
      "[1, 'C']\n",
      "[2, 'A']\n",
      "[5, 'B']\n",
      "[7, 'D']\n"
     ]
    }
   ],
   "source": [
    "# 다익스트라 알고리즘\n",
    "# heapq라이브러리 활용을 통해 우선순위 큐 사용\n",
    "# 데이터는 섞어서 들어가지만 pop()을 할때마다 값이 가장 작은 것들이 추출됨.\n",
    "\n",
    "# heapq를 통해 우선순위큐를 구해보기\n",
    "import heapq\n",
    "queue = []\n",
    "\n",
    "heapq.heappush(queue, [2, 'A'])\n",
    "heapq.heappush(queue, [5, 'B'])\n",
    "heapq.heappush(queue, [1, 'C'])\n",
    "heapq.heappush(queue, [7, 'D'])\n",
    "print(queue)\n",
    "\n",
    "for i in range(len(queue)):\n",
    "    print(heapq.heappop(queue))\n"
   ]
  },
  {
   "cell_type": "code",
   "execution_count": 15,
   "metadata": {},
   "outputs": [],
   "source": [
    "# graph 선언\n",
    "mygraph = {\n",
    "    'A':{'B':8, 'C':1, 'D':2},\n",
    "    'B':{},\n",
    "    'C':{'B':5, 'D':2},\n",
    "    'D':{'E':3, 'F':5},\n",
    "    'E':{'F':1},\n",
    "    'F':{'A':5}\n",
    "}"
   ]
  },
  {
   "cell_type": "markdown",
   "metadata": {},
   "source": [
    "<img src=\"https://www.fun-coding.org/00_Images/dijkstra.png\" width=300>"
   ]
  },
  {
   "cell_type": "code",
   "execution_count": 17,
   "metadata": {},
   "outputs": [
    {
     "data": {
      "text/plain": [
       "{'A': 0, 'B': 6, 'C': 1, 'D': 2, 'E': 5, 'F': 6}"
      ]
     },
     "execution_count": 17,
     "metadata": {},
     "output_type": "execute_result"
    }
   ],
   "source": [
    "# 다익스트라 (1) 기준점에서 각 점까지의 최소 거리\n",
    "import heapq\n",
    "\n",
    "def dijkstra(graph, start):\n",
    "    # inf는 무한대를 숫자로 표현하는 것\n",
    "    # 거리 배열 선언.및 모든 노드 \n",
    "    distances = {node: float('inf') for node in graph}\n",
    "    distances[start] = 0\n",
    "    \n",
    "    # 우선순위큐 (접근해야될 큐 들) \n",
    "    queue = []\n",
    "    \n",
    "    # heappush로 \n",
    "    heapq.heappush(queue, [distances[start], start])\n",
    "    \n",
    "    # 큐에 값이 존재할때까지\n",
    "    while queue:\n",
    "        # 뺸거 저장\n",
    "        current_distance, current_node = heapq.heappop(queue)\n",
    "        \n",
    "        # 만약 이미 배열에 기록된 거리가 해당 고유 거리보다 작을 때 연산x\n",
    "        if distances[current_node] < current_distance:\n",
    "            continue\n",
    "            \n",
    "        for adjacent, weight in graph[current_node].items():\n",
    "            distance = current_distance + weight\n",
    "            \n",
    "            # 최단거리를 발견했을 때\n",
    "            if distance < distances[adjacent]:\n",
    "                distances[adjacent] = distance\n",
    "                heapq.heappush(queue, [distance, adjacent])\n",
    "    # 각 점까지 가는데 걸리는 최소 거리 배열\n",
    "    return distances\n",
    "dijkstra(mygraph, 'A')"
   ]
  },
  {
   "cell_type": "code",
   "execution_count": 19,
   "metadata": {},
   "outputs": [
    {
     "name": "stdout",
     "output_type": "stream",
     "text": [
      "F->E->D->A\n",
      "{'A': [0, 'A'], 'B': [6, 'C'], 'C': [1, 'A'], 'D': [2, 'A'], 'E': [5, 'D'], 'F': [6, 'E']}\n"
     ]
    }
   ],
   "source": [
    "# 다익스트라 (2) 경로 표시\n",
    "import heapq\n",
    "\n",
    "# 탐색할 그래프와 시작 정점을 인수로 전달받습니다.\n",
    "def dijkstra(graph, start, end):\n",
    "    # 시작 정점에서 각 정점까지의 거리를 저장할 딕셔너리를 생성하고, 무한대(inf)로 초기화합니다.\n",
    "    distances = {vertex: [float('inf'), start] for vertex in graph}\n",
    "\n",
    "    # 그래프의 시작 정점의 거리는 0으로 초기화 해줌\n",
    "    distances[start] = [0, start]\n",
    "\n",
    "    # 모든 정점이 저장될 큐를 생성합니다.\n",
    "    queue = []\n",
    "\n",
    "    # 그래프의 시작 정점과 시작 정점의 거리(0)을 최소힙에 넣어줌\n",
    "    heapq.heappush(queue, [distances[start][0], start])\n",
    "\n",
    "    while queue:\n",
    "        \n",
    "        # 큐에서 정점을 하나씩 꺼내 인접한 정점들의 가중치를 모두 확인하여 업데이트합니다.\n",
    "        current_distance, current_vertex = heapq.heappop(queue)\n",
    "        \n",
    "        # 더 짧은 경로가 있다면 무시한다.\n",
    "        if distances[current_vertex][0] < current_distance:\n",
    "            continue\n",
    "            \n",
    "        for adjacent, weight in graph[current_vertex].items():\n",
    "            distance = current_distance + weight\n",
    "            # 만약 시작 정점에서 인접 정점으로 바로 가는 것보다 현재 정점을 통해 가는 것이 더 가까울 경우에는\n",
    "            if distance < distances[adjacent][0]:\n",
    "                \n",
    "                # 거리를 업데이트합니다.\n",
    "                distances[adjacent] = [distance, current_vertex]\n",
    "                heapq.heappush(queue, [distance, adjacent])\n",
    "    \n",
    "    path = end\n",
    "    path_output = end + '->'\n",
    "    while distances[path][1] != start:\n",
    "        path_output += distances[path][1] + '->'\n",
    "        path = distances[path][1]\n",
    "    path_output += start\n",
    "    print (path_output)\n",
    "    return distances\n",
    "\n",
    "# 방향 그래프\n",
    "mygraph = {\n",
    "    'A': {'B': 8, 'C': 1, 'D': 2},\n",
    "    'B': {},\n",
    "    'C': {'B': 5, 'D': 2},\n",
    "    'D': {'E': 3, 'F': 5},\n",
    "    'E': {'F': 1},\n",
    "    'F': {'A': 5}\n",
    "}\n",
    "\n",
    "print(dijkstra(mygraph, 'A', 'F'))"
   ]
  },
  {
   "cell_type": "markdown",
   "metadata": {},
   "source": [
    "### 시간 복잡도\n",
    "- 위 다익스트라 알고리즘은 크게 다음 두 가지 과정을 거침\n",
    "  - 과정1: 각 노드마다 인접한 간선들을 모두 검사하는 과정\n",
    "  - 과정2: 우선순위 큐에 노드/거리 정보를 넣고 삭제(pop)하는 과정\n",
    "  \n",
    "- 각 과정별 시간 복잡도\n",
    "  - 과정1: 각 노드는 최대 한 번씩 방문하므로 (첫 노드와 해당 노드간의 갈 수 있는 루트가 있는 경우만 해당), 그래프의 모든 간선은 최대 한 번씩 검사\n",
    "    - 즉, 각 노드마다 인접한 간선들을 모두 검사하는 과정은 O(E) 시간이 걸림, E 는 간선(edge)의 약자\n",
    "\n",
    "  - 과정2: 우선순위 큐에 가장 많은 노드, 거리 정보가 들어가는 경우, 우선순위 큐에 노드/거리 정보를 넣고, 삭제하는 과정이 최악의 시간이 걸림\n",
    "    - 우선순위 큐에 가장 많은 노드, 거리 정보가 들어가는 시나리오는 그래프의 모든 간선이 검사될 때마다, 배열의 최단 거리가 갱신되고, 우선순위 큐에 노드/거리가 추가되는 것임\n",
    "    - 이 때 추가는 각 간선마다 최대 한 번 일어날 수 있으므로, 최대 O(E)의 시간이 걸리고, O(E) 개의 노드/거리 정보에 대해 우선순위 큐를 유지하는 작업은 $ O(log{E}) $ 가 걸림\n",
    "      - 따라서 해당 과정의 시간 복잡도는 $ O(Elog{E}) $ \n",
    "    \n",
    "### 총 시간 복잡도\n",
    "  - 과정1 + 과정2 = O(E) + $ O(Elog{E}) $  = $ O(E + Elog{E}) = O(Elog{E}) $\n",
    "  \n",
    "### 참고: 힙의 시간 복잡도\n",
    "- depth (트리의 높이) 를 h라고 표기한다면,\n",
    "- n개의 노드를 가지는 heap 에 데이터 삽입 또는 삭제시, 최악의 경우 root 노드에서 leaf 노드까지 비교해야 하므로  h=log2n  에 가까우므로, 시간 복잡도는  O(logn)"
   ]
  }
 ],
 "metadata": {
  "kernelspec": {
   "display_name": "Python 3",
   "language": "python",
   "name": "python3"
  },
  "language_info": {
   "codemirror_mode": {
    "name": "ipython",
    "version": 3
   },
   "file_extension": ".py",
   "mimetype": "text/x-python",
   "name": "python",
   "nbconvert_exporter": "python",
   "pygments_lexer": "ipython3",
   "version": "3.8.5"
  }
 },
 "nbformat": 4,
 "nbformat_minor": 2
}
