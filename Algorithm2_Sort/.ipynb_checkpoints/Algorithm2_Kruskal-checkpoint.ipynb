{
 "cells": [
  {
   "cell_type": "markdown",
   "metadata": {},
   "source": [
    "# 신장 트리 (Spanning Tree)\n",
    "- 모든 노드가 연결되어 있으면서 트리의 속성을 만족하는 그래프\n",
    "- 신장 트리의 조건\n",
    "  - 본래의 그래프의 모든 노드를 포함해야 함\n",
    "  - 트리의 속성을 만족시킴 (사이클이 존재하지 않음)\n",
    "  \n",
    "<img src=\"https://www.fun-coding.org/00_Images/spanningtree.png\">\n",
    "\n",
    "### 최소 신장 트리 \n",
    "- Minimum Spanning Tree, MST 라고 불리움\n",
    "- 가능한 Spanning Tree 중에서, 간선의 가중치 합이 최소인 Spanning Tree를 지칭\n",
    "- 대표적인 최소 신장 트리 알고리즘\n",
    "  - Kruskal’s algorithm (크루스칼 알고리즘), Prim's algorithm (프림 알고리즘)\n",
    "  \n",
    "<img src=\"https://www.fun-coding.org/00_Images/mst.png\" width=600>"
   ]
  },
  {
   "cell_type": "markdown",
   "metadata": {},
   "source": [
    "### 크루스칼 알고리즘 (Kruskal's algorithm)\n",
    "1. 모든 정점을 독립적인 집합으로 만든다.\n",
    "2. 모든 간선을 비용을 기준으로 정렬하고, 비용이 작은 간선부터 양 끝의 두 정점을 비교한다.\n",
    "3. 두 정점의 최상위 정점을 확인하고, 서로 다를 경우 두 정점을 연결한다. (최소 신장 트리는 사이클이 없으므로, 사이클이 생기지 않도록 하는 것)\n",
    "\n",
    "> 탐욕 알고리즘을 기초로 하고 있음 (당장 눈 앞의 최소 비용을 선택해서, 결과적으로 최적의 솔루션을 찾음)\n",
    "<img src=\"https://www.fun-coding.org/00_Images/kruscal_internal1.png\" width=650>\n",
    "<img src=\"https://www.fun-coding.org/00_Images/kruscal_internal2.png\" width=800>"
   ]
  },
  {
   "cell_type": "code",
   "execution_count": 8,
   "metadata": {},
   "outputs": [
    {
     "name": "stdout",
     "output_type": "stream",
     "text": [
      "\n"
     ]
    },
    {
     "data": {
      "text/plain": [
       "[(5, 'A', 'D'),\n",
       " (5, 'C', 'E'),\n",
       " (6, 'D', 'F'),\n",
       " (7, 'A', 'B'),\n",
       " (7, 'B', 'E'),\n",
       " (9, 'E', 'G')]"
      ]
     },
     "execution_count": 8,
     "metadata": {},
     "output_type": "execute_result"
    }
   ],
   "source": [
    "mygraph = {\n",
    "    'vertices': ['A', 'B', 'C', 'D', 'E', 'F', 'G'],\n",
    "    'edges': [\n",
    "        (7, 'A', 'B'), (5, 'A', 'D'), (7, 'B', 'A'), (8, 'B', 'C'),\n",
    "        (9, 'B', 'D'), (7, 'B', 'E'), (8, 'C', 'B'), (5, 'C', 'E'),\n",
    "        (5, 'D', 'A'), (9, 'D', 'B'), (7, 'D', 'E'), (6, 'D', 'F'),\n",
    "        (7, 'E', 'B'), (5, 'E', 'C'), (7, 'E', 'D'), (8, 'E', 'F'),\n",
    "        (9, 'E', 'G'), (6, 'F', 'D'), (8, 'F', 'E'), (11, 'F', 'G'),\n",
    "        (9, 'G', 'E'), (11, 'G', 'F')\n",
    "    ]\n",
    "} 2\n",
    "\n",
    "print()\n",
    "parent=dict() # 각각의 노드마다 부모의 노드를 저장함\n",
    "rank=dict() # 각각의 노드의 랭크 번호\n",
    "\n",
    "# (0). 각각의 노드들을 초기화\n",
    "def make_set(node):\n",
    "    parent[node] = node\n",
    "    rank[node]=0\n",
    "    \n",
    "# (1) find\n",
    "def find(node):\n",
    "    # path compression : abcd 를 a->d로 만들어서 부모를 빠르게 찾아준다. \n",
    "    # 자기노드가 부모노드가 아닌 경우 (한개 밖에 없는 경우 아닐 때)\n",
    "    if parent[node] != node:\n",
    "        parent[node] = find(parent[node])\n",
    "    \n",
    "    # 즉 최종 부모 발견\n",
    "    return parent[node] \n",
    "\n",
    "# (2) union\n",
    "def union(node_v, node_u):\n",
    "    root1 = find(node_v)\n",
    "    root2 = find(node_u)\n",
    "    \n",
    "    # root1 이 더 높다면 root2의 parent를 root1로 합쳐준다.\n",
    "    if rank[root1] > rank[root2]:\n",
    "        parent[root2] = root1\n",
    "        \n",
    "    # root 가 동일하다면 or root2가 더 높다면.\n",
    "    # 한쪽을 올려줌\n",
    "    else:\n",
    "        parent[root1] = root2\n",
    "        \n",
    "        # 만약에 둘이 랭크가 같으면 하나 노드의 랭크를 올려줌\n",
    "        if rank[root1] == rank[root2]:\n",
    "            rank[root2]+= 1\n",
    "        \n",
    "\n",
    "def kruskal(graph):\n",
    "    # 연결된 간선 list\n",
    "    mst = list()\n",
    "    \n",
    "    # 1. 초기화\n",
    "    for node in graph['vertices']:\n",
    "        make_set(node)\n",
    "    \n",
    "    # 2. 간선 weight 기반 sorting\n",
    "    # 간선들 추출 후 정렬\n",
    "    edges = graph['edges']\n",
    "    edges.sort()\n",
    "    \n",
    "    # 3. 간선 연결 (사이클 없게)\n",
    "    # 간선 한개씩 비교\n",
    "    for edge in edges:\n",
    "        weight, node_v, node_u = edge\n",
    "        if find(node_v) != find(node_u): # 만약에 부모가 서로 같지않으면 서로 없으면\n",
    "            union(node_v, node_u) # 둘이 합쳐라\n",
    "            mst.append(edge)\n",
    "    \n",
    "    return mst # 간선의 list\n",
    "\n",
    "kruskal(mygraph)"
   ]
  },
  {
   "cell_type": "markdown",
   "metadata": {},
   "source": [
    "### 시간 복잡도\n",
    "- 크루스컬 알고리즘의 시간 복잡도는 O(E log E) !!!!\n",
    "- sorting하는 부분이 가장 오래걸림\n",
    "- 다음 단계에서 2번, 간선을 비용 기준으로 정렬하는 시간에 좌우됨 (즉 간선을 비용 기준으로 정렬하는 시간이 가장 큼)\n",
    "  1. 모든 정점을 독립적인 집합으로 만든다.\n",
    "  2. 모든 간선을 비용을 기준으로 정렬하고, 비용이 작은 간선부터 양 끝의 두 정점을 비교한다.\n",
    "     - 퀵소트를 사용한다면 시간 복잡도는 O(n log n) 이며, 간선이 n 이므로 O(E log E)\n",
    "  3. 두 정점의 최상위 정점을 확인하고, 서로 다를 경우 두 정점을 연결한다. (최소 신장 트리는 사이클이 없으므로, 사이클이 생기지 않도록 하는 것임)\n",
    "     - union-by-rank 와 path compression 기법 사용시 시간 복잡도가 결국 상수값에 가까움, O(1)\n",
    "\n",
    "<img src=\"https://www.fun-coding.org/00_Images/kruscal_time.png\">"
   ]
  }
 ],
 "metadata": {
  "kernelspec": {
   "display_name": "Python 3",
   "language": "python",
   "name": "python3"
  },
  "language_info": {
   "codemirror_mode": {
    "name": "ipython",
    "version": 3
   },
   "file_extension": ".py",
   "mimetype": "text/x-python",
   "name": "python",
   "nbconvert_exporter": "python",
   "pygments_lexer": "ipython3",
   "version": "3.7.5"
  }
 },
 "nbformat": 4,
 "nbformat_minor": 2
}
