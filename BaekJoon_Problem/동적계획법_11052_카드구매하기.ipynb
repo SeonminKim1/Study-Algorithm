{
 "cells": [
  {
   "cell_type": "markdown",
   "metadata": {},
   "source": [
    "# 11052번 - 카드구매하기\n",
    "- 카드의 갯수가 적은 팩이더라도 가격이 비싸면 높은 등급의 카드가 많이 들어있을 것이라는 미신을 믿는다.\n",
    "- 돈을 최대한 많이 지불해서 카드 N개 구매하려고 한다, 카드 i 개가 포함된 카드팩의 가격은 P원이다\n",
    "- ex) 카드팩 종류 4가지 => p1=1, p2=5, p3=6, p4=7 \n",
    "    - 카드 4개 갖기 위한 금액의 최댓값은 10원\n",
    "\n",
    "- ex2) 카드팩 종류 4가지 => p1=3, p2=5, p3=15, p4=16\n",
    "    - 카드 4개 갖기 위한 금액의 최댓값은 18\n",
    "    \n",
    "\n",
    "### 입력\n",
    "- 첫째 줄에 민규가 구매하려고 하는 카드의 개수 N이 주어진다. (1 ≤ N ≤ 1,000)\n",
    "\n",
    "- 둘째 줄에는 Pi가 P1부터 Pn까지 순서대로 주어진다. (1 ≤ Pi ≤ 10,000)\n",
    "\n",
    "- https://pacific-ocean.tistory.com/66"
   ]
  },
  {
   "cell_type": "code",
   "execution_count": 7,
   "metadata": {},
   "outputs": [
    {
     "name": "stdout",
     "output_type": "stream",
     "text": [
      "4\n",
      "1 5 6 7\n",
      "10\n"
     ]
    }
   ],
   "source": [
    "## 풀이법\n",
    "# 카드 1개 뽑을때 -> p1\n",
    "# 카드 2개 뽑을때 -> p2 / p1*2\n",
    "# 카드 3개 뽑을때 -> p3 / p2 + p1 / p1*3\n",
    "# 카드 4개 뽑을때 -> p4 / p3 + p1 / p2*2 / p1*4 \n",
    "\n",
    "# d[n]의 배열은 n개의 최댓값을 저장하는 배열\n",
    "# p의 배열은 입력을 받는 각각의 가격 \n",
    "# d[1] => 최댓값은 p[1]\n",
    "\n",
    "# \n",
    "# d[1] = p[1]\n",
    "# d[2] = d[1] + p[1] / d[0] + p[2]\n",
    "# d[3] = d[2] + p[1] / d[1] + p[2] / d[0] + p[3]\n",
    "# d[4] = d[3] + p[1] / d[2] + p[2] / d[1] + p[3] / d[0] + p[4]\n",
    "\n",
    "# 카드 갯수 n, 비용 p\n",
    "n = int(input())\n",
    "\n",
    "d = [0]*(n+1)\n",
    "p = [0] + list(map(int, input().split()))\n",
    "d[1] = p[1]\n",
    "\n",
    "# 2번째 최댓값부터 ~ n번쨰 최댓값까지 / n+1 은 range 때문에\n",
    "for i in range(2, n+1):\n",
    "    \n",
    "    # j는 하나씩 증가 d[i-j] 는 즉 감소\n",
    "    for j in range(1, i+1):\n",
    "        # max 값 찾기\n",
    "        if d[i] < d[i-j] + p[j]:\n",
    "            d[i] = d[i-j] + p[j]\n",
    "\n",
    "print(d[n])"
   ]
  }
 ],
 "metadata": {
  "kernelspec": {
   "display_name": "Python 3",
   "language": "python",
   "name": "python3"
  },
  "language_info": {
   "codemirror_mode": {
    "name": "ipython",
    "version": 3
   },
   "file_extension": ".py",
   "mimetype": "text/x-python",
   "name": "python",
   "nbconvert_exporter": "python",
   "pygments_lexer": "ipython3",
   "version": "3.7.5"
  }
 },
 "nbformat": 4,
 "nbformat_minor": 4
}
