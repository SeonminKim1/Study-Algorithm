{
 "cells": [
  {
   "cell_type": "markdown",
   "metadata": {},
   "source": [
    "## BAEKJOON Algorithm 2747번 피보나치 수\n",
    "- https://www.acmicpc.net/problem/2747\n",
    "\n",
    "\n",
    "### 문제\n",
    "- 시간제한 1초 메모리제한 128MB\n",
    "\n",
    "- 피보나치 수는 0과 1로 시작한다. 0번째 피보나치 수는 0이고, 1번째 피보나치 수는 1이다. 그 다음 2번째 부터는 바로 앞 두 피보나치 수의 합이 된다.\n",
    "\n",
    "- 이를 식으로 써보면 Fn = Fn-1 + Fn-2 (n>=2)가 된다.\n",
    "\n",
    "- n=17일때 까지 피보나치 수를 써보면 다음과 같다.\n",
    "\n",
    "- 0, 1, 1, 2, 3, 5, 8, 13, 21, 34, 55, 89, 144, 233, 377, 610, 987, 1597\n",
    "\n",
    "- n이 주어졌을 때, n번째 피보나치 수를 구하는 프로그램을 작성하시오.\n",
    "\n",
    "### 입력\n",
    "- 첫째 줄에 n이 주어진다. n은 45보다 작거나 같은 자연수이다.\n",
    "\n",
    "### 출력\n",
    "- 첫째 줄에 n번째 피보나치 수를 출력한다.\n",
    "\n",
    "### 예제 입력 및 출력\n",
    "- 입력 : 10\n",
    "- 출력 : 55\n",
    "\n",
    "###  피보나치 수열 : 재귀적 구현의 한계\n",
    "- 일반 재귀적 표현에서 반복적으로 호출되는 것들이 많음. ( 2^n)\n",
    "- 따라서 동적 방법을 이용하는 방법도 있고, 일반 반복문으로도 풀 수 있음. "
   ]
  },
  {
   "cell_type": "code",
   "execution_count": 2,
   "metadata": {},
   "outputs": [
    {
     "name": "stdout",
     "output_type": "stream",
     "text": [
      "10\n",
      "55\n"
     ]
    }
   ],
   "source": [
    "# 풀이\n",
    "n = int(input())\n",
    "\n",
    "a,b = 0,1\n",
    "\n",
    "while n>0:\n",
    "    a, b = b, a+b\n",
    "    n -= 1\n",
    "    \n",
    "print(a)\n"
   ]
  }
 ],
 "metadata": {
  "kernelspec": {
   "display_name": "Python 3",
   "language": "python",
   "name": "python3"
  },
  "language_info": {
   "codemirror_mode": {
    "name": "ipython",
    "version": 3
   },
   "file_extension": ".py",
   "mimetype": "text/x-python",
   "name": "python",
   "nbconvert_exporter": "python",
   "pygments_lexer": "ipython3",
   "version": "3.8.5"
  }
 },
 "nbformat": 4,
 "nbformat_minor": 4
}
