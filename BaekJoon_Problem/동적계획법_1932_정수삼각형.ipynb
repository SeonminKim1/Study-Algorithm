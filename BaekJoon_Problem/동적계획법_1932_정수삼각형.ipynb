{
 "cells": [
  {
   "cell_type": "markdown",
   "metadata": {},
   "source": [
    "## 1932 정수삼각형\n",
    "- 맨 위층 7부터 시작해서 아래에 있는 수 중 하나를 선택하여 아래층으로 내려 올 때 이제까지 선택된 수의 합이 최대가 되는 경로를 구하라\n",
    "- 삼각형의 크기는 1이상 500이하,\n",
    "\n",
    "### 입력\n",
    "- 첫째줄에 삼각형의 크기 n / 둘째줄부터 n+1번째 줄까지 정수삼각형이 주어짐\n",
    "\n",
    "### 출력\n",
    "- 첫째 줄에 합이 최대가 되는 경로에 있는 수의 합을 출력\n",
    "\n",
    "- ex\n",
    "    7\n",
    "    38\n",
    "    810\n",
    "    2744\n",
    "    45265"
   ]
  },
  {
   "cell_type": "code",
   "execution_count": 1,
   "metadata": {},
   "outputs": [
    {
     "name": "stdout",
     "output_type": "stream",
     "text": [
      "5\n",
      "7\n",
      "3 8 \n",
      "8 1 0\n",
      "2 7 4 4\n",
      "4 5 2 6 5\n",
      "30\n"
     ]
    }
   ],
   "source": [
    "n = int(input())\n",
    "t = [] \n",
    "\n",
    "# t라는 list 에 전부다 박아둠\n",
    "for i in range(n):\n",
    "    t.append(list(map(int, input().split())))\n",
    "\n",
    "# t자체를 수정해가면서 함. (t의 하나의 리스트를 이차원 배열처럼 사용)\n",
    "# 모든 숫자 다 접근해서 체크함. (첫번쨰랑 맨 뒤숫자는 상관없음) 나머지는 \n",
    "k = 2\n",
    "for i in range(1, n): # 1부터인 이유는 k=2로 가는데 두번째줄부터하려고\n",
    "    for j in range(k):\n",
    "        if j == 0: # 맨 왼쪽 숫자는 \n",
    "            t[i][j] = t[i][j] + t[i - 1][j]\n",
    "        elif i == j: #  맨 뒷쪽숫자\n",
    "            t[i][j] = t[i][j] + t[i - 1][j - 1]\n",
    "        else:\n",
    "            t[i][j] = max(t[i - 1][j - 1], t[i - 1][j]) + t[i][j]\n",
    "    k += 1\n",
    "print(max(t[n - 1]))"
   ]
  }
 ],
 "metadata": {
  "kernelspec": {
   "display_name": "Python 3",
   "language": "python",
   "name": "python3"
  },
  "language_info": {
   "codemirror_mode": {
    "name": "ipython",
    "version": 3
   },
   "file_extension": ".py",
   "mimetype": "text/x-python",
   "name": "python",
   "nbconvert_exporter": "python",
   "pygments_lexer": "ipython3",
   "version": "3.7.5"
  }
 },
 "nbformat": 4,
 "nbformat_minor": 4
}
