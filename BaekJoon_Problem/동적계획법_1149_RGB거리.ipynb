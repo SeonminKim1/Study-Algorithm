{
 "cells": [
  {
   "cell_type": "markdown",
   "metadata": {},
   "source": [
    "## 백준_1149번 RGB 거리\n",
    "\n",
    "- RGB거리에는 집이 N개 있다. 거리는 선분으로 나타낼 수 있고, 1번 집부터 N번 집이 순서대로 있다.\n",
    "\n",
    "- 집은 빨강, 초록, 파랑 중 하나의 색으로 칠해야 한다. 각각의 집을 빨강, 초록, 파랑으로 칠하는 비용이 주어졌을 때, 아래 규칙을 만족하면서 모든 집을 칠하는 비용의 최솟값을 구해보자.\n",
    "\n",
    "### 조건\n",
    "- 1번 집의 색은 2번 집의 색과 같지 않아야 한다.\n",
    "- N번 집의 색은 N-1번 집의 색과 같지 않아야 한다.\n",
    "- i(2 ≤ i ≤ N-1)번 집의 색은 i-1번, i+1번 집의 색과 같지 않아야 한다.\n",
    "\n",
    "### 입력\n",
    "- 첫째 줄에 집의 수 N(2 ≤ N ≤ 1,000)이 주어진다. 둘째 줄부터 N개의 줄에는 각 집을 빨강, 초록, 파랑으로 칠하는 비용이 1번 집부터 한 줄에 하나씩 주어진다. 집을 칠하는 비용은 1,000보다 작거나 같은 자연수이다.\n",
    "\n",
    "### 출력\n",
    "- 첫째 줄에 모든 집을 칠하는 비용의 최솟값을 출력한다."
   ]
  },
  {
   "cell_type": "code",
   "execution_count": 1,
   "metadata": {},
   "outputs": [
    {
     "name": "stdout",
     "output_type": "stream",
     "text": [
      "3\n",
      "26 40 83\n",
      "49 60 57\n",
      "13 89 99\n",
      "96\n"
     ]
    }
   ],
   "source": [
    "# 입력\n",
    "# 3 \n",
    "# 26 40 83\n",
    "# 49 60 57\n",
    "# 13 89 99 \n",
    "\n",
    "# 출력\n",
    "# 96\n",
    "\n",
    "# 집의 수\n",
    "n = int(input())\n",
    "\n",
    "# 값들 먼저 다 넣어놓기\n",
    "p = []\n",
    "for i in range(n):\n",
    "    p.append(list(map(int, input().split())))\n",
    "\n",
    "#      i-1           i             i+1\n",
    "# [26, 40, 83], [49, 60, 57], [13, 89, 99] \n",
    "# i번째 집이 빨간색일 때 -> i-1번째는 초록색이거나, 파란색이여야됨 min(40, 83)\n",
    "# i번째 집이 초록색일 때 -> i-1번쨰는 빨간색이거나, 파란색이어야됨 min(26, 83)\n",
    "# i번째 집이 파란색일 때 -> i-1번째는 빨간색이거나, 초록색이어야됨 min(26, 40)\n",
    "## i번째 까지의 집 색칠 가격을 구해놓기 위해,\n",
    "## 각각에서 i번째 색을 더함 ==> 차례대로 +26 / +40 / +83\n",
    "    \n",
    "for i in range(1, len(p)):\n",
    "    p[i][0] = min(p[i - 1][1], p[i - 1][2]) + p[i][0] # 더하는 이유는 빨강\n",
    "    p[i][1] = min(p[i - 1][0], p[i - 1][2]) + p[i][1] # 더하는 이유는 초록\n",
    "    p[i][2] = min(p[i - 1][0], p[i - 1][1]) + p[i][2] # 더하는 이유는 파랑색 더해서 값 유지시켜주기위해 ~ 동적할당\n",
    "\n",
    "# n-1 번째 집을 순회하는건 p배열이 0번쨰부터 시작되기 때문\n",
    "print(min(p[n - 1][0], p[n - 1][1], p[n - 1][2]))"
   ]
  }
 ],
 "metadata": {
  "kernelspec": {
   "display_name": "Python 3",
   "language": "python",
   "name": "python3"
  },
  "language_info": {
   "codemirror_mode": {
    "name": "ipython",
    "version": 3
   },
   "file_extension": ".py",
   "mimetype": "text/x-python",
   "name": "python",
   "nbconvert_exporter": "python",
   "pygments_lexer": "ipython3",
   "version": "3.7.5"
  }
 },
 "nbformat": 4,
 "nbformat_minor": 4
}
