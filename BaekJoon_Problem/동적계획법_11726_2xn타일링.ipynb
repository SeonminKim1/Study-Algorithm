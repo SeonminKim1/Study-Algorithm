{
 "cells": [
  {
   "cell_type": "markdown",
   "metadata": {},
   "source": [
    "## 2 x n 타일링\n",
    "- 2xn 직사각형을 1x2, 2x1과 타일로 채우는 방법의 수를 구하는 프로그램을 작성하시오\n"
   ]
  },
  {
   "cell_type": "code",
   "execution_count": 14,
   "metadata": {},
   "outputs": [
    {
     "name": "stdout",
     "output_type": "stream",
     "text": [
      "5\n",
      "8\n"
     ]
    }
   ],
   "source": [
    "## 타일정의\n",
    "# 1x2 -> a(가로넙적) / 2x1 -> b(세로긴것)\n",
    "\n",
    "# 가로로 넙적은 한 2x2 사각형을 꼭 구성해야만 함\n",
    "# 따라서 2x2 사각형 1개일때, 2개일때, 3개일때 배치할수 있는 구성 파악 후 나머지 b넣는다고 생각\n",
    "\n",
    "# 2x1 직사각형 : a1 -> 1가지\n",
    "# 2x2 직사각형 : 2가지\n",
    "\n",
    "# 2x3 직사각형 : 사각형 1개가 2곳들갈수 있음 + 전체 세로 1개 => 3\n",
    "# 2x4 직사각형 : 사각형 2개가 1곳, 사각형 1개가 3곳, + 전체 세로1개 => 5\n",
    "# 2x5 직사각형 : 사각형 2개가 3곳, 사각형 1개가 4곳 + 전체 세로 1개 => 8\n",
    "\n",
    "# 점화식 -> 이전꺼 두개 더하기\n",
    "# dp[n] = dp[n-1] + dp[n-2]\n",
    "\n",
    "n = int(input())\n",
    "\n",
    "dp = [1,2]\n",
    "\n",
    "def dp_tile(n):\n",
    "    if n<=2:\n",
    "        return dp[n-1]\n",
    "    else:\n",
    "        for i in range(2, n+1):\n",
    "            dp.append(sum(dp[-2:]))\n",
    "        return dp[n-1]\n",
    "    \n",
    "print(dp_tile(n)%10007)"
   ]
  }
 ],
 "metadata": {
  "kernelspec": {
   "display_name": "Python 3",
   "language": "python",
   "name": "python3"
  },
  "language_info": {
   "codemirror_mode": {
    "name": "ipython",
    "version": 3
   },
   "file_extension": ".py",
   "mimetype": "text/x-python",
   "name": "python",
   "nbconvert_exporter": "python",
   "pygments_lexer": "ipython3",
   "version": "3.7.5"
  }
 },
 "nbformat": 4,
 "nbformat_minor": 4
}
