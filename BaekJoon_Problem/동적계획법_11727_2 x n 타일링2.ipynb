{
 "cells": [
  {
   "cell_type": "markdown",
   "metadata": {},
   "source": [
    "## 2 x n 타일링 2\n",
    "- 2xn 직사각형을 1x2, 2x1과 2x2 타일로 채우는 방법의 수를 구하는 프로그램을 작성하시오\n",
    "\n"
   ]
  },
  {
   "cell_type": "code",
   "execution_count": 8,
   "metadata": {},
   "outputs": [
    {
     "name": "stdout",
     "output_type": "stream",
     "text": [
      "5\n",
      "21\n"
     ]
    }
   ],
   "source": [
    "### 타일 종류\n",
    "# 1 x 2 타일 : a\n",
    "# 2 x 1 타일 : b\n",
    "# 2 x 2 타일 : c\n",
    "\n",
    "# a(n+1) = a(n) + 2*a(n-1)\n",
    "# 이유인즉 a(n+1)은 a(n)에서 세로막대기 하나 추가되거나 / a(n-1)에서 가로막대기 2개짜리 or 정사각형 1개 ==> 2개 경우이다.\n",
    "\n",
    "# 즉 a(n+1) = a(n) + 2*a(n-1) 이 성립된다.\n",
    "\n",
    "\n",
    "# n=1 -> 1개\n",
    "# n=2 -> 3개\n",
    "# n=3 -> 5개\n",
    "\n",
    "n = int(input())\n",
    "\n",
    "# 초기 dp\n",
    "dp = [0, 1, 3]\n",
    "\n",
    "def tile2(x):\n",
    "    if x<=2:\n",
    "        return dp[x]\n",
    "    else:\n",
    "        for i in range(3, n+1):\n",
    "            dp.append(dp[i-1]+2*dp[i-2])\n",
    "        return dp[x]\n",
    "    \n",
    "print(tile2(n)%10007)\n"
   ]
  }
 ],
 "metadata": {
  "kernelspec": {
   "display_name": "Python 3",
   "language": "python",
   "name": "python3"
  },
  "language_info": {
   "codemirror_mode": {
    "name": "ipython",
    "version": 3
   },
   "file_extension": ".py",
   "mimetype": "text/x-python",
   "name": "python",
   "nbconvert_exporter": "python",
   "pygments_lexer": "ipython3",
   "version": "3.7.5"
  }
 },
 "nbformat": 4,
 "nbformat_minor": 4
}
