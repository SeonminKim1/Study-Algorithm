{
 "cells": [
  {
   "cell_type": "markdown",
   "metadata": {},
   "source": [
    "# 9095번 - 1,2,3 더하기 \n",
    "- 점화식을 찾는것이 중요"
   ]
  },
  {
   "cell_type": "code",
   "execution_count": 1,
   "metadata": {},
   "outputs": [
    {
     "name": "stdout",
     "output_type": "stream",
     "text": [
      "5\n",
      "3\n",
      "4\n",
      "4\n",
      "7\n",
      "5\n",
      "13\n",
      "6\n",
      "24\n",
      "7\n",
      "44\n"
     ]
    }
   ],
   "source": [
    "## 1은 1가지\n",
    "\n",
    "## 2는 2가지\n",
    "# 1+1  / 2\n",
    "\n",
    "## 3은 4가지\n",
    "# 1+1+1 / 1+2 -> 2개 / 3\n",
    "\n",
    "## 4는 7가지\n",
    "\n",
    "## 5는 -> 13가지\n",
    "# 1+1+1+1+1 -> 1가지\n",
    "# 1+1+1+2  -> 4가지\n",
    "# 2 + 2 + 1 -> 3가지\n",
    "# 1 + 1 + 3 -> 3가지\n",
    "# 2 + 3 -> 2가지\n",
    "\n",
    "# Test 횟수\n",
    "T = int(input())\n",
    "\n",
    "for i in range(T):\n",
    "    n = int(input())\n",
    "    ingredient=[0,1,2,4]    \n",
    "    \n",
    "    # 0, 1, 2, 3\n",
    "    if n<=3:\n",
    "        answer = ingredient[n]\n",
    "    # n - 4, 5, 6\n",
    "    else:\n",
    "        # n을 구하려면 4번째 부터 n+1 까지 만들어 가야함.\n",
    "        for j in range(4, n+1):\n",
    "            answer = sum(ingredient[-3:])\n",
    "            ingredient.append(answer)\n",
    "    print(answer)\n",
    "        "
   ]
  }
 ],
 "metadata": {
  "kernelspec": {
   "display_name": "Python 3",
   "language": "python",
   "name": "python3"
  },
  "language_info": {
   "codemirror_mode": {
    "name": "ipython",
    "version": 3
   },
   "file_extension": ".py",
   "mimetype": "text/x-python",
   "name": "python",
   "nbconvert_exporter": "python",
   "pygments_lexer": "ipython3",
   "version": "3.7.5"
  }
 },
 "nbformat": 4,
 "nbformat_minor": 4
}
