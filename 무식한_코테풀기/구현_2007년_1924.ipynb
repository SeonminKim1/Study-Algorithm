{
 "cells": [
  {
   "cell_type": "markdown",
   "id": "79c1ea52",
   "metadata": {},
   "source": [
    "## 2007년\n",
    "- 오늘은 2007년 1월 1일 월요일\n",
    "- 2007년 x월 y일은 무슨요일?\n"
   ]
  },
  {
   "cell_type": "code",
   "execution_count": 4,
   "id": "47ad0e7b",
   "metadata": {},
   "outputs": [
    {
     "name": "stdout",
     "output_type": "stream",
     "text": [
      "9 2\n",
      "SUN\n"
     ]
    }
   ],
   "source": [
    "months = [31, 28, 31, 30, 31, 30, 31, 31, 30, 31, 30, 31]\n",
    "\n",
    "week = ['SUN', 'MON', 'TUE', 'WED', 'THU', 'FRI', 'SAT']\n",
    "\n",
    "# x는 월 y는 일\n",
    "x, y = map(int, input().split())\n",
    "\n",
    "# 1월 29일은 월요일\n",
    "# 2월 1일은 목요일\n",
    "\n",
    "# x=2, y=1\n",
    "day = 0\n",
    "for m in range(x-1):\n",
    "    day+=months[m]\n",
    "\n",
    "print(week[(day + y) % 7])\n"
   ]
  },
  {
   "cell_type": "code",
   "execution_count": null,
   "id": "8dfd10d9",
   "metadata": {},
   "outputs": [],
   "source": []
  }
 ],
 "metadata": {
  "kernelspec": {
   "display_name": "Python 3",
   "language": "python",
   "name": "python3"
  },
  "language_info": {
   "codemirror_mode": {
    "name": "ipython",
    "version": 3
   },
   "file_extension": ".py",
   "mimetype": "text/x-python",
   "name": "python",
   "nbconvert_exporter": "python",
   "pygments_lexer": "ipython3",
   "version": "3.8.5"
  }
 },
 "nbformat": 4,
 "nbformat_minor": 5
}
