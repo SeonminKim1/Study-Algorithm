{
 "cells": [
  {
   "cell_type": "markdown",
   "id": "cc6fc63e",
   "metadata": {},
   "source": [
    "## 케빈 베이컨의 6단계 법칙\n",
    "- 문제\n",
    "    - 케빈 베이컨의 6단계 법칙에 의하면 지구에 있는 모든 사람들은 최대 6단계 이내에서 서로 아는 사람으로 연결될 수 있다.\n",
    "    - 케빈 베이컨 게임은 **임의의 두 사람이 최소 몇 단계 만에 이어질 수 있는지 계산하는 게임**\n",
    "- 예시\n",
    "    - BOJ의 유저가 5명이고, 1과 3, 1과 4, 2와 3, 3과 4, 4와 5가 친구인 경우를 생각해보자.\n",
    "    - 1은 2까지 3을 통해 2단계 만에, 3까지 1단계, 4까지 1단계, 5까지 4를 통해서 2단계 만에 알 수 있다. 따라서, 케빈 베이컨의 수는 2+1+1+2 = 6이다.\n",
    "    - 2는 1까지 3을 통해서 2단계 만에, 3까지 1단계 만에, 4까지 3을 통해서 2단계 만에, 5까지 3과 4를 통해서 3단계 만에 알 수 있다. 따라서, 케빈 베이컨의 수는 2+1+2+3 = 8이다.\n",
    "    - 3은 1까지 1단계, 2까지 1단계, 4까지 1단계, 5까지 4를 통해 2단계 만에 알 수 있다. 따라서, 케빈 베이컨의 수는 1+1+1+2 = 5이다.\n",
    "    - 4는 1까지 1단계, 2까지 3을 통해 2단계, 3까지 1단계, 5까지 1단계 만에 알 수 있다. 4의 케빈 베이컨의 수는 1+2+1+1 = 5가 된다.\n",
    "    - 5는 1까지 4를 통해 2단계, 2까지 4와 3을 통해 3단계, 3까지 4를 통해 2단계, 4까지 1단계 만에 알 수 있다. 5의 케빈 베이컨의 수는 2+3+2+1 = 8이다.\n",
    "    - 5명의 유저 중에서 케빈 베이컨의 수가 가장 작은 사람은 3과 4이다.\n",
    "    - **BOJ 유저의 수와 친구 관계가 입력으로 주어졌을 때, 케빈 베이컨의 수가 가장 작은 사람을 구하는 프로그램을 작성**\n",
    "\n",
    "- 입력\n",
    "    - 첫째 줄에 유저의 수 N (2 ≤ N ≤ 100)과 친구 관계의 수 M (1 ≤ M ≤ 5,000)\n",
    "    - 둘째 줄부터 M개의 줄에는 친구 관계가 주어진다. \n",
    "        - 친구 관계는 A와 B로 이루어져 있으며, A와 B가 친구라는 뜻이다.\n",
    "        - A와 B가 친구이면, B와 A도 친구이며, A와 B가 같은 경우는 없다.\n",
    "        - 친구 관계는 중복되어 들어올 수도 있으며, 친구가 한 명도 없는 사람은 없다.\n",
    "        - 또, 모든 사람은 친구 관계로 연결되어져 있다. \n",
    "        - 사람의 번호는 1부터 N까지이며, 두 사람이 같은 번호를 갖는 경우는 없다.\n",
    "\n",
    "- 출력\n",
    "    - 첫째 줄에 BOJ의 유저 중에서 케빈 베이컨의 수가 가장 작은 사람을 출력\n",
    "    - 그런 사람이 여러 명일 경우에는 번호가 가장 작은 사람을 출력한다."
   ]
  },
  {
   "cell_type": "markdown",
   "id": "0e4b3209",
   "metadata": {},
   "source": [
    "## 풀이법 요약\n",
    "- 1. 자기 자신 경로 및 진행 간선 초기화\n",
    "- 2. 3중배열 + 핵심 알고리즘\n",
    "- 3. 구하고자 하는 것 (main) 계산"
   ]
  },
  {
   "cell_type": "code",
   "execution_count": 19,
   "id": "2d191407",
   "metadata": {},
   "outputs": [
    {
     "name": "stdout",
     "output_type": "stream",
     "text": [
      "5 5\n",
      "1 3\n",
      "1 4\n",
      "4 5\n",
      "4 3\n",
      "3 2\n",
      "3\n"
     ]
    }
   ],
   "source": [
    "INF = int(1e9)\n",
    "\n",
    "N, M = map(int, input().split()) # 유저의 수 (N), 친구 관계의 수 (M)\n",
    "graph = [[INF]*(N+1) for _ in range(N+1)]\n",
    "\n",
    "for _ in range(M):\n",
    "    a, b = map(int, input().split())\n",
    "    graph[a][b] = 1\n",
    "    graph[b][a] = 1\n",
    "\n",
    "for i in range(1, N+1):\n",
    "    for j in range(1, N+1):\n",
    "        if i==j:\n",
    "            graph[i][j] = 0 # 자기자신 0단계\n",
    "            \n",
    "for temp in range(N+1):\n",
    "    for a in range(N+1):\n",
    "        for b in range(N+1):\n",
    "            graph[a][b] = min(graph[a][b], graph[a][temp] + graph[temp][b]) # 각 노드별 최소 거리\n",
    "\n",
    "# main 문\n",
    "result = [line[1:] for line in graph[1:]] # 1열 1행부터~\n",
    "result_sum_list = [sum(ls) for ls in result] # 각 노드별 리스트 sum\n",
    "result_min = min(result_sum_list)\n",
    "\n",
    "# 작은 넘버 출력\n",
    "for i, value in enumerate(result_sum_list):\n",
    "    if value == result_min:\n",
    "        print(i+1)\n",
    "        break"
   ]
  },
  {
   "cell_type": "code",
   "execution_count": null,
   "id": "fff2499b",
   "metadata": {},
   "outputs": [],
   "source": [
    "# # 입력\n",
    "# 5 5\n",
    "# 1 3\n",
    "# 1 4\n",
    "# 4 5\n",
    "# 4 3\n",
    "# 3 2\n",
    "\n",
    "# # 출력\n",
    "# 3"
   ]
  }
 ],
 "metadata": {
  "kernelspec": {
   "display_name": "Python 3",
   "language": "python",
   "name": "python3"
  },
  "language_info": {
   "codemirror_mode": {
    "name": "ipython",
    "version": 3
   },
   "file_extension": ".py",
   "mimetype": "text/x-python",
   "name": "python",
   "nbconvert_exporter": "python",
   "pygments_lexer": "ipython3",
   "version": "3.8.5"
  }
 },
 "nbformat": 4,
 "nbformat_minor": 5
}
