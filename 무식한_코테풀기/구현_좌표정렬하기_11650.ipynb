{
 "cells": [
  {
   "cell_type": "markdown",
   "id": "0084ab33",
   "metadata": {},
   "source": [
    "## 좌표 정렬하기\n",
    "- 2차원 평면 위의 점 N개\n",
    "- 좌표를 x좌표가 증가하는 순으로, x좌표가 같으면 y좌표가 증가하는 순서로 정렬\n"
   ]
  },
  {
   "cell_type": "code",
   "execution_count": 5,
   "id": "5cddae4e",
   "metadata": {},
   "outputs": [
    {
     "name": "stdout",
     "output_type": "stream",
     "text": [
      "5\n",
      "3 4\n",
      "1 1\n",
      "1 -1\n",
      "2 2\n",
      "3 3\n",
      "1 -1\n",
      "1 1\n",
      "2 2\n",
      "3 3\n",
      "3 4\n"
     ]
    }
   ],
   "source": [
    "N = int(input())\n",
    "dot_list = []\n",
    "for _ in range(N):\n",
    "    x, y = map(int, input().split())\n",
    "    dot_list.append((x, y))\n",
    "    \n",
    "dot_list.sort()\n",
    "for x, y in dot_list:\n",
    "    print(x, y)"
   ]
  }
 ],
 "metadata": {
  "kernelspec": {
   "display_name": "Python 3",
   "language": "python",
   "name": "python3"
  },
  "language_info": {
   "codemirror_mode": {
    "name": "ipython",
    "version": 3
   },
   "file_extension": ".py",
   "mimetype": "text/x-python",
   "name": "python",
   "nbconvert_exporter": "python",
   "pygments_lexer": "ipython3",
   "version": "3.8.5"
  }
 },
 "nbformat": 4,
 "nbformat_minor": 5
}
