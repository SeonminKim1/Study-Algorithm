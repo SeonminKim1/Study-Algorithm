{
 "cells": [
  {
   "cell_type": "markdown",
   "id": "e3a7abad",
   "metadata": {},
   "source": [
    "## 회장뽑기\n",
    "- 문제\n",
    "    - 월드컵 축구의 응원을 위한 모임에서 회장을 선출하려고 한다.\n",
    "    - 이 모임은 회원 사이에 서로 모르는 사람도 있지만, 몇 사람을 통하면 모두가 서로 알 수 있다. 각 회원은 다른 회원들과 가까운 정도에 따라 점수를 받게 된다.\n",
    "    - 회장은 회원들 중에서 점수가 가장 작은 사람\n",
    "    - **회장의 점수와 회장이 될 수 있는 모든 사람을 찾는 프로그램을 작성**\n",
    "\n",
    "- 예시\n",
    "    - 어느 회원이 다른 모든 회원과 친구이면, 이 회원의 점수는 1점\n",
    "    - 다른 모든 회원이 친구이거나 친구의 친구이면, 이 회원의 점수는 2점\n",
    "    - 다른 모든 회원이 친구이거나, 친구의 친구이거나, 친구의 친구의 친구이면, 이 회원의 점수는 3점\n",
    "    - 4점, 5점 등은 같은 방법으로 정해진다.\n",
    "    - 각 회원의 점수를 정할 때 주의할 점은 어떤 두 회원이 친구사이이면서 동시에 친구의 친구사이이면, 이 두사람은 친구사이라고 본다.\n",
    "\n",
    "- 입력\n",
    "    - 입력의 첫째 줄에는 회원의 수(단, 회원의 수는 50명을 넘지 않는다.)\n",
    "    - 둘째 줄 이후로는 한 줄에 두 개의 회원번호\n",
    "        - 이것은 두 회원이 서로 친구임을 나타낸다.\n",
    "        - 회원번호는 1부터 회원의 수만큼 붙어 있다.\n",
    "    - 마지막 줄에는 -1이 두 개 들어있다.\n",
    "\n",
    "- 출력\n",
    "    - 첫째 줄에는 회장 후보의 점수와 후보의 수를 출력\n",
    "    - 두 번째 줄에는 회장 후보를 오름차순으로 모두 출력"
   ]
  },
  {
   "cell_type": "markdown",
   "id": "c1c99b83",
   "metadata": {},
   "source": [
    "## 풀이법 요약\n",
    "- 0. 플로이드 워셜의 목적 => 각 노드까지 가는데 최소점.\n",
    "- 1. 자기 자신 경로 및 진행 간선 초기화\n",
    "- 2. 3중배열 + 핵심 알고리즘\n",
    "- 3. 구하고자 하는 것 (main) 계산"
   ]
  },
  {
   "cell_type": "code",
   "execution_count": 7,
   "id": "9561e6a2",
   "metadata": {},
   "outputs": [
    {
     "name": "stdout",
     "output_type": "stream",
     "text": [
      "5\n",
      "1 2\n",
      "2 3\n",
      "3 4\n",
      "4 5\n",
      "2 4\n",
      "5 3\n",
      "-1 -1\n",
      "2 3\n",
      "2 3 4 "
     ]
    }
   ],
   "source": [
    "## 입력\n",
    "INF = 1e9\n",
    "N = int(input()) # 회원의 수\n",
    "graph = [[INF] * (N+1) for _ in range(N+1)]\n",
    "\n",
    "# 0, 0 자기 자신 초기화\n",
    "for i in range(1, N+1):\n",
    "    graph[i][i] = 0\n",
    "\n",
    "while True:\n",
    "    a, b = map(int, input().strip().split())\n",
    "    if (a == - 1 and b == -1):\n",
    "        break\n",
    "    graph[a][b] = graph[b][a] = 1\n",
    "    \n",
    "for temp in range(1, N+1): # 회원 체크 temp\n",
    "    for a in range(1, N+1):\n",
    "        for b in range(1, N+1):\n",
    "            graph[a][b] = min(graph[a][b], graph[a][temp] + graph[temp][b])\n",
    "# main 문\n",
    "result = [line[1:] for line in graph[1:]] # 1열 1행부터~\n",
    "result_max_list = [max(ls) for ls in result] # 각 노드별 리스트 max\n",
    "result_min = min(result_max_list)\n",
    "# print(result_max_list)\n",
    "\n",
    "# 작은 넘버 출력\n",
    "president = []\n",
    "for i, value in enumerate(result_max_list):\n",
    "    if value == result_min:\n",
    "        president.append(i+1)\n",
    "        \n",
    "# 첫째 줄에는 회장 후보의 점수와 후보의 수를 출력\n",
    "print(result_min, len(president))\n",
    "\n",
    "# 두 번째 줄에는 회장 후보를 오름차순으로 모두 출력\n",
    "president.sort()\n",
    "for n in president:\n",
    "    print(n, end= ' ')"
   ]
  },
  {
   "cell_type": "code",
   "execution_count": null,
   "id": "352a1b51",
   "metadata": {},
   "outputs": [],
   "source": [
    "# # 입력\n",
    "# 5\n",
    "# 1 2\n",
    "# 2 3\n",
    "# 3 4\n",
    "# 4 5\n",
    "# 2 4\n",
    "# 5 3\n",
    "# -1 -1\n",
    "\n",
    "# # 출력\n",
    "# 2 3\n",
    "# 2 3 4"
   ]
  }
 ],
 "metadata": {
  "kernelspec": {
   "display_name": "Python 3",
   "language": "python",
   "name": "python3"
  },
  "language_info": {
   "codemirror_mode": {
    "name": "ipython",
    "version": 3
   },
   "file_extension": ".py",
   "mimetype": "text/x-python",
   "name": "python",
   "nbconvert_exporter": "python",
   "pygments_lexer": "ipython3",
   "version": "3.8.5"
  }
 },
 "nbformat": 4,
 "nbformat_minor": 5
}
