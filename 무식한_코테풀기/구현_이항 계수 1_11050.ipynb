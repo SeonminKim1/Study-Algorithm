{
 "cells": [
  {
   "cell_type": "markdown",
   "id": "9ef9e535",
   "metadata": {},
   "source": [
    "## 이항계수1\n",
    "- 자연수 (N)과 정수 (K)가 주어졌을 때 이항 계수 를 구하는 프로그램을 작성"
   ]
  },
  {
   "cell_type": "code",
   "execution_count": 1,
   "id": "28f8bbfc",
   "metadata": {},
   "outputs": [
    {
     "name": "stdout",
     "output_type": "stream",
     "text": [
      "5 2\n",
      "10\n"
     ]
    }
   ],
   "source": [
    "from math import factorial\n",
    "n, k = map(int, input().split())\n",
    "b = factorial(n) // (factorial(k) * factorial(n - k))\n",
    "print(b)"
   ]
  }
 ],
 "metadata": {
  "kernelspec": {
   "display_name": "Python 3",
   "language": "python",
   "name": "python3"
  },
  "language_info": {
   "codemirror_mode": {
    "name": "ipython",
    "version": 3
   },
   "file_extension": ".py",
   "mimetype": "text/x-python",
   "name": "python",
   "nbconvert_exporter": "python",
   "pygments_lexer": "ipython3",
   "version": "3.8.5"
  }
 },
 "nbformat": 4,
 "nbformat_minor": 5
}
