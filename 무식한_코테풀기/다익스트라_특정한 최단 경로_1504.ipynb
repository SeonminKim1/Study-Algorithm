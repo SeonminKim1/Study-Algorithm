{
 "cells": [
  {
   "cell_type": "markdown",
   "id": "17788742",
   "metadata": {},
   "source": [
    "## 특정한 최단 경로\n",
    "- 방향성이 없는 그래프가 주어진다.\n",
    "- 세준이는 1번 정점에서 N번 정점으로 최단 거리로 이동\n",
    "- 또한 세준이는 두 가지 조건을 만족하면서 최단 경로를 구하고 싶은데, 그것은 바로 임의로 주어진 두 정점은 반드시 통과해야 한다는 것\n",
    "    - 세준이는 한번 이동했던 정점은 물론, 한번 이동했던 간선도 다시 이동가능\n",
    "    - 단, 반드시 최단 경로로 이동해야 한다는 사실에 주의\n",
    "- 1번 정점에서 N번 정점으로 이동\n",
    "- 주어진 두 정점을 반드시 거치면서 최단 경로로 이동하는 프로그램을 작성\n",
    "\n",
    "- 입력\n",
    "    - 첫째 줄에 정점의 개수 N과 간선의 개수 E가 주어진다. (2 ≤ N ≤ 800, 0 ≤ E ≤ 200,000) \n",
    "    - 둘째 줄부터 E개의 줄에 걸쳐서 세 개의 정수 a, b, c가 주어짐\n",
    "        - a번 정점에서 b번 정점까지 양방향 길이 존재하며, 그 거리가 c라는 뜻이다. (1 ≤ c ≤ 1,000)\n",
    "    - 다음 줄에는 반드시 거쳐야 하는 두 개의 서로 다른 정점 번호 v1과 v2가 주어진다. (v1 ≠ v2, v1 ≠ N, v2 ≠ 1)\n",
    "- 출력\n",
    "    - 첫째 줄에 두 개의 정점을 지나는 최단 경로의 길이를 출력한다. 그러한 경로가 없을 때에는 -1을 출력한다."
   ]
  },
  {
   "cell_type": "code",
   "execution_count": 5,
   "id": "d06c019c",
   "metadata": {},
   "outputs": [
    {
     "name": "stdout",
     "output_type": "stream",
     "text": [
      "4 6\n",
      "1 2 3\n",
      "2 3 3\n",
      "3 4 1\n",
      "1 3 5\n",
      "2 4 5\n",
      "1 4 4\n",
      "2 3\n",
      "7\n"
     ]
    }
   ],
   "source": [
    "\n",
    "INF = 1e9\n",
    "\n",
    "N, E = map(int, input().split()) # N은 정점, E는 간선\n",
    "graph = [[] for _ in range(N+1)]\n",
    "\n",
    "for _ in range(E):\n",
    "    a, b, c = map(int, input().split())\n",
    "    graph[a].append((b, c))\n",
    "    graph[b].append((a, c))\n",
    "\n",
    "import heapq\n",
    "def dijkistra(start, end):\n",
    "    distances = [INF]*(N+1)\n",
    "    queue = []\n",
    "    heapq.heappush(queue, (0, start))\n",
    "    distances[start] = 0\n",
    "\n",
    "    while queue:\n",
    "        now_dist, now_node = heapq.heappop(queue)\n",
    "        if distances[now_node] < now_dist:\n",
    "            continue\n",
    "        for temp_node, temp_dist in graph[now_node]:\n",
    "            cost = now_dist + temp_dist\n",
    "            if cost < distances[temp_node]:\n",
    "                distances[temp_node] = cost\n",
    "                heapq.heappush(queue, (cost, temp_node))\n",
    "    return distances[end]\n",
    "\n",
    "\n",
    "# 필수로 지나야 되는 두 정점 입력받기\n",
    "v1, v2 = map(int, input().split())\n",
    "\n",
    "# 1) 처음점(1) => v1 => v2 => 종점(N)\n",
    "# 2) 처음점(1) => v2 => v1 => 종점(N)\n",
    "# 출발점이 각각 1, v1, v2일 때의 최단 거리 배열\n",
    "root1 = dijkistra(1, v1) + dijkistra(v1, v2) + dijkistra(v2, N)\n",
    "root2 = dijkistra(1, v2) + dijkistra(v2, v1) + dijkistra(v1, N)\n",
    "# print(root1, root2)\n",
    "\n",
    "result = min(root1, root2)\n",
    "print(result if result < INF else -1)"
   ]
  }
 ],
 "metadata": {
  "kernelspec": {
   "display_name": "Python 3",
   "language": "python",
   "name": "python3"
  },
  "language_info": {
   "codemirror_mode": {
    "name": "ipython",
    "version": 3
   },
   "file_extension": ".py",
   "mimetype": "text/x-python",
   "name": "python",
   "nbconvert_exporter": "python",
   "pygments_lexer": "ipython3",
   "version": "3.8.5"
  }
 },
 "nbformat": 4,
 "nbformat_minor": 5
}
