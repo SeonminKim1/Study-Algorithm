{
 "cells": [
  {
   "cell_type": "markdown",
   "id": "228892b9",
   "metadata": {},
   "source": [
    "## 최소비용 구하기2\n",
    "- n(1≤n≤1,000)개의 도시\n",
    "- 한 도시에서 출발하여 다른 도시에 도착하는 m(1≤m≤100,000)개의 버스\n",
    "- A번째 도시에서 B번째 도시까지 가는데 드는 버스 비용을 최소화\n",
    "- A번째 도시에서 B번째 도시 까지 가는데 드는 최소비용과 경로를 출력\n",
    "- 버스 비용은 0보다 크거나 같고, 100,000보다 작은 정수\n",
    "\n",
    "- 입력\n",
    "    - 첫째 줄에 도시의 개수 n(1≤n≤1,000)\n",
    "    - 둘째 줄에는 버스의 개수 m(1≤m≤100,000)\n",
    "    - 셋째 줄부터 m+2줄까지 다음과 같은 버스의 정보(버스의 출발 도시 번호. 도착지의 도시 번호, 버스비용)\n",
    "    \n",
    "    - m+3째 줄에는 우리가 구하고자 하는 구간 출발점의 도시번호와 도착점의 도시번호가 주어진다.\n",
    "\n",
    "- 출력\n",
    "    - 첫째 줄 : 출발 도시 => 도착 도시 최소 비용\n",
    "    - 둘째 줄 : 최소 비용을 갖는 경로에 포함 된 도시의 개수를 출력(출발 도시와 도착 도시도 포함)\n",
    "    - 셋째 줄 : 최소 비용을 갖는 경로를 방문하는 도시 순서대로 출력"
   ]
  },
  {
   "cell_type": "code",
   "execution_count": 8,
   "id": "b239ea41",
   "metadata": {},
   "outputs": [
    {
     "name": "stdout",
     "output_type": "stream",
     "text": [
      "5\n",
      "8\n",
      "1 2 2\n",
      "1 3 3\n",
      "1 4 1\n",
      "1 5 10\n",
      "2 4 2\n",
      "3 4 1\n",
      "3 5 1\n",
      "4 5 3\n",
      "1 5\n",
      "4\n",
      "3\n",
      "1 4 5 "
     ]
    }
   ],
   "source": [
    "INF = 1e9\n",
    "\n",
    "# 입력 N, M\n",
    "N = int(input()) # 도시 갯수\n",
    "M = int(input()) # M개의 버스\n",
    "\n",
    "# distances & graph 초기화\n",
    "distances = [INF] * (N+1)\n",
    "distances_path = [[] for _ in range(N+1)] # start 에서 각 점까지의 가는 경로 기록용\n",
    "graph = [[] for _ in range(N+1)]\n",
    "\n",
    "# 입력 : graph 간선\n",
    "for _ in range(M):\n",
    "    start, end, cost = map(int, input().split())\n",
    "    graph[start].append((end, cost)) # 출발점, 도착점, 비용\n",
    "\n",
    "# 입력 : 출발 도시 도착도시 \n",
    "start, end = map(int, input().split()) # 구하고자하는 출발 도시, 도착도시\n",
    "\n",
    "# 우선순위큐 선언\n",
    "import heapq\n",
    "queue = [] # 비용 기반 우선순위큐\n",
    "heapq.heappush(queue, (0, start, [start]))\n",
    "distances[start] = 0\n",
    "\n",
    "# 탐색\n",
    "while queue:\n",
    "    # now_dist : 현재 노드까지 오는 최소거리, now_node : 현재 노드\n",
    "    now_dist, now_node, now_path = heapq.heappop(queue) \n",
    "    if distances[now_node] < now_dist:\n",
    "        continue\n",
    "        \n",
    "    for temp_node, temp_dist in graph[now_node]:\n",
    "        cost = temp_dist + now_dist\n",
    "        if cost < distances[temp_node]:\n",
    "            distances[temp_node] = cost\n",
    "            # 경로 추적하기\n",
    "            path_history = now_path + [temp_node] # list + list\n",
    "            distances_path[temp_node] = path_history # list에 history 갈아끼우기\n",
    "            heapq.heappush(queue, (cost, temp_node, path_history))\n",
    "            \n",
    "print(distances[end])\n",
    "print(len(distances_path[end]))\n",
    "for x in distances_path[end]:\n",
    "    print(x, end = ' ')"
   ]
  },
  {
   "cell_type": "code",
   "execution_count": null,
   "id": "e7891d12",
   "metadata": {},
   "outputs": [],
   "source": [
    "# # 입력\n",
    "# 5\n",
    "# 8\n",
    "# 1 2 2\n",
    "# 1 3 3\n",
    "# 1 4 1\n",
    "# 1 5 10\n",
    "# 2 4 2\n",
    "# 3 4 1\n",
    "# 3 5 1\n",
    "# 4 5 3\n",
    "# 1 5\n",
    "\n",
    "# # 출력\n",
    "# 4\n",
    "# 3\n",
    "# 1 3 5"
   ]
  }
 ],
 "metadata": {
  "kernelspec": {
   "display_name": "Python 3",
   "language": "python",
   "name": "python3"
  },
  "language_info": {
   "codemirror_mode": {
    "name": "ipython",
    "version": 3
   },
   "file_extension": ".py",
   "mimetype": "text/x-python",
   "name": "python",
   "nbconvert_exporter": "python",
   "pygments_lexer": "ipython3",
   "version": "3.8.5"
  }
 },
 "nbformat": 4,
 "nbformat_minor": 5
}
