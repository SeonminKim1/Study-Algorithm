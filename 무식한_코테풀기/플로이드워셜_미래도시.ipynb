{
 "cells": [
  {
   "cell_type": "markdown",
   "id": "89ea7b31",
   "metadata": {},
   "source": [
    "## 미래 도시\n",
    "- 전체 맵에 대한 최단 거리 구할 때 / 주로 노드 갯수가 적을 때\n",
    "- min(graph_ac, graph_a + graph_c)"
   ]
  },
  {
   "cell_type": "markdown",
   "id": "77953d06",
   "metadata": {},
   "source": [
    "## 풀이법 요약\n",
    "- 1. 자기 자신 경로 및 진행 간선 초기화\n",
    "- 2. 3중배열 + 핵심 알고리즘\n",
    "- 3. 구하고자 하는 것 (main) 계산"
   ]
  },
  {
   "cell_type": "code",
   "execution_count": 2,
   "id": "1cf5168d",
   "metadata": {},
   "outputs": [
    {
     "name": "stdout",
     "output_type": "stream",
     "text": [
      "5 7\n",
      "1 2\n",
      "1 3\n",
      "1 4\n",
      "2 4\n",
      "3 4\n",
      "3 5\n",
      "4 5\n",
      "4 5\n",
      "3\n"
     ]
    }
   ],
   "source": [
    "INF = int(1e9)\n",
    "\n",
    "N, M = map(int, input().split())\n",
    "\n",
    "# 2차원 리스트 (그래프 만들기)\n",
    "graph = [[INF] * (N+1) for _ in range(N+1)]\n",
    "\n",
    "# 자기 자신에게 가는 경로\n",
    "for a in range(1, N+1):\n",
    "    for b in range(1, N+1):\n",
    "        if a==b:\n",
    "            graph[a][b] = 0\n",
    "\n",
    "# 각 간선에 대한 정보를 입력받아, 그 값으로 초기화\n",
    "for _ in range(M):\n",
    "    a, b = map(int, input().split())\n",
    "    graph[a][b] = 1\n",
    "    graph[b][a] = 1\n",
    "\n",
    "# 거쳐 갈 노드 X와 최종 목적지 노드 K를 입력받기\n",
    "x, k = map(int, input().split())\n",
    "\n",
    "# 점화식에 따라 \n",
    "for temp in range(1, N+1):\n",
    "    for a in range(1, N+1):\n",
    "        for b in range(1, N+1):\n",
    "            graph[a][b] = min(graph[a][b], graph[a][temp] + graph[temp][b])\n",
    "\n",
    "# 1번 회사에서 K번 회사를 거쳐 X번 회사로 가는 최단 거리\n",
    "distance = graph[1][k]+graph[k][x]\n",
    "if distance >= INF:\n",
    "    print(\"-1\")\n",
    "else:\n",
    "    print(distance)"
   ]
  },
  {
   "cell_type": "markdown",
   "id": "d5a261e5",
   "metadata": {},
   "source": [
    "## 요약\n",
    "- 전체 graph에 최단 거리 계산하는 알고리즘\n",
    "- graph 변수 : 2차원 선언(INF)\n",
    "- graph에 기본 값 입력\n",
    "- O(N^3)  "
   ]
  },
  {
   "cell_type": "code",
   "execution_count": null,
   "id": "df0e2382",
   "metadata": {},
   "outputs": [],
   "source": [
    "# 5 7\n",
    "# 1 2\n",
    "# 1 3\n",
    "# 1 4\n",
    "# 2 4\n",
    "# 3 4\n",
    "# 3 5\n",
    "# 4 5\n",
    "# 4 5\n",
    "# 3"
   ]
  }
 ],
 "metadata": {
  "kernelspec": {
   "display_name": "Python 3",
   "language": "python",
   "name": "python3"
  },
  "language_info": {
   "codemirror_mode": {
    "name": "ipython",
    "version": 3
   },
   "file_extension": ".py",
   "mimetype": "text/x-python",
   "name": "python",
   "nbconvert_exporter": "python",
   "pygments_lexer": "ipython3",
   "version": "3.8.5"
  }
 },
 "nbformat": 4,
 "nbformat_minor": 5
}
