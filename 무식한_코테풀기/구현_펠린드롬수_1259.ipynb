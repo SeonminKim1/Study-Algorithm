{
 "cells": [
  {
   "cell_type": "markdown",
   "id": "497f8ce0",
   "metadata": {},
   "source": [
    "## 펠린드롬수\n",
    "- 어떤 단어를 뒤에서부터 읽어도 똑같다면 그 단어를 팰린드롬\n",
    "- ex) 'radar', 'sees'\n",
    "- 숫자도 뒤에서부터 읽어도 같다면 그 수는 팰린드롬수다.\n",
    "- ex) 121, 12421\n",
    "- 또한 10도 팰린드롬수가 아닌데, 앞에 무의미한 0이 올 수 있다면 010이 되어 팰린드롬수로 취급할 수도 있지만, 특별히 이번 문제에서는 무의미한 0이 앞에 올 수 없다고 하자.\n",
    "- 각 줄마다 주어진 수가 팰린드롬수면 'yes', 아니면 'no'를 출력한다.\n",
    "- 입력의 마지막 줄에는 0이 주어지며, 이 줄은 문제에 포함되지 않는다.\n"
   ]
  },
  {
   "cell_type": "code",
   "execution_count": 5,
   "id": "15097823",
   "metadata": {},
   "outputs": [
    {
     "name": "stdout",
     "output_type": "stream",
     "text": [
      "121\n",
      "yes\n",
      "1231\n",
      "no\n",
      "12421\n",
      "yes\n",
      "0\n"
     ]
    }
   ],
   "source": [
    "while True: # TEST CASE 무한\n",
    "    number = input()\n",
    "    p = True # \n",
    "    if number == '0': # 종료 flag\n",
    "        break\n",
    "    k = len(number)//2\n",
    "    for i in range(k):\n",
    "        if number[i] == number[len(number)-1-i]:\n",
    "            continue\n",
    "        else:\n",
    "            p = False\n",
    "            break\n",
    "    if p==False:\n",
    "        print('no')\n",
    "    else:\n",
    "        print('yes')"
   ]
  }
 ],
 "metadata": {
  "kernelspec": {
   "display_name": "Python 3",
   "language": "python",
   "name": "python3"
  },
  "language_info": {
   "codemirror_mode": {
    "name": "ipython",
    "version": 3
   },
   "file_extension": ".py",
   "mimetype": "text/x-python",
   "name": "python",
   "nbconvert_exporter": "python",
   "pygments_lexer": "ipython3",
   "version": "3.8.5"
  }
 },
 "nbformat": 4,
 "nbformat_minor": 5
}
