{
 "cells": [
  {
   "cell_type": "markdown",
   "id": "8bfa33cd",
   "metadata": {},
   "source": [
    "## 미로 탈출\n",
    "- (1,1) 부터 N,M으로 가는데 탈출하기 위한 최소 칸의 갯수\n",
    "- BFS는 한 깊이씩 전진하니까 해당 깊이를 숫자를 1씩 더하며 바꿔 나가자.\n",
    "- 0 은 괴물이 있는 부분\n",
    "\n",
    "- Error \n",
    "    - N과 M 헷갈리지 말기 (조건 return 잘 체크하기)"
   ]
  },
  {
   "cell_type": "code",
   "execution_count": 20,
   "id": "7259b9ee",
   "metadata": {},
   "outputs": [
    {
     "name": "stdout",
     "output_type": "stream",
     "text": [
      "5 6\n",
      "101010\n",
      "111111\n",
      "000001\n",
      "111111\n",
      "111111\n",
      "[[1, 0, 1, 0, 1, 0], [1, 1, 1, 1, 1, 1], [0, 0, 0, 0, 0, 1], [1, 1, 1, 1, 1, 1], [1, 1, 1, 1, 1, 1]]\n"
     ]
    }
   ],
   "source": [
    "from collections import deque\n",
    "\n",
    "N, M = map(int, input().split())\n",
    "\n",
    "graph = []\n",
    "for i in range(N):\n",
    "    graph.append(list(map(int, input())))\n",
    "\n",
    "import copy\n",
    "graph1 = copy.deepcopy(graph)\n",
    "print(graph)"
   ]
  },
  {
   "cell_type": "code",
   "execution_count": 21,
   "id": "01785fb8",
   "metadata": {},
   "outputs": [],
   "source": [
    "# 5 6 \n",
    "# 101010\n",
    "# 111111\n",
    "# 000001\n",
    "# 111111\n",
    "# 111111\n",
    "graph = copy.deepcopy(graph1)"
   ]
  },
  {
   "cell_type": "code",
   "execution_count": 22,
   "id": "c890ef1a",
   "metadata": {},
   "outputs": [
    {
     "name": "stdout",
     "output_type": "stream",
     "text": [
      "10\n"
     ]
    }
   ],
   "source": [
    "from collections import deque\n",
    "# 왼쪽, 오른쪽, 위쪽, 아래쪽\n",
    "dx = [-1, 1, 0, 0]\n",
    "dy = [0, 0, -1, 1]\n",
    "\n",
    "visit = [[False]*M for _ in range(N)]\n",
    "def bfs(y,x):\n",
    "    queue = deque()\n",
    "    queue.append((y,x))\n",
    "\n",
    "    # 큐가 반복될 때 까지 반복\n",
    "    while queue:\n",
    "        y, x= queue.popleft()\n",
    "        visit[y][x]=True\n",
    "        # 4방향 확인\n",
    "        for i in range(4):\n",
    "            nx = x + dx[i]\n",
    "            ny = y + dy[i]\n",
    "            # 맵 초과\n",
    "            if nx <0 or ny <0 or nx >= M or ny >= N:\n",
    "                continue\n",
    "            # 괴물 존재 부분\n",
    "            if graph[ny][nx] == 0:\n",
    "                continue\n",
    "            # 방문 한 곳일 경우\n",
    "            if visit[ny][nx] == True:\n",
    "#                 print(ny, nx)\n",
    "                continue\n",
    "            graph[ny][nx] = graph[y][x] + 1\n",
    "            queue.append((ny, nx))\n",
    "#             print(graph)\n",
    "    return graph[N-1][M-1]\n",
    "\n",
    "print(bfs(0,0))\n",
    "            \n",
    "            "
   ]
  }
 ],
 "metadata": {
  "kernelspec": {
   "display_name": "Python 3",
   "language": "python",
   "name": "python3"
  },
  "language_info": {
   "codemirror_mode": {
    "name": "ipython",
    "version": 3
   },
   "file_extension": ".py",
   "mimetype": "text/x-python",
   "name": "python",
   "nbconvert_exporter": "python",
   "pygments_lexer": "ipython3",
   "version": "3.8.5"
  }
 },
 "nbformat": 4,
 "nbformat_minor": 5
}
