{
 "cells": [
  {
   "cell_type": "markdown",
   "id": "f55f4332",
   "metadata": {},
   "source": [
    "## 그룹단어체커\n",
    "- 그룹 단어란 단어에 존재하는 모든 문자에 대해서, 각 문자가 연속해서 나타나는 경우만을 말함\n",
    "- ex) ccazzzzbb => cazb가 모두 연속해서 나타남 (o)\n",
    "- ex) aabbbccb => b가 떨어져서 나타남 (x)\n",
    "- 그룹 단어의 갯수 출력"
   ]
  },
  {
   "cell_type": "code",
   "execution_count": null,
   "id": "4f6048c7",
   "metadata": {},
   "outputs": [],
   "source": []
  },
  {
   "cell_type": "code",
   "execution_count": null,
   "id": "bdd72f73",
   "metadata": {},
   "outputs": [],
   "source": []
  },
  {
   "cell_type": "code",
   "execution_count": null,
   "id": "1014dd0d",
   "metadata": {},
   "outputs": [],
   "source": []
  },
  {
   "cell_type": "code",
   "execution_count": null,
   "id": "38ab4c58",
   "metadata": {},
   "outputs": [],
   "source": []
  },
  {
   "cell_type": "code",
   "execution_count": 9,
   "id": "f422470b",
   "metadata": {},
   "outputs": [
    {
     "name": "stdout",
     "output_type": "stream",
     "text": [
      "4\n",
      "aba\n",
      "abab\n",
      "abcabc\n",
      "a\n",
      "1\n"
     ]
    }
   ],
   "source": [
    "N = int(input())\n",
    "\n",
    "# TEST\n",
    "word_cnt = 0\n",
    "for _ in range(N):\n",
    "    word = input()\n",
    "    use = [] # 사용되고 있는 word dictionary\n",
    "    use.append(word[0])\n",
    "    now = '' # 현재 체크중인 w\n",
    "    is_pass = True\n",
    "    for i in range(0, len(word)-1): # 0123\n",
    "        now = word[i] # 현재의 w를 now에 박음\n",
    "        if word[i] != word[i+1]: # 다음 w와 비교해서 다르다면 \n",
    "            if word[i+1] not in use: \n",
    "                use.append(word[i+1])\n",
    "            else: # 이미 use에 있으면 부결\n",
    "                is_pass = False\n",
    "                break \n",
    "    # 그룹단어면\n",
    "    if is_pass == True:\n",
    "#         print('통과된', word)\n",
    "        word_cnt+=1\n",
    "\n",
    "print(word_cnt)\n",
    "    "
   ]
  },
  {
   "cell_type": "code",
   "execution_count": 10,
   "id": "a12b7a37",
   "metadata": {},
   "outputs": [
    {
     "name": "stdout",
     "output_type": "stream",
     "text": [
      "4\n",
      "aba\n",
      "abab\n",
      "abcabc\n",
      "a\n",
      "1\n"
     ]
    }
   ],
   "source": [
    "## 다른 방법중 하나\n",
    "N = int(input())\n",
    "\n",
    "# TEST\n",
    "word_cnt = 0\n",
    "for _ in range(N):\n",
    "    word = input()\n",
    "    use = [] # 사용되고 있는 word dictionary\n",
    "    is_pass = True\n",
    "    for i in range(0, len(word)-1): # 0123\n",
    "        if word[i] != word[i+1]: # 다음 w와 비교해서 다르다면 \n",
    "            # 다른 이후부터의 문자열 재생성\n",
    "            new_word = word[i+1:]\n",
    "            if new_word.count(word[i]) > 0: # 남은 문자열 중 word 가 하나라도 있다면\n",
    "                is_pass = False\n",
    "    # 그룹단어면\n",
    "    if is_pass == True:\n",
    "#         print('통과된', word)\n",
    "        word_cnt+=1\n",
    "\n",
    "print(word_cnt)\n",
    "    "
   ]
  }
 ],
 "metadata": {
  "kernelspec": {
   "display_name": "Python 3",
   "language": "python",
   "name": "python3"
  },
  "language_info": {
   "codemirror_mode": {
    "name": "ipython",
    "version": 3
   },
   "file_extension": ".py",
   "mimetype": "text/x-python",
   "name": "python",
   "nbconvert_exporter": "python",
   "pygments_lexer": "ipython3",
   "version": "3.8.5"
  }
 },
 "nbformat": 4,
 "nbformat_minor": 5
}
