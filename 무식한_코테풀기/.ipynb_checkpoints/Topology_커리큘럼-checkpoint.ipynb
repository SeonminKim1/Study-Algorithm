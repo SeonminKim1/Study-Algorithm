{
 "cells": [
  {
   "cell_type": "markdown",
   "id": "1ba3be26",
   "metadata": {},
   "source": [
    "## Topology_커리큘럼 (위상 정렬)\n",
    "- N개의 강의 들음 / 모든 강의는 1부터 N번까지의 번호를 가짐\n",
    "- N개의 강의에 대하여 수강하기까지 걸리는 최소 시간 출력"
   ]
  },
  {
   "cell_type": "markdown",
   "id": "01018e5f",
   "metadata": {},
   "source": [
    "## 요약\n",
    "- 진입차수 배열(indegree) 선언\n",
    "- graph 위상 그래프 배열 선언\n",
    "- queue 이용 값 꺼내서 연산 수행 후에 indegree 감소, queue 추가"
   ]
  },
  {
   "cell_type": "code",
   "execution_count": 9,
   "id": "2527e5bd",
   "metadata": {},
   "outputs": [
    {
     "name": "stdout",
     "output_type": "stream",
     "text": [
      "5\n",
      "10 -1\n",
      "10 1 -1\n",
      "4 1 -1\n",
      "4 3 1 -1\n",
      "3 3 -1\n",
      "=== deque([1])\n",
      "====now 1 result [0, 10, 20, 4, 4, 3] indegree [0, 0, 0, 1, 2, 1] time [0, 10, 10, 4, 4, 3]\n",
      "====now 1 result [0, 10, 20, 14, 4, 3] indegree [0, 0, 0, 0, 2, 1] time [0, 10, 10, 4, 4, 3]\n",
      "====now 1 result [0, 10, 20, 14, 14, 3] indegree [0, 0, 0, 0, 1, 1] time [0, 10, 10, 4, 4, 3]\n",
      "=== deque([2, 3])\n",
      "=== deque([3])\n",
      "====now 3 result [0, 10, 20, 14, 18, 3] indegree [0, 0, 0, 0, 0, 1] time [0, 10, 10, 4, 4, 3]\n",
      "====now 3 result [0, 10, 20, 14, 18, 17] indegree [0, 0, 0, 0, 0, 0] time [0, 10, 10, 4, 4, 3]\n",
      "=== deque([4, 5])\n",
      "=== deque([5])\n",
      "[0, 10, 20, 14, 18, 17]\n"
     ]
    }
   ],
   "source": [
    "#### from collections import deque\n",
    "import copy\n",
    "\n",
    "# 노드의 갯수 입력받기\n",
    "v = int(input())\n",
    "\n",
    "indegree = [0] * (v+1) # 모든 노드에 대한 진입 차수 배열 0 초기화\n",
    "time = [0] * (v+1) # 강의 시간 초기화\n",
    "\n",
    "# 각 노드에 연결된 간선 정보를 담기 위한 연결 리스트 초기화\n",
    "graph = [[] for i in range(v+1)]\n",
    "\n",
    "# 방향 그래프 간선 정보 입력받기\n",
    "for i in range(1, v+1):\n",
    "    data = list(map(int, input().split()))\n",
    "    time[i] = data[0] # 첫 번째 수는 시간 정보를 가짐\n",
    "    for x in data[1:-1]:\n",
    "        indegree[i] += 1 # 각 노드별 진입 찻수 파악\n",
    "        graph[x].append(i) # graph에 정보 추가\n",
    "        \n",
    "result = copy.deepcopy(time) # 각 노드별 들어야 하는 강의 시간\n",
    "\n",
    "from collections import deque\n",
    "def topology_sort():\n",
    "    queue = deque()\n",
    "    \n",
    "    # 처음 진입차수 0인 노드 큐 삽입\n",
    "    for i in range(1, v+1):\n",
    "        if indegree[i] == 0:\n",
    "            queue.append(i)\n",
    "    \n",
    "    # 큐가 빌 때까지 반복\n",
    "    while queue:\n",
    "        print('===',queue)\n",
    "        # 큐에서 원소 꺼내기\n",
    "        now = queue.popleft() # node 번호 \n",
    "        \n",
    "        # 해당 원소와 연결된 노드들의 진입차수에서 1 빼기\n",
    "        for i in graph[now]: # ex) now가 4일 때 [1,3]이 i\n",
    "            result[i] = max(result[i], result[now] + time[i]) # 타고 타고 들어갔을 떄의 경우를 위해 max 붙임\n",
    "\n",
    "            indegree[i] -= 1 # 차수 전부 1씩 뺴기.\n",
    "            print('====now',now,'result',result,'indegree',indegree,'time',time)\n",
    "            # 새롭게 진입차수가 0이 되는 노드를 큐에 삽입\n",
    "            if indegree[i] == 0:\n",
    "                queue.append(i)\n",
    "    # 위상 정렬 수행 결과 출력\n",
    "    print(result)\n",
    "#     for i in range(1, v+1):\n",
    "#         print(result[i])\n",
    "\n",
    "topology_sort()    \n"
   ]
  },
  {
   "cell_type": "code",
   "execution_count": null,
   "id": "7244e9a6",
   "metadata": {},
   "outputs": [],
   "source": [
    "## 입력\n",
    "# 5\n",
    "# 10 -1\n",
    "# 10 1 -1\n",
    "# 4 1 -1\n",
    "# 4 3 1 -1\n",
    "# 3 3 -1\n",
    "\n",
    "## 출력\n",
    "# 10\n",
    "# 20\n",
    "# 14\n",
    "# 18\n",
    "# 17"
   ]
  }
 ],
 "metadata": {
  "kernelspec": {
   "display_name": "Python 3",
   "language": "python",
   "name": "python3"
  },
  "language_info": {
   "codemirror_mode": {
    "name": "ipython",
    "version": 3
   },
   "file_extension": ".py",
   "mimetype": "text/x-python",
   "name": "python",
   "nbconvert_exporter": "python",
   "pygments_lexer": "ipython3",
   "version": "3.8.5"
  }
 },
 "nbformat": 4,
 "nbformat_minor": 5
}
