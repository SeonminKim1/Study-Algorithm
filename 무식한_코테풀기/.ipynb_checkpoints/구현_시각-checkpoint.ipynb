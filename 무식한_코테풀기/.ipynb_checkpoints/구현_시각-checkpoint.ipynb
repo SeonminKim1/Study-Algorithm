{
 "cells": [
  {
   "cell_type": "markdown",
   "id": "a7e5ff68",
   "metadata": {},
   "source": [
    "## 시각 \n",
    "- 정수 N이 입력되면 00시 00분 00초부터 N시 59분 59초까지의 모든 시각 중에서 3이 하나라도 포함되는 모든 경우의 수를 구하는 프로그램을 작성하시오.\n"
   ]
  },
  {
   "cell_type": "code",
   "execution_count": 2,
   "id": "5304bf5d",
   "metadata": {},
   "outputs": [
    {
     "name": "stdout",
     "output_type": "stream",
     "text": [
      "5\n",
      "11475\n"
     ]
    }
   ],
   "source": [
    "# ex) 00시 00분 00초부터 N시 59분 59초까지의 모든 시각 중 3이 하나라도 포함되는 모든 경우의수 출력\n",
    "\n",
    "N = int(input())\n",
    "\n",
    "# 5시 59분 59초\n",
    "\n",
    "# 시\n",
    "count = 0\n",
    "for h in range(0, N+1):\n",
    "    for m in range(0, 60):\n",
    "        for s in range(0, 60):\n",
    "            time = str(h) + str(m) + str(s)\n",
    "            if '3' in time:\n",
    "                count+=1\n",
    "print(count)"
   ]
  }
 ],
 "metadata": {
  "kernelspec": {
   "display_name": "Python 3",
   "language": "python",
   "name": "python3"
  },
  "language_info": {
   "codemirror_mode": {
    "name": "ipython",
    "version": 3
   },
   "file_extension": ".py",
   "mimetype": "text/x-python",
   "name": "python",
   "nbconvert_exporter": "python",
   "pygments_lexer": "ipython3",
   "version": "3.8.5"
  }
 },
 "nbformat": 4,
 "nbformat_minor": 5
}
