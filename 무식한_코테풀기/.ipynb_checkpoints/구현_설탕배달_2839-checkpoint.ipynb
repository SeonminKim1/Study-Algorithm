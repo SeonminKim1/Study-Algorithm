{
 "cells": [
  {
   "cell_type": "markdown",
   "id": "5bec470a",
   "metadata": {},
   "source": [
    "## 설탕배달\n",
    "- 5kg 짜리 3kg 짜리 존재\n",
    "- 최소의 봉지 갯수로 들고가려고 함"
   ]
  },
  {
   "cell_type": "markdown",
   "id": "f38d9b1b",
   "metadata": {},
   "source": [
    "## 주의할점\n",
    "- 반복문 10 ~ -1 로 갈 때 range(9, -1 , -1) 하기\n",
    "- 반복문 원소 사용하는 거 까먹지 말기"
   ]
  },
  {
   "cell_type": "code",
   "execution_count": 21,
   "id": "e217e3a4",
   "metadata": {},
   "outputs": [
    {
     "name": "stdout",
     "output_type": "stream",
     "text": [
      "9\n",
      "3\n"
     ]
    }
   ],
   "source": [
    "N = int(input())\n",
    "\n",
    "# 봉지 갯수 리스트\n",
    "p_bag = []\n",
    "\n",
    "# 37\n",
    "# 5kg 짜리 0개부터 ~ 몫 갯수까지\n",
    "# 3으로 나눠 떨어지지 않으면 \n",
    "\n",
    "a = N//5 # 몫\n",
    "b = 0 # 나머지\n",
    "# c 는 나머지 중 3의 몫\n",
    "for i in range(a, -1, -1):\n",
    "    b = N - i*5\n",
    "    if b%3 == 0:\n",
    "        c = b // 3 \n",
    "        p_bag.append(i+c)\n",
    "\n",
    "if p_bag == []:\n",
    "    print(-1)\n",
    "else:\n",
    "    print(min(p_bag))\n"
   ]
  }
 ],
 "metadata": {
  "kernelspec": {
   "display_name": "Python 3",
   "language": "python",
   "name": "python3"
  },
  "language_info": {
   "codemirror_mode": {
    "name": "ipython",
    "version": 3
   },
   "file_extension": ".py",
   "mimetype": "text/x-python",
   "name": "python",
   "nbconvert_exporter": "python",
   "pygments_lexer": "ipython3",
   "version": "3.8.5"
  }
 },
 "nbformat": 4,
 "nbformat_minor": 5
}
