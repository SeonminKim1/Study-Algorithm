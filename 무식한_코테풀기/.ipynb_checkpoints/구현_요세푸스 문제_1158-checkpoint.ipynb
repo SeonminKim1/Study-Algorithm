{
 "cells": [
  {
   "cell_type": "markdown",
   "id": "cefea0ec",
   "metadata": {},
   "source": [
    "## 요세 푸스 문제\n",
    "- 1번부터 N번까지 N명의 사람이 원을 이루면서 앉아있고, 양의 정수 K(≤ N)가 주어진다.\n",
    "- 순서대로 K번째 사람을 제거\n",
    "- 한 사람이 제거되면 남은 사람들로 이루어진 원을 따라 이 과정을 계속해 나간다.\n",
    "- 이 과정은 N명의 사람이 모두 제거될 때까지 계속됨\n",
    "- 원에서 사람들이 제거되는 순서를 (N, K)-요세푸스 순열\n",
    "- EX) (7, 3)-요세푸스 순열은 <3, 6, 2, 7, 5, 1, 4>이다.\n",
    "- N과 K가 주어지면 (N, K)-요세푸스 순열을 구하는 프로그램을 작성하시오.\n"
   ]
  },
  {
   "cell_type": "code",
   "execution_count": 24,
   "id": "566c5ba3",
   "metadata": {},
   "outputs": [
    {
     "name": "stdout",
     "output_type": "stream",
     "text": [
      "7 3\n",
      "<3, 6, 2, 7, 5, 1, 4>\n"
     ]
    }
   ],
   "source": [
    "N, K = map(int, input().split())\n",
    "s = [i for i in range(1, N+1)] # [1,2,3,4,5,6,7...]\n",
    "n = 0 # 제거될 인덱스 번호\n",
    "q = []\n",
    "\n",
    "for i in range(N):\n",
    "    n += K-1\n",
    "    if n >= len(s):\n",
    "        n = n%len(s)\n",
    "    q.append(str(s[n]))\n",
    "    s.pop(n)\n",
    "    \n",
    "print(\"<\" + \", \".join(q) + \">\", sep='')\n",
    "    "
   ]
  }
 ],
 "metadata": {
  "kernelspec": {
   "display_name": "Python 3",
   "language": "python",
   "name": "python3"
  },
  "language_info": {
   "codemirror_mode": {
    "name": "ipython",
    "version": 3
   },
   "file_extension": ".py",
   "mimetype": "text/x-python",
   "name": "python",
   "nbconvert_exporter": "python",
   "pygments_lexer": "ipython3",
   "version": "3.8.5"
  }
 },
 "nbformat": 4,
 "nbformat_minor": 5
}
