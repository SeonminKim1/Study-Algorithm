{
 "cells": [
  {
   "cell_type": "markdown",
   "id": "e7c48916",
   "metadata": {},
   "source": [
    "## 2007년\n",
    "- 오늘은 2007년 1월 1일 \n",
    "- 2007년 x월 y일은 무슨요일?\n"
   ]
  },
  {
   "cell_type": "code",
   "execution_count": null,
   "id": "c819f4e1",
   "metadata": {},
   "outputs": [],
   "source": [
    "months = [31, 28, 31, 30, 31, 30, 31, 31, 30, 31, 30, 31]\n",
    "week = ['SUN', 'MON', 'TUE', 'WED', 'THU', 'FRI', 'SAT']\n",
    "\n",
    "x, y = map(int, input().split())"
   ]
  },
  {
   "cell_type": "code",
   "execution_count": null,
   "id": "a09eb706",
   "metadata": {},
   "outputs": [],
   "source": []
  }
 ],
 "metadata": {
  "kernelspec": {
   "display_name": "Python 3",
   "language": "python",
   "name": "python3"
  },
  "language_info": {
   "codemirror_mode": {
    "name": "ipython",
    "version": 3
   },
   "file_extension": ".py",
   "mimetype": "text/x-python",
   "name": "python",
   "nbconvert_exporter": "python",
   "pygments_lexer": "ipython3",
   "version": "3.8.5"
  }
 },
 "nbformat": 4,
 "nbformat_minor": 5
}
