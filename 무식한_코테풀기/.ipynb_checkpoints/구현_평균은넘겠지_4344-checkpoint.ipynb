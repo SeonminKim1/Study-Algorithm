{
 "cells": [
  {
   "cell_type": "markdown",
   "id": "7294d5e5",
   "metadata": {},
   "source": [
    "## 평균은 넘겠지"
   ]
  },
  {
   "cell_type": "code",
   "execution_count": 9,
   "id": "d0473b71",
   "metadata": {},
   "outputs": [
    {
     "name": "stdout",
     "output_type": "stream",
     "text": [
      "3.000\n"
     ]
    }
   ],
   "source": [
    "ratio = 3\n",
    "print('%.3f' %ratio)"
   ]
  },
  {
   "cell_type": "code",
   "execution_count": 16,
   "id": "8f95ef51",
   "metadata": {},
   "outputs": [
    {
     "name": "stdout",
     "output_type": "stream",
     "text": [
      "5\n",
      "5 50 50 70 80 100\n",
      "40.000%\n",
      "7 100 95 90 80 70 60 50\n",
      "57.143%\n",
      "3 70 90 80\n",
      "33.333%\n",
      "3 70 90 81\n",
      "66.667%\n",
      "9 100 99 98 97 96 95 94 93 91\n",
      "55.556%\n"
     ]
    }
   ],
   "source": [
    "import copy\n",
    "\n",
    "T = int(input())\n",
    "\n",
    "visit = []\n",
    "for _ in range(T):\n",
    "    number = list(map(int, input().split()))\n",
    "    k = number[0] \n",
    "    kk = number[1:]\n",
    "    count = 0\n",
    "    mean = sum(kk) / len(kk)\n",
    "    for i in kk:\n",
    "        if i > mean:\n",
    "            count+=1\n",
    "    ratio = round(count/len(kk)*100, 3)\n",
    "    print('%.3f' %ratio + '%')\n",
    "#     print(f'{ratio:.3f}%')    "
   ]
  }
 ],
 "metadata": {
  "kernelspec": {
   "display_name": "Python 3",
   "language": "python",
   "name": "python3"
  },
  "language_info": {
   "codemirror_mode": {
    "name": "ipython",
    "version": 3
   },
   "file_extension": ".py",
   "mimetype": "text/x-python",
   "name": "python",
   "nbconvert_exporter": "python",
   "pygments_lexer": "ipython3",
   "version": "3.8.5"
  }
 },
 "nbformat": 4,
 "nbformat_minor": 5
}
