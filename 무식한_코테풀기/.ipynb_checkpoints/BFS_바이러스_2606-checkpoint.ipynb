{
 "cells": [
  {
   "cell_type": "markdown",
   "id": "b51b0e8b",
   "metadata": {},
   "source": [
    "## 바이러스\n",
    "- 그래프 연결된 것들은 다 바이러스에 걸림\n",
    "- 총 바이러스에 걸린 컴퓨터 갯수"
   ]
  },
  {
   "cell_type": "code",
   "execution_count": 30,
   "id": "93fa8a67",
   "metadata": {},
   "outputs": [
    {
     "name": "stdout",
     "output_type": "stream",
     "text": [
      "7\n",
      "6\n",
      "1 2\n",
      "2 3\n",
      "1 5\n",
      "5 2\n",
      "5 6\n",
      "4 7\n"
     ]
    }
   ],
   "source": [
    "from collections import deque\n",
    "N = int(input()) # 컴퓨터 갯수\n",
    "matrix = [0] * (N+1) # 컴퓨터  갯수 방문여부\n",
    "computer = [[] for _ in range(N+1)] # 간선\n",
    "\n",
    "# computer 2차원 리스트 초기화\n",
    "for i in range(int(input())):\n",
    "    a, b = map(int, input().split())\n",
    "    computer[a].append(b)\n",
    "    computer[b].append(a)\n",
    "\n",
    "matrix[1] = 1\n",
    "queue = deque([1]) # 1번 컴퓨터부터\n"
   ]
  },
  {
   "cell_type": "code",
   "execution_count": 31,
   "id": "c7934cb7",
   "metadata": {},
   "outputs": [
    {
     "data": {
      "text/plain": [
       "[[], [2, 5], [1, 3, 5], [2], [7], [1, 2, 6], [5], [4]]"
      ]
     },
     "execution_count": 31,
     "metadata": {},
     "output_type": "execute_result"
    }
   ],
   "source": [
    "computer"
   ]
  },
  {
   "cell_type": "code",
   "execution_count": 39,
   "id": "552919e0",
   "metadata": {},
   "outputs": [
    {
     "data": {
      "text/plain": [
       "[0, 1, 0, 0, 0, 0, 0, 0]"
      ]
     },
     "execution_count": 39,
     "metadata": {},
     "output_type": "execute_result"
    }
   ],
   "source": [
    "matrix"
   ]
  },
  {
   "cell_type": "code",
   "execution_count": 44,
   "id": "d8c02d1a",
   "metadata": {},
   "outputs": [
    {
     "name": "stdout",
     "output_type": "stream",
     "text": [
      "4\n"
     ]
    }
   ],
   "source": [
    "while queue:\n",
    "    x = queue.popleft() # 1 \n",
    "    for i in range(len(computer[x])): # => 2개\n",
    "        if matrix[computer[x][i]] == 0: # 2번, 5번 방문한 적이 없으면\n",
    "            queue.append(computer[x][i]) # queue에 추가 \n",
    "            matrix[computer[x][i]] = 1 # 방문 기록 업데이트\n",
    "print(sum(matrix) - 1)    "
   ]
  },
  {
   "cell_type": "markdown",
   "id": "3eca3c64",
   "metadata": {},
   "source": [
    "## 참고\n",
    "- https://velog.io/@whiteamericano/%EB%B0%B1%EC%A4%80-2606%EB%B2%88-BFS-DFS-solution-Python"
   ]
  }
 ],
 "metadata": {
  "kernelspec": {
   "display_name": "Python 3",
   "language": "python",
   "name": "python3"
  },
  "language_info": {
   "codemirror_mode": {
    "name": "ipython",
    "version": 3
   },
   "file_extension": ".py",
   "mimetype": "text/x-python",
   "name": "python",
   "nbconvert_exporter": "python",
   "pygments_lexer": "ipython3",
   "version": "3.8.5"
  }
 },
 "nbformat": 4,
 "nbformat_minor": 5
}
