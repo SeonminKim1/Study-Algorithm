{
 "cells": [
  {
   "cell_type": "markdown",
   "id": "77b709bc",
   "metadata": {},
   "source": [
    "## 분수 찾기\n",
    "- 대각선으로 줄을 나눠보면\n",
    "    - [1/1]\n",
    "    - [2/1, 1/2]\n",
    "    - [3/1, 2/2, 1/3] \n",
    "    - [4/1, 3/2, 2/3, 1/4]"
   ]
  },
  {
   "cell_type": "code",
   "execution_count": 5,
   "id": "ef6db19d",
   "metadata": {},
   "outputs": [
    {
     "name": "stdout",
     "output_type": "stream",
     "text": [
      "2\n",
      "1/2\n"
     ]
    }
   ],
   "source": [
    "# X를 1씩 커가는 N 수만큼 빼나가서 몇번쨰 대각선의 몇번째 숫자인지 구하기\n",
    "# 대각선이 홀수면 오름차순, 짝수이면 내림차순\n",
    "\n",
    "X = int(input()) # 8 -1 -2 -3 => 2\n",
    "line = 1\n",
    "while True:\n",
    "    if X <= line:\n",
    "        break\n",
    "    X = X-line\n",
    "    line+=1 # line은 한칸씩 증가\n",
    "\n",
    "# 짝수면 내림차순\n",
    "if line%2 == 0:\n",
    "    a, b = X, line-X+1\n",
    "else:\n",
    "    a, b = line-X+1, X\n",
    "print(str(a) + '/'+str(b))"
   ]
  }
 ],
 "metadata": {
  "kernelspec": {
   "display_name": "Python 3",
   "language": "python",
   "name": "python3"
  },
  "language_info": {
   "codemirror_mode": {
    "name": "ipython",
    "version": 3
   },
   "file_extension": ".py",
   "mimetype": "text/x-python",
   "name": "python",
   "nbconvert_exporter": "python",
   "pygments_lexer": "ipython3",
   "version": "3.8.5"
  }
 },
 "nbformat": 4,
 "nbformat_minor": 5
}
