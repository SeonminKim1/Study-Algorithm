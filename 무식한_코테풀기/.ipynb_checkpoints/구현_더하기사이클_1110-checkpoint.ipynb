{
 "cells": [
  {
   "cell_type": "markdown",
   "id": "0b28ee5b",
   "metadata": {},
   "source": [
    "## 더하기 사이클\n",
    "- 0~99 정수 \n",
    "- 10보다 작다면 앞에 0을 붙여 두자리수 로 만들고 각 자리의 숫자를 더함\n",
    "- 오른쪽 자리 수와 앞에서 구한 합의 가장 오른쪽 자리 수를 이어 붙여 새로우순\n",
    "\n",
    "- a + b = cd ==> bd"
   ]
  },
  {
   "cell_type": "code",
   "execution_count": 16,
   "id": "dc4943c5",
   "metadata": {},
   "outputs": [
    {
     "name": "stdout",
     "output_type": "stream",
     "text": [
      "0\n",
      "1\n"
     ]
    }
   ],
   "source": [
    "## a + b = cd ==> bd\n",
    "N = int(input())\n",
    "new_N = N\n",
    "count = 0\n",
    "while True:\n",
    "    # 만약 N이 10보다 작다면 a = 0으로\n",
    "    if new_N < 10:\n",
    "        a = 0\n",
    "    else:\n",
    "        a = new_N//10\n",
    "\n",
    "    b = new_N%10\n",
    "    c = a+b\n",
    "    d = c%10\n",
    "    new_N = b*10 + d\n",
    "    count+=1\n",
    "    if new_N == N:\n",
    "        break\n",
    "print(count)"
   ]
  }
 ],
 "metadata": {
  "kernelspec": {
   "display_name": "Python 3",
   "language": "python",
   "name": "python3"
  },
  "language_info": {
   "codemirror_mode": {
    "name": "ipython",
    "version": 3
   },
   "file_extension": ".py",
   "mimetype": "text/x-python",
   "name": "python",
   "nbconvert_exporter": "python",
   "pygments_lexer": "ipython3",
   "version": "3.8.5"
  }
 },
 "nbformat": 4,
 "nbformat_minor": 5
}
