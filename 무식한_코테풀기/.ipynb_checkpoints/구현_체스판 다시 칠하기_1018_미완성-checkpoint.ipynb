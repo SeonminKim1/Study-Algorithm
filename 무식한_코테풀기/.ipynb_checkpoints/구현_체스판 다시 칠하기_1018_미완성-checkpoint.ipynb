{
 "cells": [
  {
   "cell_type": "markdown",
   "id": "9ff2076e",
   "metadata": {},
   "source": [
    "## 체스판 다시 칠하기\n",
    "- 지민이는 MN개의 단위 정사각형 M×N 크기의 보드를 찾았다.\n",
    "- 어떤 정사각형은 검은색으로 칠해져 있고, 나머지는 흰색으로 칠해져 있다. 지민이는 이 보드를 잘라서 8×8 크기의 체스판으로 만들려고 한다.\n",
    "- 검은색과 흰색이 번갈아서 칠해져 있어야 한다. 구체적으로, 각 칸이 검은색과 흰색 중 하나로 색칠\n",
    "- 보드가 체스판처럼 칠해져 있다는 보장이 없어서, 지민이는 8×8 크기의 체스판으로 잘라낸 후에 몇 개의 정사각형을 다시 칠해야겠다고 생각했다. 당연히 8*8 크기는 아무데서나 골라도 된다. 지민이가 다시 칠해야 하는 정사각형의 최소 개수를 구하는 프로그램을 작성"
   ]
  },
  {
   "cell_type": "code",
   "execution_count": 33,
   "id": "a90af6aa",
   "metadata": {},
   "outputs": [
    {
     "name": "stdout",
     "output_type": "stream",
     "text": [
      "10 13\n",
      "BBBBBBBBWBWBW\n",
      "BBBBBBBBBWBWB\n",
      "BBBBBBBBWBWBW\n",
      "BBBBBBBBBWBWB\n",
      "BBBBBBBBWBWBW\n",
      "BBBBBBBBBWBWB\n",
      "BBBBBBBBWBWBW\n",
      "BBBBBBBBBWBWB\n",
      "WWWWWWWWWWBWB\n",
      "WWWWWWWWWWBWB\n",
      "========\n",
      "[[1, 1, 1, 1, 1, 1, 1, 1, 0, 1, 0, 1, 0], [1, 1, 1, 1, 1, 1, 1, 1, 1, 0, 1, 0, 1], [1, 1, 1, 1, 1, 1, 1, 1, 0, 1, 0, 1, 0], [1, 1, 1, 1, 1, 1, 1, 1, 1, 0, 1, 0, 1], [1, 1, 1, 1, 1, 1, 1, 1, 0, 1, 0, 1, 0], [1, 1, 1, 1, 1, 1, 1, 1, 1, 0, 1, 0, 1], [1, 1, 1, 1, 1, 1, 1, 1, 0, 1, 0, 1, 0], [1, 1, 1, 1, 1, 1, 1, 1, 1, 0, 1, 0, 1], [0, 0, 0, 0, 0, 0, 0, 0, 0, 0, 1, 0, 1], [0, 0, 0, 0, 0, 0, 0, 0, 0, 0, 1, 0, 1]]\n",
      "[32, 28, 24, 20, 16, 12, 24, 21, 17, 15, 11, 9, 16, 13, 10, 9, 6, 5]\n"
     ]
    }
   ],
   "source": [
    "# N은 세로, M은 가로\n",
    "N, M = map(int, input().split())\n",
    "\n",
    "maps = []\n",
    "def F(x):\n",
    "    if x=='W':\n",
    "        return 0\n",
    "    elif x=='B':\n",
    "        return 1\n",
    "    \n",
    "for _ in range(N):\n",
    "    line = list(input()) # [B,B,B,B,B,B,B,B,W,B,]\n",
    "    maps.append(list(map(lambda x:F(x), line))) # ['1','1','1','0',]\n",
    "\n",
    "def get_sum(maps):\n",
    "    s = 0\n",
    "    for ls in maps:\n",
    "        s += sum(ls)\n",
    "    return s\n",
    "\n",
    "# N-8+1\n",
    "count_list = []\n",
    "for i in range(0, N-8+1): # N=10 => 0,1,2\n",
    "    for j in range(0, M-8+1):\n",
    "        sub_maps = [row[j:j+8] for row in maps[i:i+8]]\n",
    "        result = get_sum(sub_maps)\n",
    "        count_list.append(abs(32-result))\n",
    "print(count_list)"
   ]
  },
  {
   "cell_type": "code",
   "execution_count": null,
   "id": "e64caeff",
   "metadata": {},
   "outputs": [],
   "source": [
    "10 13\n",
    "BBBBBBBBWBWBW\n",
    "BBBBBBBBBWBWB\n",
    "BBBBBBBBWBWBW\n",
    "BBBBBBBBBWBWB\n",
    "BBBBBBBBWBWBW\n",
    "BBBBBBBBBWBWB\n",
    "BBBBBBBBWBWBW\n",
    "BBBBBBBBBWBWB\n",
    "WWWWWWWWWWBWB\n",
    "WWWWWWWWWWBWB"
   ]
  },
  {
   "cell_type": "code",
   "execution_count": null,
   "id": "f08558d0",
   "metadata": {},
   "outputs": [],
   "source": [
    "8 8\n",
    "WBWBWBWB\n",
    "BWBWBWBW\n",
    "WBWBWBWB\n",
    "BWBBBWBW\n",
    "WBWBWBWB\n",
    "BWBWBWBW\n",
    "WBWBWBWB\n",
    "BWBWBWBW"
   ]
  },
  {
   "cell_type": "code",
   "execution_count": 17,
   "id": "760079bd",
   "metadata": {},
   "outputs": [
    {
     "data": {
      "text/plain": [
       "[None]"
      ]
     },
     "execution_count": 17,
     "metadata": {},
     "output_type": "execute_result"
    }
   ],
   "source": [
    "ls = ['WBWB']\n",
    "def F(x):\n",
    "    if x=='W':\n",
    "        return 0\n",
    "    elif x=='B':\n",
    "        return 1\n",
    "    \n",
    "list(map(lambda x:F(x), ls))"
   ]
  },
  {
   "cell_type": "code",
   "execution_count": 30,
   "id": "592091ab",
   "metadata": {},
   "outputs": [
    {
     "data": {
      "text/plain": [
       "[[1, 1, 0, 1], [1, 1, 0, 1]]"
      ]
     },
     "execution_count": 30,
     "metadata": {},
     "output_type": "execute_result"
    }
   ],
   "source": [
    "k = [[1,1,0,1],[1,1,0,1],[1,1,0,1]]\n",
    "k[0:2]"
   ]
  },
  {
   "cell_type": "code",
   "execution_count": 23,
   "id": "3783d295",
   "metadata": {},
   "outputs": [
    {
     "data": {
      "text/plain": [
       "[3]"
      ]
     },
     "execution_count": 23,
     "metadata": {},
     "output_type": "execute_result"
    }
   ],
   "source": [
    "s = [1,3,4,5]\n",
    "s[1:2]"
   ]
  }
 ],
 "metadata": {
  "kernelspec": {
   "display_name": "Python 3",
   "language": "python",
   "name": "python3"
  },
  "language_info": {
   "codemirror_mode": {
    "name": "ipython",
    "version": 3
   },
   "file_extension": ".py",
   "mimetype": "text/x-python",
   "name": "python",
   "nbconvert_exporter": "python",
   "pygments_lexer": "ipython3",
   "version": "3.8.5"
  }
 },
 "nbformat": 4,
 "nbformat_minor": 5
}
