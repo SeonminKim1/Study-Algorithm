{
 "cells": [
  {
   "cell_type": "markdown",
   "id": "752779ef",
   "metadata": {},
   "source": [
    "## BFS 영역 구하기\n",
    "- 모눈종이에 직사각형 그림\n",
    "- 안 겹 치는 부분의 면적 값 구하기"
   ]
  },
  {
   "cell_type": "code",
   "execution_count": 13,
   "id": "d8c237e5",
   "metadata": {},
   "outputs": [
    {
     "name": "stdout",
     "output_type": "stream",
     "text": [
      "5 7 3\n",
      "0 2 4 4\n",
      "1 1 2 5\n",
      "4 0 6 2\n",
      "3\n",
      "1 7 13 "
     ]
    }
   ],
   "source": [
    "M, N, K = map(int, input().split())\n",
    "\n",
    "maps = [[0]*N for _ in range(M)] # M은 세로, N은 가로\n",
    "# 0244 => 2<= <4가지고 23 색칠\n",
    "# 0244 => 0<= <4가지고 0123 색칠\n",
    "\n",
    "for _ in range(K):    \n",
    "    x1, y1, x2, y2 = map(int, input().split())\n",
    "    # 면적 색칠\n",
    "    for y in range(y1, y2, 1):\n",
    "        for x in range(x1, x2, 1):\n",
    "            maps[y][x] = 1\n",
    "\n",
    "from collections import deque\n",
    "dx = [-1, 1, 0, 0]\n",
    "dy = [0, 0, -1, 1]\n",
    "\n",
    "def bfs(y, x, maps):\n",
    "    queue = deque()\n",
    "    queue.append((y,x))\n",
    "    count = 1\n",
    "    while queue:\n",
    "        y, x = queue.popleft() \n",
    "        maps[y][x] = 1\n",
    "        for k in range(4):\n",
    "            ny = y + dy[k]\n",
    "            nx = x + dx[k]\n",
    "            if ny<0 or nx <0 or ny>=M or nx >= N:\n",
    "                continue\n",
    "            if maps[ny][nx] == 1:\n",
    "                continue\n",
    "            queue.append((ny,nx))\n",
    "            maps[ny][nx] = 1\n",
    "            count += 1\n",
    "    return count\n",
    "\n",
    "count_list = []\n",
    "for i in range(M):\n",
    "    for j in range(N):\n",
    "        if maps[i][j] == 0:\n",
    "            count = bfs(i,j,maps)\n",
    "            count_list.append(count)\n",
    "\n",
    "# 정답 출력\n",
    "count_list.sort()\n",
    "print(len(count_list))\n",
    "for m in count_list:\n",
    "    print(m , end=' ')"
   ]
  }
 ],
 "metadata": {
  "kernelspec": {
   "display_name": "Python 3",
   "language": "python",
   "name": "python3"
  },
  "language_info": {
   "codemirror_mode": {
    "name": "ipython",
    "version": 3
   },
   "file_extension": ".py",
   "mimetype": "text/x-python",
   "name": "python",
   "nbconvert_exporter": "python",
   "pygments_lexer": "ipython3",
   "version": "3.8.5"
  }
 },
 "nbformat": 4,
 "nbformat_minor": 5
}
