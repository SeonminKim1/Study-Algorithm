{
 "cells": [
  {
   "cell_type": "markdown",
   "id": "b17412dd",
   "metadata": {},
   "source": [
    "## 상하좌우"
   ]
  },
  {
   "cell_type": "code",
   "execution_count": 6,
   "id": "3db6a50f",
   "metadata": {},
   "outputs": [
    {
     "name": "stdout",
     "output_type": "stream",
     "text": [
      "5\n",
      "R R R U D D\n",
      "R 1 2\n",
      "R 1 3\n",
      "R 1 4\n",
      "D 2 4\n",
      "D 3 4\n",
      "최종 여행지는 3 4\n"
     ]
    }
   ],
   "source": [
    "N = int(input())\n",
    "moving = input().split()\n",
    "\n",
    "# LRUD에 따른 이동 방향\n",
    "dx = [-1, 1, 0, 0]\n",
    "dy = [0, 0, -1, 1]\n",
    "move_types = ['L','R','U','D']\n",
    "\n",
    "x,y = 1,1\n",
    "for k in moving: # LRUD\n",
    "    for i in range(len(move_types)):\n",
    "        if k == move_types[i]:\n",
    "            nx = x + dx[i]\n",
    "            ny = y + dy[i]\n",
    "    # 공간 벗어나는 경우\n",
    "    if nx < 1 or ny < 1 or ny >N or nx > N:\n",
    "        continue\n",
    "    x,y = nx, ny\n",
    "    print(k, y, x)\n",
    "print('최종 여행지는', y, x)\n"
   ]
  }
 ],
 "metadata": {
  "kernelspec": {
   "display_name": "Python 3",
   "language": "python",
   "name": "python3"
  },
  "language_info": {
   "codemirror_mode": {
    "name": "ipython",
    "version": 3
   },
   "file_extension": ".py",
   "mimetype": "text/x-python",
   "name": "python",
   "nbconvert_exporter": "python",
   "pygments_lexer": "ipython3",
   "version": "3.8.5"
  }
 },
 "nbformat": 4,
 "nbformat_minor": 5
}
