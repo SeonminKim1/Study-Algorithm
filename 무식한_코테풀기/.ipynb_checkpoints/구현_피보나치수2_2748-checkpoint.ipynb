{
 "cells": [
  {
   "cell_type": "markdown",
   "id": "28bec578",
   "metadata": {},
   "source": [
    "## 피보나치수 (시간)\n",
    "-  0번째 : 0이고, 1번째 : 1이다. 다음 2번째 부터는 바로 앞 두 피보나치 수의 합\n",
    "- 식 : Fn = Fn-1 + Fn-2 (n ≥ 2)\n",
    "- n=17일때 까지 피보나치 수는 다음과 같다.\n",
    "    - 0, 1, 1, 2, 3, 5, 8, 13, 21, 34, 55, 89, 144, 233, 377, 610, 987, 1597\n"
   ]
  },
  {
   "cell_type": "code",
   "execution_count": 3,
   "id": "5aabcd45",
   "metadata": {},
   "outputs": [
    {
     "name": "stdout",
     "output_type": "stream",
     "text": [
      "5\n",
      "5\n"
     ]
    }
   ],
   "source": [
    "## 시간초과 풀이\n",
    "n = int(input())\n",
    "\n",
    "def fibo(x):\n",
    "    if x == 0:\n",
    "        return 0\n",
    "    elif x == 1:\n",
    "        return 1\n",
    "    else:\n",
    "        return fibo(x-1)+fibo(x-2)\n",
    "        \n",
    "print(fibo(n))"
   ]
  },
  {
   "cell_type": "code",
   "execution_count": 5,
   "id": "3320f218",
   "metadata": {},
   "outputs": [
    {
     "name": "stdout",
     "output_type": "stream",
     "text": [
      "5\n",
      "5\n"
     ]
    }
   ],
   "source": [
    "##### 풀이\n",
    "n = int(input())\n",
    "\n",
    "a,b = 0,1\n",
    "\n",
    "# 5번쨰 구하려면\n",
    "#0 1 1 2 3 5 8 13\n",
    "\n",
    "while True:\n",
    "    a, b = b, a+b\n",
    "    n -= 1\n",
    "    if n == 0:\n",
    "        break\n",
    "\n",
    "print(a)"
   ]
  }
 ],
 "metadata": {
  "kernelspec": {
   "display_name": "Python 3",
   "language": "python",
   "name": "python3"
  },
  "language_info": {
   "codemirror_mode": {
    "name": "ipython",
    "version": 3
   },
   "file_extension": ".py",
   "mimetype": "text/x-python",
   "name": "python",
   "nbconvert_exporter": "python",
   "pygments_lexer": "ipython3",
   "version": "3.8.5"
  }
 },
 "nbformat": 4,
 "nbformat_minor": 5
}
