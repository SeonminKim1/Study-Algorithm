{
 "cells": [
  {
   "cell_type": "markdown",
   "id": "7d3ad4d9",
   "metadata": {},
   "source": [
    "## 도시 분할 계획\n",
    "- 마을은 N개의 집과 집들을 연결하는 M개의 길로 이루어짐\n",
    "- 마을을 2개의 분리된 마을로 분할\n",
    "- 길의 유지비의 합을 최소로"
   ]
  },
  {
   "cell_type": "markdown",
   "id": "7f994aea",
   "metadata": {},
   "source": [
    "## 요약\n",
    "- find_parent 함수 / union_parent 함수 작성\n",
    "- 노드(node), 간선 갯수(e), 부모 테이블(parent) 초기화\n",
    "\n",
    "- case\n",
    "    - edges 관리 및 정렬하여 cost, a, b 받아서 union & find\n",
    "    - main 문에서 queue나 if 문 등 이용하여 코드 작성"
   ]
  },
  {
   "cell_type": "code",
   "execution_count": 1,
   "id": "aa8bd344",
   "metadata": {},
   "outputs": [],
   "source": [
    "# 특정 원소가 속한 집합 (부모) 찾기\n",
    "def find_parent(parent, x):\n",
    "    if parent[x] != x:\n",
    "        parent[x] = find_parent(parent, parent[x])\n",
    "    return parent[x]\n",
    "\n",
    "# 두 원소 속한 집합 합치기\n",
    "def union_parent(parent, a, b):\n",
    "    a = find_parent(parent, a)\n",
    "    b = find_parent(parent, b)\n",
    "    if a < b:\n",
    "        parent[b] = a\n",
    "    else:\n",
    "        parent[a] = b\n"
   ]
  },
  {
   "cell_type": "code",
   "execution_count": 2,
   "id": "a098467c",
   "metadata": {},
   "outputs": [
    {
     "name": "stdout",
     "output_type": "stream",
     "text": [
      "7 12\n",
      "1 2 3\n",
      "1 3 2\n",
      "3 2 1\n",
      "2 5 2\n",
      "3 4 4\n",
      "7 3 6\n",
      "5 1 5\n",
      "1 6 2\n",
      "6 4 1\n",
      "6 5 3\n",
      "4 5 3\n",
      "6 7 4\n"
     ]
    }
   ],
   "source": [
    "## main\n",
    "\n",
    "# 노드의 갯수와 간선의 갯수 입력받기\n",
    "node, e = map(int, input().split())\n",
    "parent = [0] * (node+1) # 부모 테이블 \n",
    "\n",
    "# 모든 간선을 담을 리스트와 최종 비용을 담을 변수\n",
    "edges = []\n",
    "result = 0\n",
    "\n",
    "# 부모 테이블상에서, 부모를 자기 자신으로 초기화\n",
    "for i in range(1, node+1):\n",
    "    parent[i] = i\n",
    "    \n",
    "# 간선 정보 입력받기\n",
    "for _ in range(e):\n",
    "    a, b, cost = map(int, input().split())\n",
    "    # 비용순으로 정렬하기 위해 튜플의 첫번째 원소를 비용으로 설정\n",
    "    edges.append((cost,a,b))\n",
    "    \n",
    "# 간선을 비용순으로 정렬\n",
    "edges.sort()\n",
    "last = 0 # 최소 신장 트리에 포함 되는 간선 중 가장 비용이 큰 간선\n",
    "\n",
    "# 간선을 하나씩 확인하여 사이클이 발생하지 않는 경우에만 집합에 포함\n",
    "for edge in edges:\n",
    "    cost,a,b = edge\n",
    "    # 사이클 발생 x\n",
    "    if find_parent(parent,a) != find_parent(parent, b):\n",
    "        union_parent(parent,a,b)\n",
    "        result +=cost\n",
    "        last = cost # 가장 마지막에 담긴 cost가 가장 큰 cost 이고\n",
    "        \n",
    "# 해당 last 를 빼면 길 유지비가 최소가 됨\n",
    "print(result-last)"
   ]
  },
  {
   "cell_type": "code",
   "execution_count": null,
   "id": "4223a341",
   "metadata": {},
   "outputs": [],
   "source": [
    "# 7 12\n",
    "# 1 2 3\n",
    "# 1 3 2\n",
    "# 3 2 1\n",
    "# 2 5 2\n",
    "# 3 4 4\n",
    "# 7 3 6\n",
    "# 5 1 5\n",
    "# 1 6 2\n",
    "# 6 4 1\n",
    "# 6 5 3\n",
    "# 4 5 3\n",
    "# 6 7 4"
   ]
  }
 ],
 "metadata": {
  "kernelspec": {
   "display_name": "Python 3",
   "language": "python",
   "name": "python3"
  },
  "language_info": {
   "codemirror_mode": {
    "name": "ipython",
    "version": 3
   },
   "file_extension": ".py",
   "mimetype": "text/x-python",
   "name": "python",
   "nbconvert_exporter": "python",
   "pygments_lexer": "ipython3",
   "version": "3.8.5"
  }
 },
 "nbformat": 4,
 "nbformat_minor": 5
}
