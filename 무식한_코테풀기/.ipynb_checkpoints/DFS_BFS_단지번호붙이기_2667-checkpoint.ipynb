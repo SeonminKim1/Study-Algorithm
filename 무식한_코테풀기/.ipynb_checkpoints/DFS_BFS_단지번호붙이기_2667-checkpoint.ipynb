{
 "cells": [
  {
   "cell_type": "markdown",
   "id": "6fcac5c3",
   "metadata": {},
   "source": [
    "## 단지번호 붙이기\n",
    "- '단지 수'와 '단지별 가구 수'를 구하시오."
   ]
  },
  {
   "cell_type": "code",
   "execution_count": 19,
   "id": "ed28511f",
   "metadata": {},
   "outputs": [
    {
     "name": "stdout",
     "output_type": "stream",
     "text": [
      "7\n",
      "0110100\n",
      "0110101\n",
      "1110101\n",
      "0000111\n",
      "0100000\n",
      "0111110\n",
      "0111000\n",
      "[[0, 1, 1, 0, 1, 0, 0], [0, 1, 1, 0, 1, 0, 1], [1, 1, 1, 0, 1, 0, 1], [0, 0, 0, 0, 1, 1, 1], [0, 1, 0, 0, 0, 0, 0], [0, 1, 1, 1, 1, 1, 0], [0, 1, 1, 1, 0, 0, 0]]\n"
     ]
    }
   ],
   "source": [
    "import copy\n",
    "\n",
    "N = int(input())\n",
    "\n",
    "graph = []\n",
    "for i in range(N):\n",
    "    graph.append(list(map(int, input())))\n",
    "# print(graph)\n",
    "graph1 = copy.deepcopy(graph)"
   ]
  },
  {
   "cell_type": "markdown",
   "id": "9bff7fdb",
   "metadata": {},
   "source": [
    "## input 재현용 코드"
   ]
  },
  {
   "cell_type": "code",
   "execution_count": 20,
   "id": "43092352",
   "metadata": {},
   "outputs": [
    {
     "data": {
      "text/plain": [
       "[[0, 1, 1, 0, 1, 0, 0],\n",
       " [0, 1, 1, 0, 1, 0, 1],\n",
       " [1, 1, 1, 0, 1, 0, 1],\n",
       " [0, 0, 0, 0, 1, 1, 1],\n",
       " [0, 1, 0, 0, 0, 0, 0],\n",
       " [0, 1, 1, 1, 1, 1, 0],\n",
       " [0, 1, 1, 1, 0, 0, 0]]"
      ]
     },
     "execution_count": 20,
     "metadata": {},
     "output_type": "execute_result"
    }
   ],
   "source": [
    "# 7\n",
    "# 0110100\n",
    "# 0110101\n",
    "# 1110101\n",
    "# 0000111\n",
    "# 0100000\n",
    "# 0111110\n",
    "# 0111000\n",
    "\n",
    "graph = copy.deepcopy(graph1)\n",
    "graph"
   ]
  },
  {
   "cell_type": "code",
   "execution_count": 21,
   "id": "b56da63f",
   "metadata": {},
   "outputs": [],
   "source": [
    "def dfs(y,x):\n",
    "    if x<0 or x>=N or y <0 or y>=N: # N인 이유는 배열이 0번쨰부터 니까\n",
    "        return False\n",
    "    if graph[y][x] == 1:\n",
    "        graph[y][x] = 0\n",
    "        global num\n",
    "        num += 1\n",
    "        dfs(y,x-1) # 왼쪽\n",
    "        dfs(y,x+1) # 오른쪽\n",
    "        dfs(y-1, x) # 위쪽\n",
    "        dfs(y+1, x) # 아래쪽\n",
    "        return True\n",
    "    return False"
   ]
  },
  {
   "cell_type": "code",
   "execution_count": 22,
   "id": "5fad701c",
   "metadata": {},
   "outputs": [
    {
     "name": "stdout",
     "output_type": "stream",
     "text": [
      "단지 종류 수는  3\n",
      "단지 별 가구 수는 [7, 8, 9]\n"
     ]
    }
   ],
   "source": [
    "count = 0 # 단지 수\n",
    "num = 0 # 단지별 가구 수\n",
    "num_list = [] # 단지별 가구 수 리스트\n",
    "for i in range(N):\n",
    "    for j in range(N):\n",
    "        if dfs(i, j) == True:\n",
    "            count += 1\n",
    "            num_list.append(num)\n",
    "            num=0\n",
    "print('단지 종류 수는 ', count)\n",
    "num_list.sort()\n",
    "print('단지 별 가구 수는', num_list)"
   ]
  },
  {
   "cell_type": "markdown",
   "id": "ebe7dd5d",
   "metadata": {},
   "source": [
    "## 제출용 - DFS"
   ]
  },
  {
   "cell_type": "code",
   "execution_count": null,
   "id": "063bdd93",
   "metadata": {},
   "outputs": [],
   "source": [
    "import sys\n",
    "\n",
    "# dx, dy는 한 점기준으로 상하좌우 체크한 것\n",
    "dx = [-1, 0, 1, 0]\n",
    "dy = [0, 1, 0, -1]\n",
    "\n",
    "# 사각형 크기 구하기\n",
    "n = int(sys.stdin.readline())\n",
    "a = [list(sys.stdin.readline().strip()) for _ in range(n)]\n",
    "cnt = 0\n",
    "apt =[]\n",
    "\n",
    "# dfs\n",
    "def dfs(x, y):\n",
    "    global cnt\n",
    "    a[x][y]='0'\n",
    "    cnt += 1\n",
    "\n",
    "    # 4방향 검사해서 한방향씩 dfs 만약 해당 곳이 1이면 0으로 바꾸고 cnt ++\n",
    "    for i in range(4):\n",
    "        nx = x+dx[i]; ny = y+dy[i]\n",
    "        # 기준범위 밖일 때\n",
    "        if nx<0 or nx>=n or ny<0 or ny>=n:\n",
    "            continue\n",
    "        if a[nx][ny] == '1':\n",
    "            dfs(nx, ny)\n",
    "\n",
    "# 전범위중 1인것들만\n",
    "for i in range(n):\n",
    "    for j in range(n):\n",
    "        if a[i][j] == '1':\n",
    "            cnt = 0\n",
    "            dfs(i,j)\n",
    "            apt.append(cnt)\n",
    "\n",
    "# 단지 정렬\n",
    "apt.sort()\n",
    "\n",
    "# 단지 갯수와 단지별 아파트 수 출력\n",
    "print(len(apt))\n",
    "for i in apt:\n",
    "    print(i)"
   ]
  },
  {
   "cell_type": "markdown",
   "id": "9968fb83",
   "metadata": {},
   "source": [
    "## 제출용 - BFS"
   ]
  },
  {
   "cell_type": "code",
   "execution_count": 1,
   "id": "becd991a",
   "metadata": {},
   "outputs": [
    {
     "name": "stdout",
     "output_type": "stream",
     "text": [
      "7\n",
      "0110100\n",
      "0110101\n",
      "1110101\n",
      "0000111\n",
      "0100000\n",
      "0111110\n",
      "0111000\n",
      "3\n",
      "6\n",
      "7\n",
      "8\n"
     ]
    }
   ],
   "source": [
    "# 단지수 출력 및 각 단지에 속하는 집의 수를 오름차순\n",
    "\n",
    "N = int(input())\n",
    "\n",
    "maps = [] # N x N\n",
    "\n",
    "for _ in range(N):\n",
    "    maps.append(list(map(int, list(input()))))\n",
    "\n",
    "from collections import deque\n",
    "\n",
    "# 왼쪽 오른쪽 위 아래\n",
    "dx = [-1, 1, 0, 0]\n",
    "dy = [0, 0, -1, 1]\n",
    "\n",
    "count_list = []\n",
    "\n",
    "  \n",
    "def bfs(y, x, maps):\n",
    "    queue = deque()\n",
    "    queue.append((y,x))\n",
    "    maps[y][x] = 0\n",
    "    count = 1\n",
    "    while queue:\n",
    "        y,x = queue.popleft()\n",
    "        for k in range(4):\n",
    "            nx = x + dx[k]\n",
    "            ny = y + dy[k]\n",
    "            if ny >= N or nx>=N or ny<0 or nx <0:\n",
    "                continue\n",
    "            if maps[ny][nx] == 0:\n",
    "                continue\n",
    "                \n",
    "            count+=1\n",
    "            queue.append((ny,nx))\n",
    "            maps[ny][nx] = 0\n",
    "    return count\n",
    "\n",
    "for i in range(N):\n",
    "    for j in range(N):\n",
    "        if maps[i][j] != 0:\n",
    "            count = bfs(i, j, maps) # maps를 점령하고 count 반환\n",
    "            count_list.append(count)\n",
    "\n",
    "count_list.sort()\n",
    "\n",
    "print(len(count_list))\n",
    "for k in count_list:\n",
    "    print(k)"
   ]
  }
 ],
 "metadata": {
  "kernelspec": {
   "display_name": "Python 3",
   "language": "python",
   "name": "python3"
  },
  "language_info": {
   "codemirror_mode": {
    "name": "ipython",
    "version": 3
   },
   "file_extension": ".py",
   "mimetype": "text/x-python",
   "name": "python",
   "nbconvert_exporter": "python",
   "pygments_lexer": "ipython3",
   "version": "3.8.5"
  }
 },
 "nbformat": 4,
 "nbformat_minor": 5
}
