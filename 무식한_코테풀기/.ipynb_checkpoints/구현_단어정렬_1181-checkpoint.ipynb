{
 "cells": [
  {
   "cell_type": "markdown",
   "id": "447532eb",
   "metadata": {},
   "source": [
    "## 단어 정렬\n",
    "- 알파벳 소문자로 이루어진 N 개의 단어가 들어오면 아래 조건에 따라 정렬\n",
    "- 1. 길이가 짧은 것부터\n",
    "- 2. 길이가 같으면 사전 순으로\n"
   ]
  },
  {
   "cell_type": "code",
   "execution_count": 18,
   "id": "df783bfa",
   "metadata": {},
   "outputs": [
    {
     "name": "stdout",
     "output_type": "stream",
     "text": [
      "13\n",
      "but\n",
      "i\n",
      "wont\n",
      "hesitate\n",
      "no\n",
      "more\n",
      "no\n",
      "more\n",
      "it\n",
      "cannot\n",
      "wait\n",
      "im\n",
      "yours\n",
      "i\n",
      "im\n",
      "it\n",
      "no\n",
      "no\n",
      "but\n",
      "more\n",
      "more\n",
      "wait\n",
      "wont\n",
      "yours\n",
      "cannot\n",
      "hesitate\n"
     ]
    }
   ],
   "source": [
    "# Tuple 정렬하면 원소 차례대로 정렬 됨.\n",
    "N = int(input())\n",
    "word = []\n",
    "for _ in range(N):\n",
    "    w = input()\n",
    "    word.append((len(w), w))\n",
    "\n",
    "word = set(word)\n",
    "word = sorted(word)\n",
    "for k, v in word:\n",
    "    print(v)\n"
   ]
  }
 ],
 "metadata": {
  "kernelspec": {
   "display_name": "Python 3",
   "language": "python",
   "name": "python3"
  },
  "language_info": {
   "codemirror_mode": {
    "name": "ipython",
    "version": 3
   },
   "file_extension": ".py",
   "mimetype": "text/x-python",
   "name": "python",
   "nbconvert_exporter": "python",
   "pygments_lexer": "ipython3",
   "version": "3.8.5"
  }
 },
 "nbformat": 4,
 "nbformat_minor": 5
}
