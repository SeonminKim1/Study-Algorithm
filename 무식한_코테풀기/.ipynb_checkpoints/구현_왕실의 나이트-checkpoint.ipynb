{
 "cells": [
  {
   "cell_type": "markdown",
   "id": "50c38a3a",
   "metadata": {},
   "source": [
    "## 왕실의 나이트\n",
    "- 8x8 좌표평면\n",
    "- 나이트는 L자 형태로만 이동 가능\n",
    "- 특정 칸에서 나이트가 이동할 수 있는 경우의 수\n"
   ]
  },
  {
   "cell_type": "code",
   "execution_count": 6,
   "id": "0446b097",
   "metadata": {},
   "outputs": [
    {
     "name": "stdout",
     "output_type": "stream",
     "text": [
      "a1\n",
      "1 1\n",
      "이동가능한 칸의 갯수는: 2\n"
     ]
    }
   ],
   "source": [
    "# 2상좌, 2상우, 2우상, 2우하, 2하우, 2하좌, 2좌하, 2좌상\n",
    "dx = [-1, 1, 2, 2, 1, -1, -2, -2]\n",
    "dy = [-2, -2, -1, 1, 2, 2, 1, -1]\n",
    "\n",
    "# a1 => 2\n",
    "# 행은 1~8\n",
    "# 열은 a~h\n",
    "place = input()\n",
    "\n",
    "# 열\n",
    "row = int(ord(place[0]) - ord('a') + 1)\n",
    "col = int(place[1])\n",
    "\n",
    "print(row, col)\n",
    "\n",
    "count = 0\n",
    "for i in range(8):\n",
    "    nrow = row + dx[i]\n",
    "    ncol = col + dy[i]\n",
    "    if nrow < 1 or ncol < 1 or nrow > 8 or ncol > 8:\n",
    "        continue\n",
    "    else:\n",
    "        count +=1\n",
    "\n",
    "print('이동가능한 칸의 갯수는:',count)"
   ]
  }
 ],
 "metadata": {
  "kernelspec": {
   "display_name": "Python 3",
   "language": "python",
   "name": "python3"
  },
  "language_info": {
   "codemirror_mode": {
    "name": "ipython",
    "version": 3
   },
   "file_extension": ".py",
   "mimetype": "text/x-python",
   "name": "python",
   "nbconvert_exporter": "python",
   "pygments_lexer": "ipython3",
   "version": "3.8.5"
  }
 },
 "nbformat": 4,
 "nbformat_minor": 5
}
