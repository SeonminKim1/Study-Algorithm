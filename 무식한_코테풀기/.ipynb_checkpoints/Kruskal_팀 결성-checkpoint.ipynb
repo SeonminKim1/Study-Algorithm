{
 "cells": [
  {
   "cell_type": "markdown",
   "id": "742498db",
   "metadata": {},
   "source": [
    "## 팀 결성\n",
    "- 학생들에게 0번부터 N번까지의 번호를 부여했다.\n",
    "- 선생이 M개의 연산을 수행할 수 있을 때, '같은 팀 여부 확인' 연산에 대한 연산 결과를 출력\n",
    "- 팁 합치기 (0)으로 시작 / 같은 팀 여부 확인 (1)으로 시작"
   ]
  },
  {
   "cell_type": "markdown",
   "id": "5bb96f80",
   "metadata": {},
   "source": [
    "## 요약\n",
    "- find_parent 함수 / union_parent 함수 작성\n",
    "- main 문에서 queue나 if 문 등 이용하여 코드 작성"
   ]
  },
  {
   "cell_type": "code",
   "execution_count": 3,
   "id": "3efc7fac",
   "metadata": {},
   "outputs": [
    {
     "name": "stdout",
     "output_type": "stream",
     "text": [
      "7 8\n",
      "0 1 3\n",
      "1 1 7\n",
      "NO\n",
      "0 7 6\n",
      "1 7 1\n",
      "NO\n",
      "0 3 7\n",
      "0 4 2\n",
      "0 1 1\n",
      "1 1 1\n",
      "YES\n"
     ]
    }
   ],
   "source": [
    "# 특정 원소가 속한 집합을 찾기\n",
    "def find_parent(parent, x):\n",
    "    # 루트 노드가 아니라면, 루트 노드를 찾을 때까지 재귀적으로 호출\n",
    "    if parent[x] != x:\n",
    "        parent[x] = find_parent(parent, parent[x])\n",
    "    return parent[x]\n",
    "\n",
    "# 두 원소가 속한 집합을 합치기\n",
    "def union_parent(parent, a, b):\n",
    "    a = find_parent(parent, a)\n",
    "    b = find_parent(parent, b)\n",
    "    if a < b:\n",
    "        parent[b] = a\n",
    "    else:\n",
    "        parent[a] = b\n",
    "\n",
    "node, e = map(int, input().split())\n",
    "parent = [0] * (node+1)\n",
    "\n",
    "# 부모 테이블상에서, 부모를 자기 자신으로 초기화\n",
    "for i in range(0, node+1):\n",
    "    parent[i] = i\n",
    "\n",
    "# 각 연산을 하나씩 확인\n",
    "for i in range(e):\n",
    "    oper, a, b = map(int, input().split())\n",
    "    # 합집합(union) 연산인 경우\n",
    "    if oper == 0:\n",
    "        union_parent(parent, a, b)\n",
    "    # 찾기(find) 연산인 경우\n",
    "    elif oper == 1:\n",
    "        if find_parent(parent, a) == find_parent(parent, b):\n",
    "            print('YES')\n",
    "        else:\n",
    "            print('NO')"
   ]
  },
  {
   "cell_type": "code",
   "execution_count": null,
   "id": "f68dbfc8",
   "metadata": {},
   "outputs": [],
   "source": [
    "# 7 8\n",
    "# 0 1 3\n",
    "# 1 1 7\n",
    "# 0 7 6\n",
    "# 1 7 1\n",
    "# 0 3 7\n",
    "# 0 4 2\n",
    "# 0 1 1\n",
    "# 1 1 1"
   ]
  }
 ],
 "metadata": {
  "kernelspec": {
   "display_name": "Python 3",
   "language": "python",
   "name": "python3"
  },
  "language_info": {
   "codemirror_mode": {
    "name": "ipython",
    "version": 3
   },
   "file_extension": ".py",
   "mimetype": "text/x-python",
   "name": "python",
   "nbconvert_exporter": "python",
   "pygments_lexer": "ipython3",
   "version": "3.8.5"
  }
 },
 "nbformat": 4,
 "nbformat_minor": 5
}
