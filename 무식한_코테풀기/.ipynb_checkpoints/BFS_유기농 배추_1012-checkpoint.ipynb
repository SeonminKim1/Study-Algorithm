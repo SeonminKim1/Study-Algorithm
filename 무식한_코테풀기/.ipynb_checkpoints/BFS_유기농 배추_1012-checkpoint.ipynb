{
 "cells": [
  {
   "cell_type": "markdown",
   "id": "d9cd55d9",
   "metadata": {},
   "source": [
    "## 유기농배추\n"
   ]
  },
  {
   "cell_type": "code",
   "execution_count": 4,
   "id": "c42d2983",
   "metadata": {},
   "outputs": [
    {
     "name": "stdout",
     "output_type": "stream",
     "text": [
      "2\n",
      "10 8 17\n",
      "0 0\n",
      "1 0\n",
      "1 1\n",
      "4 2\n",
      "4 3\n",
      "4 5\n",
      "2 4\n",
      "3 4\n",
      "7 4\n",
      "8 4\n",
      "9 4\n",
      "7 5\n",
      "8 5\n",
      "9 5\n",
      "7 6\n",
      "8 6\n",
      "9 6\n"
     ]
    }
   ],
   "source": [
    "\n",
    "T  = int(input())\n",
    "M,N,K = map(int, input().split())\n",
    "farm = [[0]*M for _ in range(N)]\n",
    "\n",
    "for _ in range(K):\n",
    "    x, y = map(int, input().split())\n",
    "    farm[y][x] = 1\n"
   ]
  },
  {
   "cell_type": "code",
   "execution_count": 5,
   "id": "2ebcd236",
   "metadata": {},
   "outputs": [
    {
     "data": {
      "text/plain": [
       "[[1, 1, 0, 0, 0, 0, 0, 0, 0, 0],\n",
       " [0, 1, 0, 0, 0, 0, 0, 0, 0, 0],\n",
       " [0, 0, 0, 0, 1, 0, 0, 0, 0, 0],\n",
       " [0, 0, 0, 0, 1, 0, 0, 0, 0, 0],\n",
       " [0, 0, 1, 1, 0, 0, 0, 1, 1, 1],\n",
       " [0, 0, 0, 0, 1, 0, 0, 1, 1, 1],\n",
       " [0, 0, 0, 0, 0, 0, 0, 1, 1, 1],\n",
       " [0, 0, 0, 0, 0, 0, 0, 0, 0, 0]]"
      ]
     },
     "execution_count": 5,
     "metadata": {},
     "output_type": "execute_result"
    }
   ],
   "source": [
    "import copy\n",
    "farm2 = copy.deepcopy(farm)\n",
    "farm2"
   ]
  },
  {
   "cell_type": "code",
   "execution_count": 7,
   "id": "0fe0210b",
   "metadata": {},
   "outputs": [
    {
     "name": "stdout",
     "output_type": "stream",
     "text": [
      "5\n"
     ]
    }
   ],
   "source": [
    "from collections import deque\n",
    "\n",
    "# 좌 우 상 하\n",
    "dx = [-1, 1, 0, 0] \n",
    "dy = [0, 0, -1, 1]\n",
    "count = 0\n",
    "queue = deque()\n",
    "for y in range(N):\n",
    "    for x in range(M):\n",
    "        if farm[y][x] == 1:\n",
    "            queue.append((y, x))\n",
    "            farm[y][x] = 0\n",
    "            while queue:\n",
    "                y, x = queue.popleft()\n",
    "                for k in range(4):\n",
    "                    nx = x + dx[k]\n",
    "                    ny = y + dy[k]\n",
    "                    if nx <0 or ny <0 or nx >=M or ny >=N:\n",
    "                        continue\n",
    "                    if farm[ny][nx] == 1:\n",
    "                        farm[ny][nx] = 0\n",
    "                        queue.append((ny, nx))\n",
    "            count += 1\n",
    "print(count)"
   ]
  },
  {
   "cell_type": "markdown",
   "id": "8ee748e2",
   "metadata": {},
   "source": [
    "## 최종 제출본\n"
   ]
  },
  {
   "cell_type": "code",
   "execution_count": 10,
   "id": "bf9ba7c4",
   "metadata": {},
   "outputs": [
    {
     "name": "stdout",
     "output_type": "stream",
     "text": [
      "1\n",
      "5 3 6\n",
      "0 2\n",
      "1 2\n",
      "2 2\n",
      "3 2\n",
      "4 2\n",
      "4 0\n",
      "2\n"
     ]
    }
   ],
   "source": [
    "from collections import deque\n",
    "\n",
    "# 좌 우 상 하\n",
    "dx = [-1, 1, 0, 0] \n",
    "dy = [0, 0, -1, 1]\n",
    "    \n",
    "T  = int(input())\n",
    "for _ in range(T):\n",
    "    M,N,K = map(int, input().split())\n",
    "    farm = [[0]*M for _ in range(N)]\n",
    "\n",
    "    for _ in range(K):\n",
    "        x, y = map(int, input().split())\n",
    "        farm[y][x] = 1\n",
    "\n",
    "    count = 0\n",
    "    queue = deque()\n",
    "    for y in range(N):\n",
    "        for x in range(M):\n",
    "            if farm[y][x] == 1:\n",
    "                queue.append((y, x))\n",
    "                farm[y][x] = 0\n",
    "                while queue:\n",
    "                    y, x = queue.popleft()\n",
    "                    for k in range(4):\n",
    "                        nx = x + dx[k]\n",
    "                        ny = y + dy[k]\n",
    "                        if nx <0 or ny <0 or nx >=M or ny >=N:\n",
    "                            continue\n",
    "                        if farm[ny][nx] == 1:\n",
    "                            farm[ny][nx] = 0\n",
    "                            queue.append((ny, nx))\n",
    "                count += 1\n",
    "    print(count)"
   ]
  },
  {
   "cell_type": "code",
   "execution_count": null,
   "id": "b90726de",
   "metadata": {},
   "outputs": [],
   "source": [
    "# 유기농배추 BFS로 독립적인 공간 갯수 세기\n",
    "\n",
    "T = int(input())\n",
    "M, N, K = map(int, input().split()) # 가로길이 M, 세로길이 N 배추 위치 갯수 K\n",
    "\n",
    "maps = [[0]*M for _ in range(N)]\n",
    "\n",
    "for _ in range(K):\n",
    "    x, y = map(int, input().split())\n",
    "    maps[y][x] = 1\n",
    "\n",
    "from collections import deque\n",
    "# 왼쪽 오른쪽 위쪽 아래쪽\n",
    "dx = [-1, 1, 0, 0]\n",
    "dy = [0, 0, -1, 1]\n",
    "def bfs(y, x, maps):\n",
    "    queue = deque()\n",
    "    queue.append((y,x))\n",
    "    maps[y][x] = 0\n",
    "    while queue:\n",
    "        y, x = queue.popleft()\n",
    "        \n",
    "        for k in range(4):\n",
    "            nx = x + dx[k]\n",
    "            ny = y + dy[k]\n",
    "            if nx < 0 or ny < 0 or nx >= M or ny >= N:\n",
    "                continue\n",
    "            if maps[ny][nx] == 0:\n",
    "                continue\n",
    "            \n",
    "            queue.append((ny,nx))\n",
    "            maps[ny][nx] = 0\n",
    "            \n",
    "    \n",
    "count = 0\n",
    "for i in range(N):\n",
    "    for j in range(M):\n",
    "        if maps[i][j] == 1:\n",
    "            bfs(i, j, maps)\n",
    "            count+=1\n",
    "print(count)"
   ]
  }
 ],
 "metadata": {
  "kernelspec": {
   "display_name": "Python 3",
   "language": "python",
   "name": "python3"
  },
  "language_info": {
   "codemirror_mode": {
    "name": "ipython",
    "version": 3
   },
   "file_extension": ".py",
   "mimetype": "text/x-python",
   "name": "python",
   "nbconvert_exporter": "python",
   "pygments_lexer": "ipython3",
   "version": "3.8.5"
  }
 },
 "nbformat": 4,
 "nbformat_minor": 5
}
