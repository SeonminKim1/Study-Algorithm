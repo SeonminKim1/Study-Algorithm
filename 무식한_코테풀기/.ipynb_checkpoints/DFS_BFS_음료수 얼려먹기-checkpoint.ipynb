{
 "cells": [
  {
   "cell_type": "markdown",
   "id": "8f69fdb6",
   "metadata": {},
   "source": [
    "## 음료수 얼려먹기\n",
    "- 0 이 존재하는 곳들의 연결된 묶음이. 몇개일까요"
   ]
  },
  {
   "cell_type": "code",
   "execution_count": 30,
   "id": "395b9d64",
   "metadata": {},
   "outputs": [
    {
     "name": "stdout",
     "output_type": "stream",
     "text": [
      "4 5\n",
      "00110\n",
      "00011\n",
      "11111\n",
      "00000\n",
      "[[0, 0, 1, 1, 0], [0, 0, 0, 1, 1], [1, 1, 1, 1, 1], [0, 0, 0, 0, 0]]\n"
     ]
    }
   ],
   "source": [
    "import copy\n",
    "N, M = map(int, input().split())\n",
    "\n",
    "graph = []\n",
    "for i in range(N):\n",
    "    graph.append(list(map(int, input())))\n",
    "\n",
    "print(graph)\n",
    "graph1 = copy.deepcopy(graph)"
   ]
  },
  {
   "cell_type": "code",
   "execution_count": 51,
   "id": "e98ae0b6",
   "metadata": {},
   "outputs": [
    {
     "data": {
      "text/plain": [
       "[[0, 0, 1, 1, 0], [0, 0, 0, 1, 1], [1, 1, 1, 1, 1], [0, 0, 0, 0, 0]]"
      ]
     },
     "execution_count": 51,
     "metadata": {},
     "output_type": "execute_result"
    }
   ],
   "source": [
    "# graph 맵 함수간 공유\n",
    "# 전체 맵을 탐색하면서 DFS가 한번씩 끝날 떄마다 COUNT UP\n",
    "# 00110\n",
    "# 00011\n",
    "# 11111\n",
    "# 00000\n",
    "\n",
    "graph = copy.deepcopy(graph1)\n",
    "graph"
   ]
  },
  {
   "cell_type": "code",
   "execution_count": 49,
   "id": "27803ad3",
   "metadata": {},
   "outputs": [],
   "source": [
    "def dfs(y,x):\n",
    "    if x<0 or y<0 or x>=M or y>=N:\n",
    "        return False\n",
    "    if graph[y][x] == 0:\n",
    "        graph[y][x] = 2\n",
    "        dfs(y, x-1) # 왼쪽\n",
    "        dfs(y, x+1) # 오른쪽 \n",
    "        dfs(y+1, x) # 아래쪽\n",
    "        dfs(y-1, x) # 위쪽\n",
    "        return True # 정상적으로 dfs 진행 됬을 때."
   ]
  },
  {
   "cell_type": "code",
   "execution_count": 50,
   "id": "e12f1ec9",
   "metadata": {},
   "outputs": [
    {
     "name": "stdout",
     "output_type": "stream",
     "text": [
      "[[0, 0, 1, 1, 0], [0, 0, 0, 1, 1], [1, 1, 1, 1, 1], [0, 0, 0, 0, 0]]\n",
      "3\n"
     ]
    }
   ],
   "source": [
    "print(graph)\n",
    "count = 0\n",
    "for i in range(N):\n",
    "    for j in range(M):\n",
    "        if dfs(i, j) == True:\n",
    "            count+=1\n",
    "print(count)"
   ]
  },
  {
   "cell_type": "markdown",
   "id": "857af5d0",
   "metadata": {},
   "source": [
    "## BFS"
   ]
  },
  {
   "cell_type": "code",
   "execution_count": null,
   "id": "bd401363",
   "metadata": {},
   "outputs": [],
   "source": [
    "## BFS\n",
    "N, M = map(int, input().split())\n",
    "\n",
    "maps = []\n",
    "for i in range(N):\n",
    "    maps.append(list(map(int, list(input()))))\n",
    "\n",
    "from collections import deque\n",
    "dx = [-1, 1, 0, 0]\n",
    "dy = [0, 0, -1, 1]\n",
    "\n",
    "def bfs(y,x,maps):\n",
    "    queue = deque()\n",
    "    queue.append((y,x))\n",
    "    maps[y][x] = 1\n",
    "    while queue:\n",
    "        y, x = queue.popleft()\n",
    "        for k in range(4):\n",
    "            nx = x + dx[k]\n",
    "            ny = y + dy[k]\n",
    "            if nx >= M or ny >=N or nx <0 or ny <0:\n",
    "                continue\n",
    "            if maps[ny][nx] == 1:\n",
    "                continue\n",
    "            \n",
    "            maps[ny][nx]=1\n",
    "            queue.append((ny,nx))\n",
    "    \n",
    "count = 0\n",
    "for i in range(N):\n",
    "    for j in range(M):\n",
    "        if maps[i][j]==0:\n",
    "            bfs(i, j, maps)\n",
    "            count+=1\n",
    "\n",
    "print(count)"
   ]
  }
 ],
 "metadata": {
  "kernelspec": {
   "display_name": "Python 3",
   "language": "python",
   "name": "python3"
  },
  "language_info": {
   "codemirror_mode": {
    "name": "ipython",
    "version": 3
   },
   "file_extension": ".py",
   "mimetype": "text/x-python",
   "name": "python",
   "nbconvert_exporter": "python",
   "pygments_lexer": "ipython3",
   "version": "3.8.5"
  }
 },
 "nbformat": 4,
 "nbformat_minor": 5
}
