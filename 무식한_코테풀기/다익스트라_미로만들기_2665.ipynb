{
 "cells": [
  {
   "cell_type": "markdown",
   "id": "35fdea24",
   "metadata": {},
   "source": [
    "## 미로만들기\n",
    "- n×n 바둑판 모양으로 총 n2개의 방이 있다.\n",
    "- 일부분은 검은 방이고 나머지는 모두 흰 방\n",
    "    - 검은 방은 사면이 벽으로 싸여 있어 들어갈 수 없다.\n",
    "    - 서로 붙어 있는 두 개의 흰 방 사이에는 문이 있어서 지나다닐 수 있다.\n",
    "    - 윗줄 맨 왼쪽 방은 시작방으로서 항상 흰 방이고, 아랫줄 맨 오른쪽 방은 끝방으로서 역시 흰 방이다.\n",
    "- 시작방에서 출발하여 길을 찾아서 끝방으로 가는 것이 목적\n",
    "- 시작방에서 끝 방으로 갈 수 없는 경우. 부득이 검은 방 몇 개를 흰 방으로 바꾸어야 하는데 되도록 적은 수의 방의 색을 바꾸고 싶다.\n",
    "- **검은 방에서 흰 방으로 바꾸어야 할 최소의 수를 구하는 프로그램을 작성**\n",
    "- 단, 검은 방을 하나도 흰방으로 바꾸지 않아도 되는 경우는 0이 답이다.\n",
    "\n",
    "- 입력\n",
    "    - 첫 줄에는 한 줄에 들어가는 방의 수 n(1 ≤ n ≤ 50)\n",
    "    - 다음 n개의 줄의 각 줄마다 0과 1이 이루어진 길이가 n인 수열이 주어진다.\n",
    "    - 0은 검은 방, 1은 흰 방을 나타낸다.\n",
    "\n",
    "- 출력\n",
    "    - 첫 줄에 흰 방으로 바꾸어야 할 최소의 검은 방의 수를 출력"
   ]
  },
  {
   "cell_type": "code",
   "execution_count": 5,
   "id": "ab60a6ed",
   "metadata": {},
   "outputs": [
    {
     "name": "stdout",
     "output_type": "stream",
     "text": [
      "8\n",
      "11100110\n",
      "11010010\n",
      "10011010\n",
      "11101100\n",
      "01000111\n",
      "00110001\n",
      "11011000\n",
      "11000111\n",
      "2\n"
     ]
    }
   ],
   "source": [
    "# 시작점에서 끝점 까지 가는데\n",
    "# heapq에 넣는데, 최소 우선순위큐니까, count가 작은 좌표들을 살펴봄.\n",
    "\n",
    "INF = 1e9\n",
    "\n",
    "N = int(input())\n",
    "graph = [list(map(int, list(input()))) for _ in range(N)]\n",
    "visit = [[0] * N for _ in range(N)]\n",
    "\n",
    "# 왼 우 하 상\n",
    "dx = [-1, 1, 0, 0]\n",
    "dy = [0, 0, 1, -1]\n",
    "\n",
    "import heapq\n",
    "queue = []\n",
    "heapq.heappush(queue, [0, 0, 0]) # cost = 0 , y = 0, x = 0\n",
    "visit[0][0] = 1\n",
    "\n",
    "while queue:\n",
    "    a, y, x = heapq.heappop(queue)\n",
    "    if x == N-1 and y == N-1:\n",
    "        print(a)\n",
    "        break\n",
    "        \n",
    "    for i in range(4):\n",
    "        nx = x + dx[i]\n",
    "        ny = y + dy[i]\n",
    "        if (0 <= nx < N) and (0 <= ny < N) and visit[ny][nx] == 0 :\n",
    "            visit[ny][nx] = 1\n",
    "            if graph[ny][nx] == 0: # 검은 방이면\n",
    "                heapq.heappush(queue, [a+1, ny, nx])\n",
    "            else:\n",
    "                heapq.heappush(queue, [a, ny, nx])\n",
    "#         print(queue)\n",
    "            "
   ]
  },
  {
   "cell_type": "code",
   "execution_count": null,
   "id": "61b1a8fe",
   "metadata": {},
   "outputs": [],
   "source": [
    "## 입력\n",
    "# 8\n",
    "# 11100110\n",
    "# 11010010\n",
    "# 10011010\n",
    "# 11101100\n",
    "# 01000111\n",
    "# 00110001\n",
    "# 11011000\n",
    "# 11000111\n",
    "\n",
    "## 출력\n",
    "# 2"
   ]
  }
 ],
 "metadata": {
  "kernelspec": {
   "display_name": "Python 3",
   "language": "python",
   "name": "python3"
  },
  "language_info": {
   "codemirror_mode": {
    "name": "ipython",
    "version": 3
   },
   "file_extension": ".py",
   "mimetype": "text/x-python",
   "name": "python",
   "nbconvert_exporter": "python",
   "pygments_lexer": "ipython3",
   "version": "3.8.5"
  }
 },
 "nbformat": 4,
 "nbformat_minor": 5
}
