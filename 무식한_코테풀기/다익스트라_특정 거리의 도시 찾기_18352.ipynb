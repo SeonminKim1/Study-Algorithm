{
 "cells": [
  {
   "cell_type": "markdown",
   "id": "231509a1",
   "metadata": {},
   "source": [
    "## 특정 거리의 도시 찾기\n",
    "- N번까지의 도시와, M개의 단반향 도로가 존재 / 모든 도로의 거리는 1\n",
    "- 거리 정보 K, 출발 도시의 번호 X가 주어진다.\n",
    "- 특정한 도시 X로부터 출발하여 도달할 수 있는 모든 도시 중에서, 최단 거리가 정확히 K인 모든 도시들의 번호를 출력\n",
    "- 최단 거리가 K인 도시가 존재하지 않으면 -1을 출력"
   ]
  },
  {
   "cell_type": "code",
   "execution_count": 11,
   "id": "6f35e80b",
   "metadata": {},
   "outputs": [
    {
     "name": "stdout",
     "output_type": "stream",
     "text": [
      "4 4 2 1\n",
      "1 2\n",
      "1 3\n",
      "2 3 \n",
      "2 4\n",
      "[1000000000.0, 0, 1, 1, 2]\n",
      "4\n"
     ]
    }
   ],
   "source": [
    "# 도시의 갯수 N, 도로의 갯수 M, 거리 정보 K, 출발 도시 번호 X\n",
    "N, M, K, X = map(int, input().split())\n",
    "\n",
    "# distances []\n",
    "# graph 2차원 배열로 초기화\n",
    "\n",
    "INF = 1e9\n",
    "distances = [INF]*(N+1)\n",
    "graph = [ [] for _ in range(N+1)]\n",
    "\n",
    "for i in range(M):\n",
    "    a, b = map(int, input().split())\n",
    "    graph[a].append((b,1)) # a에서 b로 가는데 1\n",
    "\n",
    "import heapq    \n",
    "queue = []\n",
    "heapq.heappush(queue, (0, X)) # dist, node 우선순위큐라 dist 짧은 것부터 탐색함\n",
    "distances[X] = 0\n",
    "while queue:\n",
    "    # heapq에서 하나씩 빼기.\n",
    "    now_dist, now_node = heapq.heappop(queue)\n",
    "    # 만약 뺐는데 기존의 distances 배열 값이 더 작을 때\n",
    "    if distances[now_node] < now_dist:\n",
    "        continue\n",
    "\n",
    "    # 주변 노드들 탐색해서 queue 에 추가\n",
    "    for temp_node, temp_dist in graph[now_node]: # \n",
    "        cost = now_dist + temp_dist\n",
    "        if cost < distances[temp_node]:\n",
    "            distances[temp_node] = cost\n",
    "            heapq.heappush(queue, (cost, temp_node))\n",
    "\n",
    "# print(graph)\n",
    "print(distances)\n",
    "if K not in distances:\n",
    "    print(-1)\n",
    "else:\n",
    "    for i in range(len(distances)):\n",
    "        if distances[i]==K:\n",
    "            print(i)\n",
    "    "
   ]
  },
  {
   "cell_type": "code",
   "execution_count": null,
   "id": "6e779b62",
   "metadata": {},
   "outputs": [],
   "source": [
    "## 백준 제출용 시간 초과 떄문에 sys.stdin.readline사용\n",
    "# 도시의 갯수 N, 도로의 갯수 M, 거리 정보 K, 출발 도시 번호 X\n",
    "import sys\n",
    "f = sys.stdin.readline\n",
    "\n",
    "N, M, K, X = map(int, f().split())\n",
    "# distances []\n",
    "# graph 2차원 배열로 초기화\n",
    "\n",
    "INF = 1e9\n",
    "distances = [INF]*(N+1)\n",
    "graph = [ [] for _ in range(N+1)]\n",
    "\n",
    "for i in range(M):\n",
    "    a, b = map(int, f().split())\n",
    "    graph[a].append((b,1)) # a에서 b로 가는데 1\n",
    "\n",
    "import heapq    \n",
    "queue = []\n",
    "heapq.heappush(queue, (0, X)) # dist, node 우선순위큐라 dist 짧은 것부터 탐색함\n",
    "distances[X] = 0\n",
    "while queue:\n",
    "    # heapq에서 하나씩 빼기.\n",
    "    now_dist, now_node = heapq.heappop(queue)\n",
    "    # 만약 뺐는데 기존의 distances 배열 값이 더 작을 때\n",
    "    if distances[now_node] < now_dist:\n",
    "        continue\n",
    "\n",
    "    # 주변 노드들 탐색해서 queue 에 추가\n",
    "    for temp_node, temp_dist in graph[now_node]: # \n",
    "        cost = now_dist + temp_dist\n",
    "        if cost < distances[temp_node]:\n",
    "            distances[temp_node] = cost\n",
    "            heapq.heappush(queue, (cost, temp_node))\n",
    "\n",
    "# print(graph)\n",
    "print(distances)\n",
    "if K not in distances:\n",
    "    print(-1)\n",
    "else:\n",
    "    for i in range(len(distances)):\n",
    "        if distances[i]==K:\n",
    "            print(i)\n",
    "    "
   ]
  }
 ],
 "metadata": {
  "kernelspec": {
   "display_name": "Python 3",
   "language": "python",
   "name": "python3"
  },
  "language_info": {
   "codemirror_mode": {
    "name": "ipython",
    "version": 3
   },
   "file_extension": ".py",
   "mimetype": "text/x-python",
   "name": "python",
   "nbconvert_exporter": "python",
   "pygments_lexer": "ipython3",
   "version": "3.8.5"
  }
 },
 "nbformat": 4,
 "nbformat_minor": 5
}
