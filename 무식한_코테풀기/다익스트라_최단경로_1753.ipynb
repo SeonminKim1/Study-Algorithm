{
 "cells": [
  {
   "cell_type": "markdown",
   "id": "7762a3e3",
   "metadata": {},
   "source": [
    "## 최단경로\n",
    "- 방향그래프가 주어지면 주어진 시작점에서 다른 모든 정점으로의 최단 경로를 구하는 프로그램을 작성하시오. 단, 모든 간선의 가중치는 10 이하의 자연수이다.\n",
    "- 입력\n",
    "    - 첫째 줄에 정점의 개수 V와 간선의 개수 E가 주어진다. (1 ≤ V ≤ 20,000, 1 ≤ E ≤ 300,000)\n",
    "    - 모든 정점에는 1부터 V까지 번호가 매겨져 있다고 가정\n",
    "    - 둘째 줄에는 시작 정점의 번호 K(1 ≤ K ≤ V)가 주어진다.\n",
    "    - 셋째 줄부터 E개의 줄에 걸쳐 각 간선을 나타내는 세 개의 정수 (u, v, w)가 순서대로 주어진다.\n",
    "        - 이는 u에서 v로 가는 가중치 w인 간선이 존재한다는 뜻\n",
    "        - u와 v는 서로 다르며 w는 10 이하의 자연수이다.\n",
    "    - 서로 다른 두 정점 사이에 여러 개의 간선이 존재할 수도 있음에 유의한다.\n",
    "- 출력\n",
    "    - 첫째 줄부터 V개의 줄에 걸쳐, i번째 줄에 i번 정점으로의 최단 경로의 경로값을 출력\n",
    "    - 시작점 자신은 0으로 출력하고, 경로가 존재하지 않는 경우에는 INF를 출력하면 된다.\n",
    "\n"
   ]
  },
  {
   "cell_type": "code",
   "execution_count": 3,
   "id": "f040c3bb",
   "metadata": {},
   "outputs": [
    {
     "name": "stdout",
     "output_type": "stream",
     "text": [
      "5 6\n",
      "1\n",
      "5 1 1\n",
      "1 2 2\n",
      "1 3 3\n",
      "2 3 4\n",
      "2 4 5\n",
      "3 4 6\n",
      "0\n",
      "2\n",
      "3\n",
      "7\n",
      "INF\n"
     ]
    }
   ],
   "source": [
    "V, E = map(int, input().split()) # V는 정점의 갯수, E는 간선의 갯수\n",
    "start = int(input()) # K\n",
    "\n",
    "INF = 1e9\n",
    "\n",
    "# graph 변수 / distances 변수\n",
    "distances = [INF]*(V+1)\n",
    "graph = [[] for i in range(V+1)]\n",
    "\n",
    "for _ in range(E):\n",
    "    u, v, w = map(int, input().split()) # u=>v , 비용 w\n",
    "    graph[u].append((v, w)) # v로 가는 비용 w\n",
    "    \n",
    "import heapq\n",
    "queue = []\n",
    "\n",
    "heapq.heappush(queue, (0, start))\n",
    "distances[start] = 0\n",
    "\n",
    "while queue:\n",
    "    now_dist, now_node = heapq.heappop(queue)\n",
    "    if distances[now_node] < now_dist:\n",
    "        continue\n",
    "    for temp_node, temp_dist in graph[now_node]:\n",
    "        cost = now_dist + temp_dist\n",
    "        if cost < distances[temp_node]:\n",
    "            distances[temp_node] = cost\n",
    "            heapq.heappush(queue, (cost, temp_node))\n",
    "            \n",
    "# main 출력문\n",
    "for i in distances[1:]:\n",
    "    if i==INF:\n",
    "        print('INF')\n",
    "    else:\n",
    "        print(i)"
   ]
  },
  {
   "cell_type": "code",
   "execution_count": null,
   "id": "668a1c95",
   "metadata": {},
   "outputs": [],
   "source": [
    "## 입력\n",
    "# 5 6\n",
    "# 1\n",
    "# 5 1 1\n",
    "# 1 2 2\n",
    "# 1 3 3\n",
    "# 2 3 4\n",
    "# 2 4 5\n",
    "# 3 4 6\n",
    "\n",
    "## 출력\n",
    "# 0\n",
    "# 2\n",
    "# 3\n",
    "# 7\n",
    "# INF"
   ]
  }
 ],
 "metadata": {
  "kernelspec": {
   "display_name": "Python 3",
   "language": "python",
   "name": "python3"
  },
  "language_info": {
   "codemirror_mode": {
    "name": "ipython",
    "version": 3
   },
   "file_extension": ".py",
   "mimetype": "text/x-python",
   "name": "python",
   "nbconvert_exporter": "python",
   "pygments_lexer": "ipython3",
   "version": "3.8.5"
  }
 },
 "nbformat": 4,
 "nbformat_minor": 5
}
