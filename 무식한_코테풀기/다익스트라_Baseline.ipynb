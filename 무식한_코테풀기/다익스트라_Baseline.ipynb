{
 "cells": [
  {
   "cell_type": "code",
   "execution_count": null,
   "id": "77eaad13",
   "metadata": {},
   "outputs": [],
   "source": [
    "# graph 전체 값 2차원 배열\n",
    "# 각 그래프로 가는 거리 distances 최소화\n",
    "# 우선순위 큐 초기화\n",
    "\n",
    "import heapq\n",
    "  \n",
    "INF = 1e9\n",
    "N = input(): \n",
    "    \n",
    "# 노드의 갯수, 간선의 갯수, 시작 노드 입력받기.\n",
    "N, M, start = map(int, input().split())\n",
    "\n",
    "graph = [ [] for i in range(N+1) ] # 2차원 배열\n",
    "distances = [INF] * (N+1)\n",
    "\n",
    "# X노드에서 Y노드로 가는데 Z소요\n",
    "for _ in range(M):\n",
    "    x, y, z = map(int, input().split())\n",
    "    graph[x].append((y,z)) # graph[x][y] = z\n",
    "    \n",
    "queue = []\n",
    "heapq.heappush(queue, (0, start)) # dist , node, graph에 값으로 넣을 떄랑은 반대로 넣어줘야함.\n",
    "distance[start] = 0\n",
    "\n",
    "while queue:\n",
    "    # 거리, node \n",
    "    now_dist, now_node = heapq.heappop(queue) # (0, 1 나옴)\n",
    "    # 만약 기존 distance 배열에 있는게 더 작으면 다음 노드로\n",
    "    if distance[now_node] < now_dist:\n",
    "        continue\n",
    "    # 현재 노드까지의 거리와 다른 인접 노드까지의 가는 거리 더함\n",
    "    for temp_node, temp_dist in graph[now_node]: # x노드에서 y노드로 가는데 z소요\n",
    "        # 기존 특정 점까지의 최단거리 + 신규 거리\n",
    "        cost = now_dist + temp_dist\n",
    "        if cost < distance[temp_node]:\n",
    "            distance[temp_node] = cost\n",
    "            heapq.heappush(queue, (cost, temp_node))\n",
    "\n",
    "print(distance)"
   ]
  }
 ],
 "metadata": {
  "kernelspec": {
   "display_name": "Python 3",
   "language": "python",
   "name": "python3"
  },
  "language_info": {
   "codemirror_mode": {
    "name": "ipython",
    "version": 3
   },
   "file_extension": ".py",
   "mimetype": "text/x-python",
   "name": "python",
   "nbconvert_exporter": "python",
   "pygments_lexer": "ipython3",
   "version": "3.8.5"
  }
 },
 "nbformat": 4,
 "nbformat_minor": 5
}
