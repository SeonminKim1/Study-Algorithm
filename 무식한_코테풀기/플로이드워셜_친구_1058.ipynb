{
 "cells": [
  {
   "cell_type": "markdown",
   "id": "9b5950fe",
   "metadata": {},
   "source": [
    "## 친구\n",
    "- 가장 유명한 사람을 구하는 방법은 각 사람의 2-친구를 구하면 된다.\n",
    "- 어떤 사람 A가 또다른 사람 B의 2-친구가 되기 위해선\n",
    "    - 두 사람이 친구이거나,\n",
    "    - A와 친구이고, B와 친구인 C가 존재\n",
    "- 가장 유명한 사람은 2-친구의 수가 가장 많은 사람\n",
    "- 가장 유명한 사람의 2-친구의 수를 출력하는 프로그램을 작성\n",
    "- A와 B가 친구면, B와 A도 친구이고, A와 A는 친구가 아니다.\n",
    "\n",
    "- 입력\n",
    "    - 첫째 줄에 사람의 수 N이 주어진다.(N은 50보다 작거나 같은 자연수)\n",
    "    - 둘째 줄부터 N개의 줄에 각 사람이 친구이면 Y, 아니면 N이 주어진다.\n",
    "    \n",
    "- 출력\n",
    "    - 첫째 줄에 가장 유명한 사람의 2-친구의 수를 출력"
   ]
  },
  {
   "cell_type": "code",
   "execution_count": 5,
   "id": "bd0fbf74",
   "metadata": {},
   "outputs": [
    {
     "name": "stdout",
     "output_type": "stream",
     "text": [
      "3\n",
      "NYY\n",
      "YNY\n",
      "YYN\n",
      "[[0, 1, 1], [1, 0, 1], [1, 1, 0]]\n",
      "2\n"
     ]
    }
   ],
   "source": [
    "N = int(input()) # 사람 수\n",
    "INF = 1e9\n",
    "graph = [list(input()) for _ in range(N)]\n",
    "friends = [[0]*N for _ in range(N)]\n",
    "for temp in range(N): # 중간노드\n",
    "    for a in range(N):\n",
    "        for b in range(N):\n",
    "            if a == b: \n",
    "                continue # 자기 자신 인 경우\n",
    "            # A와 B가 친구이거나, A,B와 친구인 C가 있거나\n",
    "            if graph[a][b] == 'Y' or (graph[a][temp] == 'Y' and graph[b][temp]=='Y'):\n",
    "                friends[a][b] = 1 # A는 B와 친구다\n",
    "\n",
    "# print(friends)\n",
    "result = [sum(line) for line in friends]\n",
    "print(max(result))"
   ]
  },
  {
   "cell_type": "code",
   "execution_count": null,
   "id": "45b237dc",
   "metadata": {},
   "outputs": [],
   "source": [
    "# # 입력\n",
    "# 3\n",
    "# NYY\n",
    "# YNY\n",
    "# YYN\n",
    "\n",
    "# # 출력\n",
    "# 2"
   ]
  }
 ],
 "metadata": {
  "kernelspec": {
   "display_name": "Python 3",
   "language": "python",
   "name": "python3"
  },
  "language_info": {
   "codemirror_mode": {
    "name": "ipython",
    "version": 3
   },
   "file_extension": ".py",
   "mimetype": "text/x-python",
   "name": "python",
   "nbconvert_exporter": "python",
   "pygments_lexer": "ipython3",
   "version": "3.8.5"
  }
 },
 "nbformat": 4,
 "nbformat_minor": 5
}
