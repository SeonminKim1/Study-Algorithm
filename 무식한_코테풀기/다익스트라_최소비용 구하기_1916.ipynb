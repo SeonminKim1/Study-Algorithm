{
 "cells": [
  {
   "cell_type": "markdown",
   "id": "614e7516",
   "metadata": {},
   "source": [
    "## 최소 비용 구하기\n",
    "- N개의 도시(도시의 번호는 1부터 N) / 한 도시에서 출발하여 다른 도시에 도착하는 M개의 버스\n",
    "- A번째 도시에서 B번째 도시까지 가는데 드는 버스 비용을 최소화 시키려고 한다.\n",
    "- A번째 도시에서 B번째 도시까지 가는데 드는 최소비용을 출력\n",
    "\n",
    "- 입력\n",
    "    - 첫째 줄에 도시의 개수 N(1 ≤ N ≤ 1,000)\n",
    "    - 둘째 줄에는 버스의 개수 M(1 ≤ M ≤ 100,000)\n",
    "    - 셋째 줄부터 M+2줄까지 다음과 같은 버스의 정보(버스의 출발 도시의 번호, 도착지의 도시 번호, 버스 비용) \n",
    "    - 버스 비용은 0보다 크거나 같고, 100,000보다 작은 정수\n",
    "    - M+3째 줄에는 우리가 구하고자 하는 구간 출발점의 도시번호와 도착점의 도시번호\n",
    "- 출력\n",
    "    - 첫째 줄에 출발 도시에서 도착 도시까지 가는데 드는 최소 비용을 출력한다."
   ]
  },
  {
   "cell_type": "code",
   "execution_count": 5,
   "id": "7aa1ab1c",
   "metadata": {},
   "outputs": [
    {
     "name": "stdout",
     "output_type": "stream",
     "text": [
      "5\n",
      "8\n",
      "1 2 2\n",
      "1 3 3\n",
      "1 4 1\n",
      "1 5 10\n",
      "2 4 2\n",
      "3 4 1\n",
      "3 5 1\n",
      "4 5 3\n",
      "1 5\n",
      "4\n"
     ]
    }
   ],
   "source": [
    "N = int(input()) # 도시 갯수\n",
    "M = int(input()) # M개의 버스\n",
    "\n",
    "# distances\n",
    "# graph\n",
    "\n",
    "INF = 1e9\n",
    "distances = [INF] * (N+1)\n",
    "graph = [[] for _ in range(N+1)]\n",
    "\n",
    "for _ in range(M):\n",
    "    start, end, cost = map(int, input().split())\n",
    "    graph[start].append((end, cost))\n",
    "\n",
    "start, end = map(int, input().split()) # 구하고자하는 출발 도시, 도착도시\n",
    "\n",
    "import heapq\n",
    "queue = [] # 비용 기반 우선순위큐\n",
    "heapq.heappush(queue, (0, start))\n",
    "distances[start] = 0\n",
    "\n",
    "while queue:\n",
    "    now_dist, now_node = heapq.heappop(queue)\n",
    "    if distances[now_node] < now_dist:\n",
    "        continue\n",
    "    \n",
    "    for temp_node, temp_dist in graph[now_node]:\n",
    "        cost = temp_dist + now_dist\n",
    "        if cost < distances[temp_node]:\n",
    "            distances[temp_node] = cost\n",
    "            queue.append((cost , temp_node))\n",
    "\n",
    "print(distances[end])"
   ]
  },
  {
   "cell_type": "code",
   "execution_count": null,
   "id": "b667e3c7",
   "metadata": {},
   "outputs": [],
   "source": [
    "# # 입력\n",
    "# 5\n",
    "# 8\n",
    "# 1 2 2\n",
    "# 1 3 3\n",
    "# 1 4 1\n",
    "# 1 5 10\n",
    "# 2 4 2\n",
    "# 3 4 1\n",
    "# 3 5 1\n",
    "# 4 5 3\n",
    "# 1 5\n",
    "\n",
    "# # 출력\n",
    "# 4"
   ]
  }
 ],
 "metadata": {
  "kernelspec": {
   "display_name": "Python 3",
   "language": "python",
   "name": "python3"
  },
  "language_info": {
   "codemirror_mode": {
    "name": "ipython",
    "version": 3
   },
   "file_extension": ".py",
   "mimetype": "text/x-python",
   "name": "python",
   "nbconvert_exporter": "python",
   "pygments_lexer": "ipython3",
   "version": "3.8.5"
  }
 },
 "nbformat": 4,
 "nbformat_minor": 5
}
