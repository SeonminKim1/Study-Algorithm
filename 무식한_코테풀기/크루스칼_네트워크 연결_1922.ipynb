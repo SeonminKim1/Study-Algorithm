{
 "cells": [
  {
   "cell_type": "markdown",
   "id": "46358c64",
   "metadata": {},
   "source": [
    "## 문제\n",
    "- 도현이는 컴퓨터와 컴퓨터를 모두 연결하는 네트워크를 구축하려 한다.\n",
    "- 모두가 자료를 공유하기 위해서는 모든 컴퓨터가 연결이 각각 되어 있어야 한다.\n",
    "- 각 컴퓨터를 연결하는데 필요한 비용이 주어졌을 때 모든 컴퓨터를 연결하는데 필요한 최소비용을 출력\n",
    "\n",
    "- 입력\n",
    "    - 첫째 줄에 컴퓨터의 수 N (1 ≤ N ≤ 1000)\n",
    "    - 둘째 줄에는 연결할 수 있는 선의 수 M (1 ≤ M ≤ 100,000)\n",
    "    - 셋째 줄부터 M+2번째 줄까지 총 M개의 줄에 각 컴퓨터를 연결하는데 드는 비용\n",
    "        - 비용의 정보는 세 개의 정수\n",
    "        - a b c 가 주어져 있다고 하면 a컴퓨터와 b컴퓨터를 연결하는데 비용이 c (1 ≤ c ≤ 10,000)\n",
    "    - a와 b는 같을 수도 있다.\n",
    "- 출력\n",
    "    - 모든 컴퓨터를 연결하는데 필요한 최소비용을 첫째 줄에 출력"
   ]
  },
  {
   "cell_type": "code",
   "execution_count": 8,
   "id": "4225bebf",
   "metadata": {},
   "outputs": [
    {
     "name": "stdout",
     "output_type": "stream",
     "text": [
      "6\n",
      "9\n",
      "1 2 5\n",
      "1 3 4\n",
      "2 3 2\n",
      "2 4 7\n",
      "3 4 6\n",
      "3 5 11\n",
      "4 5 3\n",
      "4 6 8\n",
      "5 6 8\n",
      "23\n"
     ]
    }
   ],
   "source": [
    "def find_parent(parent, x):\n",
    "    if parent[x] != x:\n",
    "        parent[x] = find_parent(parent, parent[x])\n",
    "    return parent[x]\n",
    "\n",
    "def union_parent(parent, a, b):\n",
    "    a = find_parent(parent, a)\n",
    "    b = find_parent(parent, b)\n",
    "    if a < b:\n",
    "        parent[b] = a\n",
    "    else:\n",
    "        parent[a] = b\n",
    "\n",
    "N = int(input())\n",
    "M = int(input())\n",
    "\n",
    "edges = []\n",
    "parent = [0] * (N+1) # 부모 노드\n",
    "for i in range(1, N+1):\n",
    "    parent[i] = i\n",
    "\n",
    "for _ in range(M):\n",
    "    a, b, cost = map(int, input().split())\n",
    "    edges.append((cost, a, b))\n",
    "edges.sort()\n",
    "\n",
    "result = 0\n",
    "for edge in edges:\n",
    "    cost, a, b = edge\n",
    "    if find_parent(parent, a) != find_parent(parent, b):\n",
    "        union_parent(parent, a, b)\n",
    "        result += cost\n",
    "print(result)"
   ]
  },
  {
   "cell_type": "code",
   "execution_count": null,
   "id": "fcb021d6",
   "metadata": {},
   "outputs": [],
   "source": [
    "# # 입력\n",
    "# 6\n",
    "# 9\n",
    "# 1 2 5\n",
    "# 1 3 4\n",
    "# 2 3 2\n",
    "# 2 4 7\n",
    "# 3 4 6\n",
    "# 3 5 11\n",
    "# 4 5 3\n",
    "# 4 6 8\n",
    "# 5 6 8\n",
    "\n",
    "# # 출력\n",
    "# 23"
   ]
  }
 ],
 "metadata": {
  "kernelspec": {
   "display_name": "Python 3",
   "language": "python",
   "name": "python3"
  },
  "language_info": {
   "codemirror_mode": {
    "name": "ipython",
    "version": 3
   },
   "file_extension": ".py",
   "mimetype": "text/x-python",
   "name": "python",
   "nbconvert_exporter": "python",
   "pygments_lexer": "ipython3",
   "version": "3.8.5"
  }
 },
 "nbformat": 4,
 "nbformat_minor": 5
}
