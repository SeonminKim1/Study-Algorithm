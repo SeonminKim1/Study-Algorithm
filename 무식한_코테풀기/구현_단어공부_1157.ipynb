{
 "cells": [
  {
   "cell_type": "markdown",
   "id": "1494525e",
   "metadata": {},
   "source": [
    "## 단어 공부\n",
    "- 가장 많이 사용된 알파벳이 무엇인지 알아내는 프로그램 작성\n"
   ]
  },
  {
   "cell_type": "code",
   "execution_count": 28,
   "id": "ecba3f65",
   "metadata": {},
   "outputs": [
    {
     "name": "stdout",
     "output_type": "stream",
     "text": [
      "zZa\n",
      "Z\n"
     ]
    }
   ],
   "source": [
    "wordset = list('ABCDEFGHIJKLMNOPQRSTUVWXYZ')\n",
    "word_cnt_list = [0]*len(wordset)\n",
    "word = input().upper()\n",
    "\n",
    "for s in word: # append\n",
    "    if s in wordset: # \n",
    "        word_cnt_list[wordset.index(s)] +=1\n",
    "\n",
    "max_cnt_value = max(word_cnt_list)\n",
    "\n",
    "cnt = 0\n",
    "for i in word_cnt_list: # [1 0 0 1 0 ... 2]\n",
    "    if i == max_cnt_value:\n",
    "        cnt += 1\n",
    "\n",
    "max_index = word_cnt_list.index(max_cnt_value)\n",
    "\n",
    "if cnt == 1:\n",
    "    print(wordset[max_index])\n",
    "else:\n",
    "    print('?')"
   ]
  }
 ],
 "metadata": {
  "kernelspec": {
   "display_name": "Python 3",
   "language": "python",
   "name": "python3"
  },
  "language_info": {
   "codemirror_mode": {
    "name": "ipython",
    "version": 3
   },
   "file_extension": ".py",
   "mimetype": "text/x-python",
   "name": "python",
   "nbconvert_exporter": "python",
   "pygments_lexer": "ipython3",
   "version": "3.8.5"
  }
 },
 "nbformat": 4,
 "nbformat_minor": 5
}
