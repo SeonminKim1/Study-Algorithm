{
 "cells": [
  {
   "cell_type": "markdown",
   "id": "a2641d4b",
   "metadata": {},
   "source": [
    "## 달팽이는  올라가고 싶다\n"
   ]
  },
  {
   "cell_type": "markdown",
   "id": "d13f0cfc",
   "metadata": {},
   "source": [
    "- V미터 나무막대 올라갈 것\n",
    "- 낮에 A미터 올라갈 수 있고 \n",
    "- 밤에 잠을 자는 동안 B미터 미끄러짐\n",
    "- 나무 막대를 모두 올라가려면, 며칠이 걸리는지 구하기"
   ]
  },
  {
   "cell_type": "code",
   "execution_count": 31,
   "id": "550136d1",
   "metadata": {},
   "outputs": [
    {
     "name": "stdout",
     "output_type": "stream",
     "text": [
      "5 1 6\n",
      "2\n"
     ]
    }
   ],
   "source": [
    "##### A : 올라감, B:미끄러짐 \n",
    "## 시간초과 코드\n",
    "A, B ,V = map(int, input().split())\n",
    "\n",
    "now = 0\n",
    "day = 0\n",
    "while True:\n",
    "    day += 1\n",
    "    now += A\n",
    "    if now >= V:\n",
    "        break\n",
    "    now -= B\n",
    "print(day)"
   ]
  },
  {
   "cell_type": "code",
   "execution_count": 27,
   "id": "897e046a",
   "metadata": {},
   "outputs": [
    {
     "name": "stdout",
     "output_type": "stream",
     "text": [
      "2 1 2\n",
      "1\n"
     ]
    }
   ],
   "source": [
    "A, B ,V = map(int, input().split())\n",
    "\n",
    "import math\n",
    "# 하루 전까지는 A-B로 오름\n",
    "# 마지막날은 A오름\n",
    "\n",
    "# 만일 소수점이 있다면 올림을 해줘야 함.\n",
    "# 최종 마지막 날엔 V를 초과해서 오를 수 있기 떄문.\n",
    "day = math.ceil((V-A)/(A-B)) + 1\n",
    "print(day)"
   ]
  }
 ],
 "metadata": {
  "kernelspec": {
   "display_name": "Python 3",
   "language": "python",
   "name": "python3"
  },
  "language_info": {
   "codemirror_mode": {
    "name": "ipython",
    "version": 3
   },
   "file_extension": ".py",
   "mimetype": "text/x-python",
   "name": "python",
   "nbconvert_exporter": "python",
   "pygments_lexer": "ipython3",
   "version": "3.8.5"
  }
 },
 "nbformat": 4,
 "nbformat_minor": 5
}
