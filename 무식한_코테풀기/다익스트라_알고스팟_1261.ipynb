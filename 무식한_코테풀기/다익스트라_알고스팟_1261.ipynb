{
 "cells": [
  {
   "cell_type": "markdown",
   "id": "de6ad70a",
   "metadata": {},
   "source": [
    "## 알고스팟\n",
    "- 알고스팟 운영진이 모두 미로에 갇혔다. \n",
    "- 미로는 N*M 크기이며, 총 1*1크기의 방으로 이루어져 있다.\n",
    "    - 미로는 빈 방 또는 벽으로 이루어져 있고, 빈 방은 자유롭게 다닐 수 있지만, 벽은 부수지 않으면 이동할 수 없다.\n",
    "    - 어떤 방에서 이동할 수 있는 방은 상하좌우로 인접한 빈 방이다.\n",
    "    - 즉, 현재 운영진이 (x, y)에 있을 때, 이동할 수 있는 방은 (x+1, y), (x, y+1), (x-1, y), (x, y-1) 이다. \n",
    "    - 단, 미로의 밖으로 이동 할 수는 없다.\n",
    "- 벽은 알고스팟의 무기 AOJ를 이용해 벽을 부수어 버릴 수 있다. 벽을 부수면, 빈 방과 동일한 방으로 변한다.\n",
    "- 현재 (1, 1)에 있는 알고스팟 운영진이 (N, M)으로 이동하려면 벽을 최소 몇 개 부수어야 하는지 구하는 프로그램을 작성\n",
    "\n",
    "- 입력\n",
    "    - 첫째 줄에 미로의 크기를 나타내는 가로 크기 M, 세로 크기 N (1 ≤ N, M ≤ 100)\n",
    "    - 다음 N개의 줄에는 미로의 상태를 나타내는 숫자 0과 1이 주어진다.\n",
    "    - 0은 빈 방을 의미하고, 1은 벽을 의미한다.\n",
    "    - (1, 1)과 (N, M)은 항상 뚫려있다.\n",
    "- 출력\n",
    "    - 첫째 줄에 알고스팟 운영진이 (N, M)으로 이동하기 위해 벽을 최소 몇 개 부수어야 하는지 출력한다."
   ]
  },
  {
   "cell_type": "code",
   "execution_count": 11,
   "id": "baa69326",
   "metadata": {},
   "outputs": [
    {
     "name": "stdout",
     "output_type": "stream",
     "text": [
      "6 6\n",
      "001111\n",
      "010000\n",
      "001111\n",
      "110001\n",
      "011010\n",
      "100010\n",
      "2\n"
     ]
    }
   ],
   "source": [
    "# 시작점에서 끝점 까지 가는데\n",
    "# heapq에 넣는데, 최소 우선순위큐니까, count가 작은 좌표들을 살펴봄.\n",
    "import heapq\n",
    "INF = 1e9\n",
    "\n",
    "# 가로, 세로\n",
    "M, N = map(int, input().split())\n",
    "graph = [list(map(int, list(input()))) for _ in range(N)] # 가로 M, 세로 N\n",
    "visit = [[0] * M for _ in range(N)]\n",
    "\n",
    "# 왼 우 하 상\n",
    "dx = [-1, 1, 0, 0]\n",
    "dy = [0, 0, 1, -1]\n",
    "\n",
    "queue = []\n",
    "heapq.heappush(queue, [0, 0, 0]) # cost = 0 , y = 0, x = 0\n",
    "visit[0][0] = 1\n",
    "\n",
    "while queue:\n",
    "    a, y, x = heapq.heappop(queue)\n",
    "    if x == M-1 and y == N-1:\n",
    "        print(a)\n",
    "        break\n",
    "        \n",
    "    for i in range(4):\n",
    "        nx = x + dx[i]\n",
    "        ny = y + dy[i]\n",
    "        if (0 <= nx < M) and (0 <= ny < N) and visit[ny][nx] == 0 :\n",
    "            visit[ny][nx] = 1\n",
    "            if graph[ny][nx] == 1: # 검은 벽이면\n",
    "                heapq.heappush(queue, [a+1, ny, nx])\n",
    "            else:\n",
    "                heapq.heappush(queue, [a, ny, nx])            "
   ]
  }
 ],
 "metadata": {
  "kernelspec": {
   "display_name": "Python 3",
   "language": "python",
   "name": "python3"
  },
  "language_info": {
   "codemirror_mode": {
    "name": "ipython",
    "version": 3
   },
   "file_extension": ".py",
   "mimetype": "text/x-python",
   "name": "python",
   "nbconvert_exporter": "python",
   "pygments_lexer": "ipython3",
   "version": "3.8.5"
  }
 },
 "nbformat": 4,
 "nbformat_minor": 5
}
