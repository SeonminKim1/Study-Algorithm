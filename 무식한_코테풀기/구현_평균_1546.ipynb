{
 "cells": [
  {
   "cell_type": "markdown",
   "id": "28c6eb39",
   "metadata": {},
   "source": [
    "## 평균\n",
    "- 평균 조작"
   ]
  },
  {
   "cell_type": "code",
   "execution_count": 12,
   "id": "1717e4f1",
   "metadata": {},
   "outputs": [
    {
     "name": "stdout",
     "output_type": "stream",
     "text": [
      "3\n",
      "40 80 60\n",
      "75.0\n"
     ]
    }
   ],
   "source": [
    "# 시험 본 과목 갯수\n",
    "N = int(input())\n",
    "\n",
    "# 세준이의 현재 성적\n",
    "score = list(map(int, input().split()))\n",
    "\n",
    "max_score = max(score)\n",
    "\n",
    "fixed_score = list(map(lambda x: x/max_score * 100, score))\n",
    "print(sum(fixed_score)/len(fixed_score))"
   ]
  }
 ],
 "metadata": {
  "kernelspec": {
   "display_name": "Python 3",
   "language": "python",
   "name": "python3"
  },
  "language_info": {
   "codemirror_mode": {
    "name": "ipython",
    "version": 3
   },
   "file_extension": ".py",
   "mimetype": "text/x-python",
   "name": "python",
   "nbconvert_exporter": "python",
   "pygments_lexer": "ipython3",
   "version": "3.8.5"
  }
 },
 "nbformat": 4,
 "nbformat_minor": 5
}
