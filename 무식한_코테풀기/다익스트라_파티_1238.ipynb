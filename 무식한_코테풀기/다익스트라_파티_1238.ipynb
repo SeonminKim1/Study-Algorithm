{
 "cells": [
  {
   "cell_type": "markdown",
   "id": "edc55d3e",
   "metadata": {},
   "source": [
    "## 파티\n",
    "- N개의 숫자 마을에 각각 한 명의 학생이 살고 있다.\n",
    "- N명의 학생이 X (1 ≤ X ≤ N)번 마을에 모여서 파티를 벌이기로 했다.\n",
    "    - 마을 사이에는 총 M개의 단방향 도로\n",
    "    - i번째 길을 지나는데 Ti(1 ≤ Ti ≤ 100)의 시간을 소비\n",
    "- 각각의 학생들은 파티에 참석하기 위해 걸어가서, 다시 그들의 마을로 돌아와야 한다.\n",
    "- 하지만 이 학생들은 워낙 게을러서 최단 시간에 오고 가기를 원한다.\n",
    "- **이 도로들은 단방향이기 때문에 아마 그들이 오고 가는 길이 다를지도 모른다.**\n",
    "- **N명의 학생들 중 오고 가는데 가장 많은 시간을 소비하는 학생은 누구일지 구하여라.**\n",
    "\n",
    "- 입력\n",
    "    - 첫째 줄에 N(1 ≤ N ≤ 1,000), M(1 ≤ M ≤ 10,000), X가 공백으로 구분되어 입력\n",
    "    - 두 번째 줄부터 M+1번째 줄까지 i번째 도로의 시작점, 끝점, 도로를 지나는 소요시간 Ti\n",
    "    - 시작점과 끝점이 같은 도로는 없으며, 시작점과 한 도시 A에서 다른 도시 B로 가는 도로의 개수는 최대 1개이다.\n",
    "\n",
    "    - 모든 학생들은 집에서 X에 갈수 있고, X에서 집으로 돌아올 수 있는 데이터만 입력으로 주어진다.\n",
    "\n",
    "- 출력\n",
    "    - 첫 번째 줄에 N명의 학생들 중 오고 가는데 가장 오래 걸리는 학생의 소요시간을 출력한다."
   ]
  },
  {
   "cell_type": "code",
   "execution_count": 5,
   "id": "d829a5f6",
   "metadata": {},
   "outputs": [
    {
     "name": "stdout",
     "output_type": "stream",
     "text": [
      "4 8 2\n",
      "1 2 4\n",
      "1 3 2\n",
      "1 4 7\n",
      "2 1 1\n",
      "2 3 5\n",
      "3 1 2\n",
      "3 4 4\n",
      "4 2 3\n",
      "10\n"
     ]
    }
   ],
   "source": [
    "#### X번 마을에서 N번 학생들에게 가는 값중 최댓값 찾기.\n",
    "N, M, X = map(int, input().split()) # N은 학생들, M은 도로, X는 모이는 마을번호\n",
    "\n",
    "INF = 1e9\n",
    "graph = [[] for _ in range(N+1)]\n",
    "\n",
    "\n",
    "for _ in range(M):\n",
    "    a, b, c = map(int, input().split())\n",
    "    graph[a].append((b,c))\n",
    "\n",
    "import heapq\n",
    "\n",
    "def dijkstra(start, end):\n",
    "    queue = []\n",
    "    heapq.heappush(queue, (0, start)) # 0 cost / X번 마을\n",
    "    distances = [INF] * (N+1)\n",
    "    distances[start] = 0\n",
    "\n",
    "    while queue:\n",
    "        now_dist ,now_node = heapq.heappop(queue)\n",
    "        if distances[now_node] < now_dist :\n",
    "            continue\n",
    "        for temp_node, temp_dist in graph[now_node]:\n",
    "            cost = now_dist + temp_dist\n",
    "            if cost < distances[temp_node]:\n",
    "                distances[temp_node] = cost\n",
    "                heapq.heappush(queue, (cost, temp_node))\n",
    "    return distances[end]\n",
    "\n",
    "result = []\n",
    "for i in range(1, N+1):\n",
    "    result.append(dijkstra(i, X) + dijkstra(X, i))\n",
    "print(max(result))"
   ]
  },
  {
   "cell_type": "code",
   "execution_count": null,
   "id": "460b5d28",
   "metadata": {},
   "outputs": [],
   "source": [
    "## 입력\n",
    "# 4 8 2\n",
    "# 1 2 4\n",
    "# 1 3 2\n",
    "# 1 4 7\n",
    "# 2 1 1\n",
    "# 2 3 5\n",
    "# 3 1 2\n",
    "# 3 4 4\n",
    "# 4 2 3\n",
    "\n",
    "## 출력\n",
    "# 10"
   ]
  }
 ],
 "metadata": {
  "kernelspec": {
   "display_name": "Python 3",
   "language": "python",
   "name": "python3"
  },
  "language_info": {
   "codemirror_mode": {
    "name": "ipython",
    "version": 3
   },
   "file_extension": ".py",
   "mimetype": "text/x-python",
   "name": "python",
   "nbconvert_exporter": "python",
   "pygments_lexer": "ipython3",
   "version": "3.8.5"
  }
 },
 "nbformat": 4,
 "nbformat_minor": 5
}
