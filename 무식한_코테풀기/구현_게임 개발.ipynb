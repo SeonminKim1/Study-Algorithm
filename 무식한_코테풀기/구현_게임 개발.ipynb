{
 "cells": [
  {
   "cell_type": "markdown",
   "id": "3d773a75",
   "metadata": {},
   "source": [
    "## 게임 개발\n",
    "- 조건1) 현재 위치에서 현재 방향을 기준으로 왼쪽 방향(반시계 방향으로 90도 회전한 방향)부터 차례대로 갈 곳을 정한다.\n",
    "- 조건2) 캐릭터의 바로 왼쪽 방향에 아직 가보지 않은 칸이 존재한다면, 왼쪽 방향으로 회전한 다음 왼쪽으로 한 칸을 전진, 왼쪽 방향에 가보지 않은 칸이 없다면, 왼쪽 방향으로 회전만 수행하고 1단계로 돌아간다..\n",
    "- 조건3) 만약 네 방향 모두 이미 가본 칸이거나 바다로 되어 있는 칸인 경우에는, 바라보는 방향을 유지한 채로 한 칸 뒤로 가고 1단계로 돌아간다, 이때 뒤쪽방향이 바다인 칸이라 뒤로 갈 수 없는 경우에는 움직임을 멈춘다."
   ]
  },
  {
   "cell_type": "code",
   "execution_count": 11,
   "id": "e7798d25",
   "metadata": {},
   "outputs": [
    {
     "name": "stdout",
     "output_type": "stream",
     "text": [
      "4 4\n",
      "1 1 0\n",
      "1 1 1 1\n",
      "1 0 0 1\n",
      "1 1 0 1\n",
      "1 1 1 1\n"
     ]
    }
   ],
   "source": [
    "# N은 세로크기 M은 가로 크기\n",
    "N, M = map(int, input().split())\n",
    "\n",
    "y, x, d = map(int, input().split()) # d는 북 0 / 동 1 / 남 2 / 서 3\n",
    "\n",
    "visit = [[False]*M for _ in range(N)]\n",
    "maps = [] # 육지 0 바다 1\n",
    "for _ in range(N):\n",
    "    maps.append(list(map(int, input().split())))\n",
    "maps[y][x] = 1\n",
    "visit[y][x] = True\n",
    "\n",
    "### 북쪽, 동쪽, 남쪽, 서쪽\n",
    "dx = [0, 1, 0, -1]\n",
    "dy = [-1, 0, 1, 0]\n"
   ]
  },
  {
   "cell_type": "code",
   "execution_count": 12,
   "id": "5d870315",
   "metadata": {},
   "outputs": [
    {
     "data": {
      "text/plain": [
       "[[False, False, False, False],\n",
       " [False, True, False, False],\n",
       " [False, False, False, False],\n",
       " [False, False, False, False]]"
      ]
     },
     "execution_count": 12,
     "metadata": {},
     "output_type": "execute_result"
    }
   ],
   "source": [
    "import copy\n",
    "\n",
    "visit2 = copy.deepcopy(visit)\n",
    "visit2"
   ]
  },
  {
   "cell_type": "code",
   "execution_count": 22,
   "id": "181e0809",
   "metadata": {},
   "outputs": [
    {
     "data": {
      "text/plain": [
       "[[False, False, False, False],\n",
       " [False, True, False, False],\n",
       " [False, False, False, False],\n",
       " [False, False, False, False]]"
      ]
     },
     "execution_count": 22,
     "metadata": {},
     "output_type": "execute_result"
    }
   ],
   "source": [
    "visit = copy.deepcopy(visit2)\n",
    "visit"
   ]
  },
  {
   "cell_type": "code",
   "execution_count": 23,
   "id": "ee237326",
   "metadata": {},
   "outputs": [
    {
     "name": "stdout",
     "output_type": "stream",
     "text": [
      "3\n"
     ]
    }
   ],
   "source": [
    "\n",
    "def turn_left(d):\n",
    "    d -= 1\n",
    "    if d==-1:\n",
    "        d=3\n",
    "    return d\n",
    "\n",
    "# y, x, d => 1, 1, 0\n",
    "count = 1\n",
    "turn_time = 0\n",
    "while True:\n",
    "    d = turn_left(d)\n",
    "    nx = x+dx[d]\n",
    "    ny = y+dy[d]\n",
    "    if nx <0 or ny <0 or nx >=M or ny >= N:\n",
    "        continue\n",
    "    # 정면이 육지인 경우 and 방문하지 않았던 경우\n",
    "    if maps[ny][nx] == 0 and visit[ny][nx] == False:\n",
    "        visit[ny][nx] = True\n",
    "        x, y = nx, ny\n",
    "        count+=1\n",
    "        turn_time = 0\n",
    "        continue\n",
    "    # 정면이 바다인데 방문했던 경우 (x)\n",
    "    # 정면이 육지인데 방문했던 경우 (o)\n",
    "    # 정면이 바다인데 방문안했던 경우 (o)\n",
    "    else:\n",
    "        turn_time += 1\n",
    "    \n",
    "    # 회전 4회 하면 뒤로\n",
    "    if turn_time == 4:\n",
    "        nx = x - dx[d]\n",
    "        ny = y - dy[d]\n",
    "        # 뒤로 갈수 있다면\n",
    "        if maps[ny][nx] == 0:\n",
    "            x, y = nx, ny\n",
    "        # 뒤가 바다로 막혀있다면\n",
    "        else:\n",
    "            break\n",
    "        turn_time = 0\n",
    "print(count)"
   ]
  },
  {
   "cell_type": "code",
   "execution_count": null,
   "id": "489e8704",
   "metadata": {},
   "outputs": [],
   "source": []
  }
 ],
 "metadata": {
  "kernelspec": {
   "display_name": "Python 3",
   "language": "python",
   "name": "python3"
  },
  "language_info": {
   "codemirror_mode": {
    "name": "ipython",
    "version": 3
   },
   "file_extension": ".py",
   "mimetype": "text/x-python",
   "name": "python",
   "nbconvert_exporter": "python",
   "pygments_lexer": "ipython3",
   "version": "3.8.5"
  }
 },
 "nbformat": 4,
 "nbformat_minor": 5
}
