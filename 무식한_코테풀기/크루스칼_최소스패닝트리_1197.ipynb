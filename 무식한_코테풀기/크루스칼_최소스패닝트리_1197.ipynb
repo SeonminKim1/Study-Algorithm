{
 "cells": [
  {
   "cell_type": "markdown",
   "id": "21620fc6",
   "metadata": {},
   "source": [
    "\n",
    "## 최소 스패닝 트리\n",
    "- 최소 스패닝 트리는, 주어진 그래프의 모든 정점들을 연결하는 부분 그래프 중에서 그 가중치의 합이 최소인 트리\n",
    "- 그래프가 주어졌을 때, 그 그래프의 최소 스패닝 트리를 구하는 프로그램을 작성\n",
    "\n",
    "- 입력\n",
    "    - 첫째 줄에 정점의 개수 V(1 ≤ V ≤ 10,000)와 간선의 개수 E(1 ≤ E ≤ 100,000)\n",
    "    - 다음 E개의 줄에는 각 간선에 대한 정보를 나타내는 세 정수 A, B, C\n",
    "        - A번 정점과 B번 정점이 가중치 C인 간선으로 연결되어 있다는 의미\n",
    "        - C는 음수일 수도 있으며, 절댓값이 1,000,000을 넘지 않는다.\n",
    "    - 그래프의 정점은 1번부터 V번까지 번호가 매겨져 있고,임의의 두 정점 사이에 경로가 있다.\n",
    "    - 최소 스패닝 트리의 가중치가 -2,147,483,648보다 크거나 같고, 2,147,483,647보다 작거나 같은 데이터만 입력으로 주어진다.\n",
    "\n",
    "- 출력\n",
    "    - 첫째 줄에 최소 스패닝 트리의 가중치를 출력한다."
   ]
  },
  {
   "cell_type": "markdown",
   "id": "c1a7e5ab",
   "metadata": {},
   "source": [
    "## 요약\n",
    "- union, find 함수 작성\n",
    "- 노드(node), 간선 갯수(e), 부모 테이블(parent) 초기화\n",
    "- edges 관리 및 정렬하여 cost, a, b 받아서 union & find\n",
    "- main 문에서 queue나 if 문 등 이용하여 코드 작성"
   ]
  },
  {
   "cell_type": "code",
   "execution_count": 5,
   "id": "719aed46",
   "metadata": {},
   "outputs": [
    {
     "name": "stdout",
     "output_type": "stream",
     "text": [
      "3 3\n",
      "1 2 1\n",
      "2 3 2\n",
      "1 3 3\n",
      "3\n"
     ]
    }
   ],
   "source": [
    "def find_parent(parent, x):\n",
    "    if parent[x] != x:\n",
    "        parent[x] = find_parent(parent, parent[x])\n",
    "    return parent[x]\n",
    "\n",
    "def union_parent(parent, a, b):\n",
    "    a = find_parent(parent, a)\n",
    "    b = find_parent(parent, b)\n",
    "    if a < b:\n",
    "        parent[b] = a\n",
    "    else:\n",
    "        parent[a] = b\n",
    "\n",
    "# 정점과 간선갯수\n",
    "node, e = map(int, input().split())\n",
    "parent = [0] * (node+1) \n",
    "for i in range(1, node+1):\n",
    "    parent[i] = i\n",
    "edges = []\n",
    "# a에서 b로 가는데 c\n",
    "for _ in range(e):\n",
    "    a, b, c = map(int, input().split())\n",
    "    edges.append((c,a,b))\n",
    "edges.sort()\n",
    "\n",
    "result = 0\n",
    "for edge in edges:\n",
    "    cost , a, b = edge\n",
    "    # 사이클 발생 x \n",
    "    if find_parent(parent, a) != find_parent(parent, b):\n",
    "        union_parent(parent, a, b)\n",
    "        result += cost\n",
    "print(result)\n",
    "    "
   ]
  },
  {
   "cell_type": "code",
   "execution_count": null,
   "id": "4fd19c6c",
   "metadata": {},
   "outputs": [],
   "source": [
    "# # 입력\n",
    "# 3 3\n",
    "# 1 2 1\n",
    "# 2 3 2\n",
    "# 1 3 3\n",
    "# # 출력\n",
    "# 3"
   ]
  }
 ],
 "metadata": {
  "kernelspec": {
   "display_name": "Python 3",
   "language": "python",
   "name": "python3"
  },
  "language_info": {
   "codemirror_mode": {
    "name": "ipython",
    "version": 3
   },
   "file_extension": ".py",
   "mimetype": "text/x-python",
   "name": "python",
   "nbconvert_exporter": "python",
   "pygments_lexer": "ipython3",
   "version": "3.8.5"
  }
 },
 "nbformat": 4,
 "nbformat_minor": 5
}
