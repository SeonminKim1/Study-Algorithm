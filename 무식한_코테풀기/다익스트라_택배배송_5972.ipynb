{
 "cells": [
  {
   "cell_type": "markdown",
   "id": "1a117932",
   "metadata": {},
   "source": [
    "## 택배배송\n",
    "- 농부 현서는 농부 찬홍이에게 택배를 배달\n",
    "- 평화롭게 가려면 가는 길에 만나는 모든 소들에게 맛있는 여물을 줘야 합니다.\n",
    "- 물론 현서는 구두쇠라서 최소한의 소들을 만나면서 지나가고 싶습니다.\n",
    "- 농부 현서에게는 지도가 있습니다.\n",
    "    - N (1 <= N <= 50,000) 개의 헛간\n",
    "    - 소들의 길인 M (1 <= M <= 50,000) 개의 양방향 길이 그려져 있고\n",
    "    - 각각의 길은 C_i (0 <= C_i <= 1,000) 마리의 소가 있습니다.\n",
    "    - 소들의 길은 두 개의 떨어진 헛간인 A_i 와 B_i (1 <= A_i <= N; 1 <= B_i <= N; A_i != B_i)를 잇습니다. \n",
    "- 두 개의 헛간은 하나 이상의 길로 연결되어 있을 수도 있습니다.\n",
    "- 농부 현서는 헛간 1에 있고 농부 찬홍이는 헛간 N에 있습니다.\n",
    "- 여물의 비용이 주어질 때 최소 여물은 얼마일까요?\n",
    "\n",
    "- 입력\n",
    "    - 첫째 줄에 N과 M이 공백을 사이에 두고 주어짐\n",
    "    - 둘째 줄부터 M+1번째 줄까지 세 개의 정수 A_i, B_i, C_i가 주어짐\n",
    "    \n",
    "- 출력\n",
    "    - 첫째 줄에 농부 현서가 가져가야 될 최소 여물을 출력"
   ]
  },
  {
   "cell_type": "code",
   "execution_count": 8,
   "id": "40382af6",
   "metadata": {},
   "outputs": [
    {
     "name": "stdout",
     "output_type": "stream",
     "text": [
      "6 8\n",
      "4 5 3\n",
      "2 4 0\n",
      "4 1 4\n",
      "2 1 1\n",
      "5 6 1\n",
      "3 6 2\n",
      "3 2 6\n",
      "3 4 4\n",
      "[1000000000.0, 0, 1, 5, 1, 4, 5]\n",
      "5\n"
     ]
    }
   ],
   "source": [
    "\n",
    "N, M = map(int, input().split()) # 헛간 N / 소들 길 M\n",
    "INF = 1e9\n",
    "\n",
    "graph = [[] for _ in range(N+1)]\n",
    "distances = [INF]*(N+1)\n",
    "\n",
    "for _ in range(M):\n",
    "    a, b, cost = map(int, input().split())\n",
    "    graph[a].append((b, cost)) # A_i, B_i, C_i => 헛간 A에서 헛간 B로 가는데 소들 비용 C\n",
    "    graph[b].append((a, cost))\n",
    "    \n",
    "import heapq\n",
    "queue = []\n",
    "heapq.heappush(queue, ((0, 1))) # push (dist, node)\n",
    "distances[1] = 0\n",
    "\n",
    "while queue:\n",
    "    now_dist, now_node = heapq.heappop(queue)\n",
    "    if distances[now_node] < now_dist:\n",
    "        continue\n",
    "    for temp_node, temp_dist in graph[now_node]:\n",
    "        cost = now_dist + temp_dist\n",
    "        if cost < distances[temp_node]:\n",
    "            distances[temp_node] = cost\n",
    "            heapq.heappush(queue, (cost, temp_node))\n",
    "        \n",
    "print(distances[N])"
   ]
  },
  {
   "cell_type": "code",
   "execution_count": null,
   "id": "6c5a921f",
   "metadata": {},
   "outputs": [],
   "source": [
    "print(distances[N])"
   ]
  },
  {
   "cell_type": "code",
   "execution_count": null,
   "id": "3a2daf3a",
   "metadata": {},
   "outputs": [],
   "source": [
    "## 입력\n",
    "# 6 8\n",
    "# 4 5 3\n",
    "# 2 4 0\n",
    "# 4 1 4\n",
    "# 2 1 1\n",
    "# 5 6 1\n",
    "# 3 6 2\n",
    "# 3 2 6\n",
    "# 3 4 4"
   ]
  }
 ],
 "metadata": {
  "kernelspec": {
   "display_name": "Python 3",
   "language": "python",
   "name": "python3"
  },
  "language_info": {
   "codemirror_mode": {
    "name": "ipython",
    "version": 3
   },
   "file_extension": ".py",
   "mimetype": "text/x-python",
   "name": "python",
   "nbconvert_exporter": "python",
   "pygments_lexer": "ipython3",
   "version": "3.8.5"
  }
 },
 "nbformat": 4,
 "nbformat_minor": 5
}
