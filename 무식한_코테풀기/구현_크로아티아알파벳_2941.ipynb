{
 "cells": [
  {
   "cell_type": "markdown",
   "id": "daa994c2",
   "metadata": {},
   "source": [
    "## 크로아티아알파벳\n",
    "- 단어가 주어졌을 때 크로아티아 알파벳 몇개로 이루어져있는지\n",
    "\n"
   ]
  },
  {
   "cell_type": "code",
   "execution_count": 18,
   "id": "0b39293b",
   "metadata": {},
   "outputs": [
    {
     "name": "stdout",
     "output_type": "stream",
     "text": [
      "nljj\n",
      "3\n"
     ]
    }
   ],
   "source": [
    "dictionary = ['c=','c-','dz=','d-', 'lj','nj','s=','z=']\n",
    "\n",
    "# word 받고\n",
    "# dictionary에서 찾아서 지움('.'으로 대체)\n",
    "# 전체 word는 한글자씩이니까 len(word)\n",
    "word = input()\n",
    "\n",
    "for w in dictionary:\n",
    "    word = word.replace(w, '.')\n",
    "print(len(word))"
   ]
  }
 ],
 "metadata": {
  "kernelspec": {
   "display_name": "Python 3",
   "language": "python",
   "name": "python3"
  },
  "language_info": {
   "codemirror_mode": {
    "name": "ipython",
    "version": 3
   },
   "file_extension": ".py",
   "mimetype": "text/x-python",
   "name": "python",
   "nbconvert_exporter": "python",
   "pygments_lexer": "ipython3",
   "version": "3.8.5"
  }
 },
 "nbformat": 4,
 "nbformat_minor": 5
}
