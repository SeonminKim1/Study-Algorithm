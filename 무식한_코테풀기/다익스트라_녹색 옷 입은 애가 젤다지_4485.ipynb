{
 "cells": [
  {
   "cell_type": "markdown",
   "id": "ea4af9e6",
   "metadata": {},
   "source": [
    "## 녹색 옷 입은 애가 젤다지?\n",
    "- 화폐의 단위는 루피(rupee)다.\n",
    "- '도둑루피'라 불리는 검정색 루피 => 소지한 루피가 감소\n",
    "- 젤다의 전설 시리즈의 주인공, 링크\n",
    "- '도둑루피'만 가득한 N x N 크기의 동굴의 제일 왼쪽 위에 있다. [0][0]번 칸\n",
    "- 동굴의 반대편 출구, 제일 오른쪽 아래 칸인 [N-1][N-1]까지 이동해야 한다.\n",
    "- 동굴의 각 칸마다 도둑루피가 있는데, 이 칸을 지나면 해당 도둑루피의 크기만큼 소지금을 잃게 된다.\n",
    "- 한 번에 상하좌우 인접한 곳으로 1칸씩 이동할 수 있다.\n",
    "- **잃는 금액을 최소로 하여 동굴 건너편까지 이동**\n",
    "\n",
    "- 입력\n",
    "    - 입력은 여러 개의 테스트 케이스로 이루어져 있다.\n",
    "    - 각 테스트 케이스의 \n",
    "    - 첫째 줄에는 동굴의 크기를 나타내는 정수 N (2 ≤ N ≤ 125) \n",
    "    - N = 0인 입력이 주어지면 전체 입력이 종료된다.\n",
    "    - N개의 줄에 걸쳐 동굴의 각 칸에 있는 도둑루피의 크기가 주어진다.\n",
    "    - 모든 정수는 0 이상 9 이하인 한 자리 수다.\n",
    "\n",
    "- 출력\n",
    "    - 각 테스트 케이스마다 한 줄에 걸쳐 정답을 형식에 맞춰서 출력\n",
    "    \n"
   ]
  },
  {
   "cell_type": "code",
   "execution_count": 4,
   "id": "871e6339",
   "metadata": {},
   "outputs": [
    {
     "name": "stdout",
     "output_type": "stream",
     "text": [
      "3\n",
      "5 5 4\n",
      "3 9 1\n",
      "3 2 7\n",
      "[[5, 10, 14], [8, 17, 15], [11, 13, 20]]\n",
      "20\n"
     ]
    }
   ],
   "source": [
    "## 핵심\n",
    "# 1. 각 칸을 graph의 가중치로 본다.\n",
    "# 2. distances 배열의 의미는 특정점까지 가는데의 최소 비용이다. => 2차원 배열로\n",
    "import heapq\n",
    "INF = 1e9\n",
    "\n",
    "N = int(input())\n",
    "graph = []\n",
    "distances = [[INF]*N for _ in range(N)] # 각 (x, y) 까지의 최소 distances\n",
    "for _ in range(N):\n",
    "    line = list(map(int, input().split()))\n",
    "    graph.append(line)\n",
    "\n",
    "# 우, 왼, 하, 상\n",
    "dx = [1, -1, 0, 0]\n",
    "dy = [0, 0, 1, -1]\n",
    "\n",
    "# 처음 초기화 (heapq, distances)\n",
    "queue = []\n",
    "heapq.heappush(queue, (graph[0][0], 0, 0)) # cost, y, x\n",
    "distances[0][0] = graph[0][0]\n",
    "\n",
    "while queue:\n",
    "    now_dist, y, x = heapq.heappop(queue)\n",
    "    if distances[y][x] < now_dist:\n",
    "        continue\n",
    "    for i in range(4): # 사실상 graph node 순환역할 대신\n",
    "        nx = x + dx[i]\n",
    "        ny = y + dy[i]\n",
    "        if nx < 0 or ny <0 or nx >= N or ny >= N :\n",
    "            continue\n",
    "        cost = now_dist + graph[ny][nx]\n",
    "        if cost < distances[ny][nx]:\n",
    "            distances[ny][nx] = cost\n",
    "            heapq.heappush(queue, (cost, ny, nx))\n",
    "print(distances)\n",
    "print(distances[N-1][N-1])"
   ]
  },
  {
   "cell_type": "markdown",
   "id": "ca031229",
   "metadata": {},
   "source": [
    "## 백준 제출용"
   ]
  },
  {
   "cell_type": "code",
   "execution_count": 17,
   "id": "ff655cd5",
   "metadata": {},
   "outputs": [
    {
     "name": "stdout",
     "output_type": "stream",
     "text": [
      "3\n",
      "5 5 4\n",
      "3 9 1\n",
      "3 2 7\n",
      "Problem 1: 20\n",
      "5\n",
      "3 7 2 0 1\n",
      "2 8 0 9 1\n",
      "1 2 1 8 1\n",
      "9 8 9 2 0\n",
      "3 6 5 1 5\n",
      "Problem 2: 19\n",
      "7\n",
      "9 0 5 1 1 5 3\n",
      "4 1 2 1 6 5 3\n",
      "0 7 6 1 6 8 5\n",
      "1 1 7 8 3 2 3\n",
      "9 4 0 7 6 4 1\n",
      "5 8 3 2 4 8 3\n",
      "7 4 8 4 8 3 4\n",
      "Problem 3: 36\n",
      "0\n"
     ]
    }
   ],
   "source": [
    "import heapq\n",
    "INF = 1e9\n",
    "\n",
    "# 우, 왼, 하, 상\n",
    "dx = [1, -1, 0, 0]\n",
    "dy = [0, 0, 1, -1]\n",
    "\n",
    "count = 1\n",
    "while True:\n",
    "    N = int(input())\n",
    "    if N==0:\n",
    "        break\n",
    "    graph = [list(map(int, input().split())) for _ in range(N)]\n",
    "    distances = [[INF]*N for _ in range(N)] # 각 (x, y) 까지의 최소 distances\n",
    "    # 처음 초기화 (heapq, distances)\n",
    "    queue = []\n",
    "    heapq.heappush(queue, (graph[0][0], 0, 0)) # cost, y, x\n",
    "    distances[0][0] = graph[0][0]\n",
    "    while queue:\n",
    "        now_dist, y, x = heapq.heappop(queue)\n",
    "        if distances[y][x] < now_dist:\n",
    "            continue\n",
    "        for i in range(4): # 사실상 graph node 순환역할 대신\n",
    "            nx = x + dx[i]\n",
    "            ny = y + dy[i]\n",
    "            if nx < 0 or ny <0 or nx >= N or ny >= N :\n",
    "                continue\n",
    "            cost = now_dist + graph[ny][nx]\n",
    "            if cost < distances[ny][nx]:\n",
    "                distances[ny][nx] = cost\n",
    "                heapq.heappush(queue, (cost, ny, nx))\n",
    "    print(f\"Problem {count}: {distances[N-1][N-1]}\")\n",
    "    count+=1"
   ]
  },
  {
   "cell_type": "code",
   "execution_count": null,
   "id": "7500e0e6",
   "metadata": {},
   "outputs": [],
   "source": [
    "### 입력\n",
    "# 3\n",
    "# 5 5 4\n",
    "# 3 9 1\n",
    "# 3 2 7\n",
    "\n",
    "# 5\n",
    "# 3 7 2 0 1\n",
    "# 2 8 0 9 1\n",
    "# 1 2 1 8 1\n",
    "# 9 8 9 2 0\n",
    "# 3 6 5 1 5\n",
    "\n",
    "# 7\n",
    "# 9 0 5 1 1 5 3\n",
    "# 4 1 2 1 6 5 3\n",
    "# 0 7 6 1 6 8 5\n",
    "# 1 1 7 8 3 2 3\n",
    "# 9 4 0 7 6 4 1\n",
    "# 5 8 3 2 4 8 3\n",
    "# 7 4 8 4 8 3 4\n",
    "\n",
    "# 0\n",
    "\n",
    "### 출력\n",
    "# Problem 1: 20\n",
    "# Problem 2: 19\n",
    "# Problem 3: 36"
   ]
  }
 ],
 "metadata": {
  "kernelspec": {
   "display_name": "Python 3",
   "language": "python",
   "name": "python3"
  },
  "language_info": {
   "codemirror_mode": {
    "name": "ipython",
    "version": 3
   },
   "file_extension": ".py",
   "mimetype": "text/x-python",
   "name": "python",
   "nbconvert_exporter": "python",
   "pygments_lexer": "ipython3",
   "version": "3.8.5"
  }
 },
 "nbformat": 4,
 "nbformat_minor": 5
}
