{
 "cells": [
  {
   "cell_type": "markdown",
   "id": "53e3d6f3",
   "metadata": {},
   "source": [
    "## DFS 안전영역 \n",
    "- 맵에 값은 해당 영역의 높이를 가짐\n",
    "- 비가 오면 해당 비 값 이하의 영역들은 모두 잠김\n",
    "- 높이 정보가 주어졌을 때 살아남는 영역의 갯수가 최대인 경우\n",
    "\n",
    "- error\n",
    "    - recursive error : 서로 멈춤이 없어서 계쏙 호출함.\n",
    "- 재귀 제한\n",
    "    - sys.setrecursionlimit(10**8)"
   ]
  },
  {
   "cell_type": "code",
   "execution_count": 26,
   "id": "606d8f19",
   "metadata": {},
   "outputs": [
    {
     "name": "stdout",
     "output_type": "stream",
     "text": [
      "5\n",
      "6 8 2 6 2\n",
      "3 2 3 4 6\n",
      "6 7 3 3 2\n",
      "7 2 5 3 6\n",
      "8 9 5 2 7\n"
     ]
    },
    {
     "data": {
      "text/plain": [
       "[[6, 8, 2, 6, 2],\n",
       " [3, 2, 3, 4, 6],\n",
       " [6, 7, 3, 3, 2],\n",
       " [7, 2, 5, 3, 6],\n",
       " [8, 9, 5, 2, 7]]"
      ]
     },
     "execution_count": 26,
     "metadata": {},
     "output_type": "execute_result"
    }
   ],
   "source": [
    "import copy\n",
    "\n",
    "N = int(input())\n",
    "graph = []\n",
    "visit = [[False] * N for i in range(N)]\n",
    "\n",
    "for i in range(N):\n",
    "    graph.append(list(map(int, input().split())))\n",
    "    \n",
    "graph1 = copy.deepcopy(graph)\n",
    "graph"
   ]
  },
  {
   "cell_type": "markdown",
   "id": "a4b48be2",
   "metadata": {},
   "source": [
    "## 배열 초기화"
   ]
  },
  {
   "cell_type": "code",
   "execution_count": 56,
   "id": "7c662fde",
   "metadata": {},
   "outputs": [
    {
     "data": {
      "text/plain": [
       "[[6, 8, 2, 6, 2],\n",
       " [3, 2, 3, 4, 6],\n",
       " [6, 7, 3, 3, 2],\n",
       " [7, 2, 5, 3, 6],\n",
       " [8, 9, 5, 2, 7]]"
      ]
     },
     "execution_count": 56,
     "metadata": {},
     "output_type": "execute_result"
    }
   ],
   "source": [
    "# 5\n",
    "# 6 8 2 6 2\n",
    "# 3 2 3 4 6\n",
    "# 6 7 3 3 2\n",
    "# 7 2 5 3 6\n",
    "# 8 9 5 2 7\n",
    "visit = [[False] * N for i in range(N)]\n",
    "graph = copy.deepcopy(graph1)\n",
    "graph\n"
   ]
  },
  {
   "cell_type": "code",
   "execution_count": 57,
   "id": "cc96166a",
   "metadata": {},
   "outputs": [],
   "source": [
    "def dfs(y,x,value):\n",
    "    if x<0 or y<0 or x>=N or y>=N:\n",
    "        return False\n",
    "    if visit[y][x] == True:\n",
    "        return False\n",
    "    if graph[y][x] > value:\n",
    "        visit[y][x] = True\n",
    "        dfs(y, x-1, value)\n",
    "        dfs(y, x+1, value)\n",
    "        dfs(y-1, x, value)\n",
    "        dfs(y+1, x, value)\n",
    "        return True\n",
    "    return False"
   ]
  },
  {
   "cell_type": "code",
   "execution_count": 62,
   "id": "e864923b",
   "metadata": {},
   "outputs": [
    {
     "name": "stdout",
     "output_type": "stream",
     "text": [
      "6\n"
     ]
    }
   ],
   "source": [
    "num_list = []\n",
    "max_value = max(max(graph))\n",
    "for k in range(0, max_value):\n",
    "    visit = [[False] * N for _ in range(N)] # 방문 맵 초기화!!\n",
    "    count = 0\n",
    "    for i in range(N):\n",
    "        for j in range(N):\n",
    "            if dfs(i, j, k) == True:\n",
    "                count+=1\n",
    "    num_list.append(count)\n",
    "print(max(num_list))"
   ]
  },
  {
   "cell_type": "markdown",
   "id": "497dff89",
   "metadata": {},
   "source": [
    "## 제출용"
   ]
  },
  {
   "cell_type": "code",
   "execution_count": 66,
   "id": "31b5d992",
   "metadata": {},
   "outputs": [
    {
     "name": "stdout",
     "output_type": "stream",
     "text": [
      "7\n",
      "9 9 9 9 9 9 9\n",
      "9 2 1 2 1 2 9\n",
      "9 1 8 7 8 1 9\n",
      "9 2 7 9 7 2 9\n",
      "9 1 8 7 8 1 9\n",
      "9 2 1 2 1 2 9\n",
      "9 9 9 9 9 9 9\n",
      "6\n"
     ]
    }
   ],
   "source": [
    "import copy\n",
    "import sys\n",
    "sys.setrecursionlimit(10**8)\n",
    "\n",
    "N = int(input())\n",
    "graph = []\n",
    "\n",
    "for i in range(N):\n",
    "    graph.append(list(map(int, input().split())))\n",
    "\n",
    "def dfs(y,x,value):\n",
    "    if x<0 or y<0 or x>=N or y>=N:\n",
    "        return False\n",
    "    if visit[y][x] == True:\n",
    "        return False\n",
    "    if graph[y][x] > value:\n",
    "        visit[y][x] = True\n",
    "        dfs(y, x-1, value)\n",
    "        dfs(y, x+1, value)\n",
    "        dfs(y-1, x, value)\n",
    "        dfs(y+1, x, value)\n",
    "        return True\n",
    "    return False\n",
    "\n",
    "num_list = []\n",
    "max_value = max(max(graph))\n",
    "for k in range(0, max_value):\n",
    "    visit = [[False] * N for _ in range(N)]\n",
    "    count = 0\n",
    "    for i in range(N):\n",
    "        for j in range(N):\n",
    "            if dfs(i, j, k) == True:\n",
    "                count+=1\n",
    "    num_list.append(count)\n",
    "print(max(num_list))"
   ]
  }
 ],
 "metadata": {
  "kernelspec": {
   "display_name": "Python 3",
   "language": "python",
   "name": "python3"
  },
  "language_info": {
   "codemirror_mode": {
    "name": "ipython",
    "version": 3
   },
   "file_extension": ".py",
   "mimetype": "text/x-python",
   "name": "python",
   "nbconvert_exporter": "python",
   "pygments_lexer": "ipython3",
   "version": "3.8.5"
  }
 },
 "nbformat": 4,
 "nbformat_minor": 5
}
