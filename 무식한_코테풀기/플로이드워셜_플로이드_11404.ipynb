{
 "cells": [
  {
   "cell_type": "markdown",
   "id": "9aeb0f47",
   "metadata": {},
   "source": [
    "## 플로이드 (유사 버스 문제)\n",
    "- 문제\n",
    "    - n(2 ≤ n ≤ 100)개의 도시\n",
    "    - 한 도시에서 출발하여 다른 도시에 도착하는 m(1 ≤ m ≤ 100,000)개의 버스\n",
    "    - 각 버스는 한 번 사용할 때 필요한 비용이 있다.\n",
    "\n",
    "    - 모든 도시의 쌍 (A, B)에 대해서 도시 A에서 B로 가는데 필요한 비용의 최솟값을 구하는 프로그램을 작성\n",
    "\n",
    "- 입력\n",
    "    - 첫째 줄에 도시의 개수 n\n",
    "    - 둘째 줄에는 버스의 개수 m\n",
    "    - 셋째 줄부터 m+2줄까지 다음과 같은 버스의 정보\n",
    "        - 버스의 시작 도시 a, 도착 도시 b, 한 번 타는데 필요한 비용 c\n",
    "        - 시작 도시와 도착 도시가 같은 경우는 없다.\n",
    "        - 비용은 100,000보다 작거나 같은 자연수이다.\n",
    "\n",
    "    - 시작 도시와 도착 도시를 연결하는 노선은 하나가 아닐 수 있다.\n",
    "\n",
    "- 출력\n",
    "    - n개의 줄을 출력\n",
    "    - i번째 줄에 출력하는 j번째 숫자는 도시 i에서 j로 가는데 필요한 최소 비용\n",
    "    - 만약, i에서 j로 갈 수 없는 경우에는 그 자리에 0을 출력"
   ]
  },
  {
   "cell_type": "code",
   "execution_count": 2,
   "id": "b1a8b37e",
   "metadata": {},
   "outputs": [
    {
     "name": "stdout",
     "output_type": "stream",
     "text": [
      "5\n",
      "14\n",
      "1 2 2\n",
      "1 3 3\n",
      "1 4 1\n",
      "1 5 10\n",
      "2 4 2\n",
      "3 4 1\n",
      "3 5 1\n",
      "4 5 3\n",
      "3 5 10\n",
      "3 1 8\n",
      "1 4 2\n",
      "5 1 7\n",
      "3 4 2\n",
      "5 2 4\n",
      "0 2 3 1 4 \n",
      "12 0 15 2 5 \n",
      "8 5 0 1 1 \n",
      "10 7 13 0 3 \n",
      "7 4 10 6 0 \n"
     ]
    }
   ],
   "source": [
    "## 입력\n",
    "INF = 1e12\n",
    "N = int(input()) # 도시의 갯수\n",
    "M = int(input()) # 버스의 갯수\n",
    "graph = [[INF] * (N+1) for _ in range(N+1)]\n",
    "\n",
    "# 0, 0 자기 자신 초기화\n",
    "for i in range(1, N+1):\n",
    "    graph[i][i] = 0\n",
    "\n",
    "for _ in range(M):\n",
    "    a,b,c = map(int, input().split())\n",
    "    ############ 여기 중요!!!!!!!! 함정\n",
    "    # 새로 입력받은 c가 기존값보다 작을 때 넣음.\n",
    "    if c < graph[a][b]:\n",
    "        graph[a][b] = c\n",
    "\n",
    "# 버스 최단거리 각 도시별 최적화\n",
    "for temp in range(1, N+1): # temp\n",
    "    for a in range(1, N+1):\n",
    "        for b in range(1, N+1):\n",
    "            graph[a][b] = min(graph[a][b], graph[a][temp] + graph[temp][b])\n",
    "\n",
    "# main 문\n",
    "result = [line[1:] for line in graph[1:]] # 1열 1행부터~\n",
    "\n",
    "for row in result:\n",
    "    for col in row:\n",
    "        if col == INF:\n",
    "            print(0, end=' ')\n",
    "        else:\n",
    "            print(col, end = ' ')\n",
    "    print()"
   ]
  },
  {
   "cell_type": "code",
   "execution_count": null,
   "id": "f1426ed8",
   "metadata": {},
   "outputs": [],
   "source": [
    "# # 입력\n",
    "# 5\n",
    "# 14\n",
    "# 1 2 2\n",
    "# 1 3 3\n",
    "# 1 4 1\n",
    "# 1 5 10\n",
    "# 2 4 2\n",
    "# 3 4 1\n",
    "# 3 5 1\n",
    "# 4 5 3\n",
    "# 3 5 10\n",
    "# 3 1 8\n",
    "# 1 4 2\n",
    "# 5 1 7\n",
    "# 3 4 2\n",
    "# 5 2 4\n",
    "\n",
    "# # 출력\n",
    "# 0 2 3 1 4\n",
    "# 12 0 15 2 5\n",
    "# 8 5 0 1 1\n",
    "# 10 7 13 0 3\n",
    "# 7 4 10 6 0"
   ]
  }
 ],
 "metadata": {
  "kernelspec": {
   "display_name": "Python 3",
   "language": "python",
   "name": "python3"
  },
  "language_info": {
   "codemirror_mode": {
    "name": "ipython",
    "version": 3
   },
   "file_extension": ".py",
   "mimetype": "text/x-python",
   "name": "python",
   "nbconvert_exporter": "python",
   "pygments_lexer": "ipython3",
   "version": "3.8.5"
  }
 },
 "nbformat": 4,
 "nbformat_minor": 5
}
