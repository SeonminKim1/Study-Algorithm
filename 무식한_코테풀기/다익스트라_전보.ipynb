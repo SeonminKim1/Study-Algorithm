{
 "cells": [
  {
   "cell_type": "markdown",
   "id": "da9c4539",
   "metadata": {},
   "source": [
    "## N개의 도시\n",
    "- 각 도시의 번호와 통로가 설치되어 있는 정보가 주어졌을 때, 도시 c에서 보낸 메시지를 받게 되는 도시의 갯수 및 모두 메시지를 받는데 걸리는 시간은?"
   ]
  },
  {
   "cell_type": "code",
   "execution_count": 6,
   "id": "cf29139c",
   "metadata": {},
   "outputs": [
    {
     "name": "stdout",
     "output_type": "stream",
     "text": [
      "3 2 1 \n",
      "1 2 4\n",
      "1 3 2\n",
      "[[], [(2, 4), (3, 2)], [], []]\n",
      "[1000000000.0, 1000000000.0, 1000000000.0, 1000000000.0]\n"
     ]
    }
   ],
   "source": [
    "import heapq\n",
    "\n",
    "INF = 1e9\n",
    "\n",
    "# 노드의 갯수, 간선의 갯수, 시작 노드 입력받기\n",
    "N, M, start = map(int, input().split())\n",
    "\n",
    "# 각 노드에 연결되어 있는 노드에 대한 정보 담는 리스트 만들기\n",
    "graph = [[] for i in range(N+1)] \n",
    "\n",
    "# 최단 거리 테이블 모두 무한으로 초기화\n",
    "distance = [INF]* (N+1)\n",
    "\n",
    "# x노드에서 y노드로 가는데 z소요\n",
    "for _ in range(M):\n",
    "    x, y, z = map(int, input().split())\n",
    "    graph[x].append((y,z))\n",
    "\n",
    "print(graph)\n",
    "print(distance)"
   ]
  },
  {
   "cell_type": "code",
   "execution_count": 7,
   "id": "1c229cd1",
   "metadata": {},
   "outputs": [
    {
     "name": "stdout",
     "output_type": "stream",
     "text": [
      "[[], [(2, 4), (3, 2)], [], []]\n",
      "[1000000000.0, 0, 4, 2]\n"
     ]
    }
   ],
   "source": [
    "\n",
    "def dijkstra(start):\n",
    "    queue = []\n",
    "    heapq.heappush(queue, (0, start))\n",
    "    distance[start] = 0\n",
    "    while queue:\n",
    "        dist, now_node = heapq.heappop(queue) # (0, 1) 나옴.\n",
    "        if distance[now_node] < dist:\n",
    "            continue\n",
    "        # 현재 노드와 연결된 다른 인접 노드 확인\n",
    "        for k in graph[now_node]: # k는 tuple 들이 나옴 (y노드까지가는데 z소요)\n",
    "            cost = dist + k[1] # 현재값 + z\n",
    "            # 현재 노드를 거쳐, 다른 노드로 이동하는 거리가 더 짧은 경우\n",
    "            if cost < distance[k[0]]: # cost가 기존 distance보다 작을 때\n",
    "                distance[k[0]] = cost # 최단거리 발견한거니 distance 수정\n",
    "                heapq.heappush(queue, (cost, k[0])) # heappush 노드 수정\n",
    "\n",
    "dijkstra(start)\n",
    "\n",
    "# 요약\n",
    "# graph는 이차원 배열 x에서 y로 가는데 z소요\n",
    "# distance는 최단 거리 1차원 배열\n",
    "# heapq는 (dist, 노드)로 현 시점에 가장 작은 dist를 가진 원소를 뽑기 위함.\n",
    "print(graph)\n",
    "print(distance)"
   ]
  },
  {
   "cell_type": "markdown",
   "id": "3124f853",
   "metadata": {},
   "source": [
    "## 핵심 요약\n",
    "- graph는 이차원 배열 x에서 y로 가는데 z소요\n",
    "- distance는 최단 거리 1차원 배열\n",
    "- heapq는 (dist, 노드)로 현 시점에 가장 작은 dist를 가진 원소를 뽑기 위함."
   ]
  },
  {
   "cell_type": "markdown",
   "id": "712fd767",
   "metadata": {},
   "source": [
    "## Main\n",
    "- 구하고자 하는 것\n",
    "    - 도시 c에서 보낸 메시지를 받게 되는 도시의 갯수 ==> distance INF 아닌 것\n",
    "    - 모두 메시지를 받는데 걸리는 시간은? ==> distance 배열 중 가장 Max 인 것"
   ]
  },
  {
   "cell_type": "code",
   "execution_count": 11,
   "id": "52e2a69c",
   "metadata": {},
   "outputs": [
    {
     "name": "stdout",
     "output_type": "stream",
     "text": [
      "2 4\n"
     ]
    }
   ],
   "source": [
    "## \n",
    "count = 0 # 도달할 수 있는 노드 갯수\n",
    "max_distance = 0 # 도달할 수 있는 노드 중 가장 멀리 있는 노드와의 최단 거리\n",
    "for d in distance:\n",
    "    # 도달할 수 있는 노드인 경우 = INF 가 아닌 것들\n",
    "    if d != INF:\n",
    "        count +=1\n",
    "        max_distance = max(max_distance, d)\n",
    "        \n",
    "# 시작 노드 갯수 제외 count -1\n",
    "print(count -1, max_distance) "
   ]
  }
 ],
 "metadata": {
  "kernelspec": {
   "display_name": "Python 3",
   "language": "python",
   "name": "python3"
  },
  "language_info": {
   "codemirror_mode": {
    "name": "ipython",
    "version": 3
   },
   "file_extension": ".py",
   "mimetype": "text/x-python",
   "name": "python",
   "nbconvert_exporter": "python",
   "pygments_lexer": "ipython3",
   "version": "3.8.5"
  }
 },
 "nbformat": 4,
 "nbformat_minor": 5
}
