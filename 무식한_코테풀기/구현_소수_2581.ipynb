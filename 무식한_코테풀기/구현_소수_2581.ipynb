{
 "cells": [
  {
   "cell_type": "markdown",
   "id": "0d26074d",
   "metadata": {},
   "source": [
    "## 소수\n",
    "- 자연수 M과 N이 주어질 때 M이상 N이하의 자연수 중 소수인 것을 모두 골라 이들 소수의 합과 최솟값을 찾는 프로그램을 작성\n",
    "- ex) M=60, N=100 => 소수는 61, 67, 71, 73, 79, 83, 89, 97 총 8개, 소수의 합은 620, 최솟값은 61\n"
   ]
  },
  {
   "cell_type": "code",
   "execution_count": 4,
   "id": "c4071e09",
   "metadata": {},
   "outputs": [
    {
     "name": "stdout",
     "output_type": "stream",
     "text": [
      "60\n",
      "100\n",
      "620\n",
      "61\n"
     ]
    }
   ],
   "source": [
    "M = int(input())\n",
    "N = int(input())\n",
    "\n",
    "def isprime(x):\n",
    "    if x==1:\n",
    "        return False\n",
    "    for j in range(2, x-1):\n",
    "        if x%j == 0:\n",
    "            return False\n",
    "    return True\n",
    "\n",
    "prime_list = []\n",
    "for n in range(M, N+1):\n",
    "    if isprime(n) == True:\n",
    "        prime_list.append(n)\n",
    "\n",
    "if prime_list == []:\n",
    "    print(-1)\n",
    "else:\n",
    "    print(sum(prime_list))\n",
    "    print(prime_list[0])"
   ]
  }
 ],
 "metadata": {
  "kernelspec": {
   "display_name": "Python 3",
   "language": "python",
   "name": "python3"
  },
  "language_info": {
   "codemirror_mode": {
    "name": "ipython",
    "version": 3
   },
   "file_extension": ".py",
   "mimetype": "text/x-python",
   "name": "python",
   "nbconvert_exporter": "python",
   "pygments_lexer": "ipython3",
   "version": "3.8.5"
  }
 },
 "nbformat": 4,
 "nbformat_minor": 5
}
